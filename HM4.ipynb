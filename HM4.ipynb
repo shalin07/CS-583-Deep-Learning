{
  "nbformat": 4,
  "nbformat_minor": 0,
  "metadata": {
    "kernelspec": {
      "name": "python3",
      "display_name": "Python 3"
    },
    "language_info": {
      "codemirror_mode": {
        "name": "ipython",
        "version": 3
      },
      "file_extension": ".py",
      "mimetype": "text/x-python",
      "name": "python",
      "nbconvert_exporter": "python",
      "pygments_lexer": "ipython3",
      "version": "3.7.3"
    },
    "colab": {
      "name": "HM4.ipynb",
      "provenance": [],
      "include_colab_link": true
    },
    "accelerator": "GPU"
  },
  "cells": [
    {
      "cell_type": "markdown",
      "metadata": {
        "id": "view-in-github",
        "colab_type": "text"
      },
      "source": [
        "<a href=\"https://colab.research.google.com/github/shalin07/CS-583-Deep-Learning/blob/master/HM4.ipynb\" target=\"_parent\"><img src=\"https://colab.research.google.com/assets/colab-badge.svg\" alt=\"Open In Colab\"/></a>"
      ]
    },
    {
      "cell_type": "markdown",
      "metadata": {
        "id": "YbdYyIsAIAic",
        "colab_type": "text"
      },
      "source": [
        "# Home 4: Build a seq2seq model for machine translation.\n",
        "\n",
        "### Name: [Shalin Barot]\n",
        "\n",
        "### Task: Translate English to [French]"
      ]
    },
    {
      "cell_type": "markdown",
      "metadata": {
        "id": "cfAKLRwiIAie",
        "colab_type": "text"
      },
      "source": [
        "## 0. You will do the following:\n",
        "\n",
        "1. Read and run my code.\n",
        "2. Complete the code in Section 1.1 and Section 4.2.\n",
        "\n",
        "    * Translation English to **German** is not acceptable!!! Try another language.\n",
        "    \n",
        "3. **Make improvements.** Directly modify the code in Section 3. Do at least one of the followings. By doing more, you will get up to 2 bonus scores to the total.\n",
        "\n",
        "    * Bi-LSTM instead of LSTM\n",
        "    \n",
        "    * Multi-task learning (e.g., both English to French and English to Spanish)\n",
        "    \n",
        "    * Attention\n",
        "    \n",
        "4. Evaluate the translation using the BLEU score. \n",
        "\n",
        "    * Optional. Up to 1 bonus scores to the total.\n",
        "    \n",
        "5. Convert the notebook to .HTML file. \n",
        "\n",
        "    * The HTML file must contain the code and the output after execution.\n",
        "\n",
        "6. Put the .HTML file in your Google Drive, Dropbox, or Github repo. \n",
        "\n",
        "7. Submit the link to the HTML file to Canvas.    \n"
      ]
    },
    {
      "cell_type": "markdown",
      "metadata": {
        "id": "xd4ds_QuIAif",
        "colab_type": "text"
      },
      "source": [
        "### Hint: \n",
        "\n",
        "To implement ```Bi-LSTM```, you will need the following code to build the encoder; the decoder won't be much different."
      ]
    },
    {
      "cell_type": "code",
      "metadata": {
        "id": "2pz_UC3YIAig",
        "colab_type": "code",
        "colab": {},
        "outputId": "277cd255-b8aa-4c11-91f7-93039701521f"
      },
      "source": [
        "from keras.layers import Bidirectional, Concatenate\n",
        "\n",
        "encoder_bilstm = Bidirectional(LSTM(latent_dim, return_state=True, \n",
        "                                  dropout=0.5, name='encoder_lstm'))\n",
        "_, forward_h, forward_c, backward_h, backward_c = encoder_bilstm(encoder_inputs)\n",
        "\n",
        "state_h = Concatenate()([forward_h, backward_h])\n",
        "state_c = Concatenate()([forward_c, backward_c])"
      ],
      "execution_count": 0,
      "outputs": [
        {
          "output_type": "stream",
          "text": [
            "Using TensorFlow backend.\n"
          ],
          "name": "stderr"
        }
      ]
    },
    {
      "cell_type": "markdown",
      "metadata": {
        "id": "7u5A5jqWIAik",
        "colab_type": "text"
      },
      "source": [
        "### Hint: \n",
        "\n",
        "To implement multi-task training, you can refer to ```Section 7.1.3 Multi-output models``` of the textbook, ```Deep Learning with Python```."
      ]
    },
    {
      "cell_type": "markdown",
      "metadata": {
        "id": "zGaIiPXoIAik",
        "colab_type": "text"
      },
      "source": [
        "## 1. Data preparation\n",
        "\n",
        "1. Download data (e.g., \"deu-eng.zip\") from http://www.manythings.org/anki/\n",
        "2. Unzip the .ZIP file.\n",
        "3. Put the .TXT file (e.g., \"deu.txt\") in the directory \"./Data/\"."
      ]
    },
    {
      "cell_type": "markdown",
      "metadata": {
        "id": "tHTz3XBSIAil",
        "colab_type": "text"
      },
      "source": [
        "### 1.1. Load and clean text\n"
      ]
    },
    {
      "cell_type": "code",
      "metadata": {
        "id": "mHhR-Q-QIAil",
        "colab_type": "code",
        "colab": {}
      },
      "source": [
        "import re\n",
        "import string\n",
        "from unicodedata import normalize\n",
        "import numpy\n",
        "\n",
        "# load doc into memory\n",
        "def load_doc(filename):\n",
        "    # open the file as read only\n",
        "    file = open(filename, mode='rt', encoding='utf-8')\n",
        "    # read all text\n",
        "    text = file.read()\n",
        "    # close the file\n",
        "    file.close()\n",
        "    return text\n",
        "\n",
        "\n",
        "# split a loaded document into sentences\n",
        "def to_pairs(doc):\n",
        "    lines = doc.strip().split('\\n')\n",
        "    pairs = [line.split('\\t') for line in  lines]\n",
        "    return pairs\n",
        "\n",
        "def clean_data(lines):\n",
        "    cleaned = list()\n",
        "    # prepare regex for char filtering\n",
        "    re_print = re.compile('[^%s]' % re.escape(string.printable))\n",
        "    # prepare translation table for removing punctuation\n",
        "    table = str.maketrans('', '', string.punctuation)\n",
        "    for pair in lines:\n",
        "        clean_pair = list()\n",
        "        for line in pair:\n",
        "            # normalize unicode characters\n",
        "            line = normalize('NFD', line).encode('ascii', 'ignore')\n",
        "            line = line.decode('UTF-8')\n",
        "            # tokenize on white space\n",
        "            line = line.split()\n",
        "            # convert to lowercase\n",
        "            line = [word.lower() for word in line]\n",
        "            # remove punctuation from each token\n",
        "            line = [word.translate(table) for word in line]\n",
        "            # remove non-printable chars form each token\n",
        "            line = [re_print.sub('', w) for w in line]\n",
        "            # remove tokens with numbers in them\n",
        "            line = [word for word in line if word.isalpha()]\n",
        "            # store as string\n",
        "            clean_pair.append(' '.join(line))\n",
        "        cleaned.append(clean_pair)\n",
        "    return numpy.array(cleaned)"
      ],
      "execution_count": 0,
      "outputs": []
    },
    {
      "cell_type": "markdown",
      "metadata": {
        "id": "faHmrRTQIAin",
        "colab_type": "text"
      },
      "source": [
        "#### Fill the following blanks:"
      ]
    },
    {
      "cell_type": "code",
      "metadata": {
        "id": "21cJ4p0FIAio",
        "colab_type": "code",
        "colab": {}
      },
      "source": [
        "# e.g., filename = 'Data/deu.txt'\n",
        "filename = 'fra.txt'\n",
        "\n",
        "# e.g., n_train = 20000\n",
        "n_train = 20000"
      ],
      "execution_count": 0,
      "outputs": []
    },
    {
      "cell_type": "code",
      "metadata": {
        "id": "cmog9VL7IAip",
        "colab_type": "code",
        "colab": {}
      },
      "source": [
        "import random\n",
        "\n",
        "\n",
        "# load dataset\n",
        "doc = load_doc(filename)\n",
        "\n",
        "# split into Language1-Language2 pairs\n",
        "pairs = to_pairs(doc)\n",
        "\n",
        "# clean sentences\n",
        "clean_pairs = clean_data(pairs)[0:n_train, :]\n",
        "random.shuffle(clean_pairs)"
      ],
      "execution_count": 0,
      "outputs": []
    },
    {
      "cell_type": "code",
      "metadata": {
        "id": "50jxu2zjIAir",
        "colab_type": "code",
        "colab": {
          "base_uri": "https://localhost:8080/",
          "height": 191
        },
        "outputId": "87539b22-6dfa-4066-fbdf-da93a4ea752b"
      },
      "source": [
        "for i in range(3000, 3010):\n",
        "    print('[' + clean_pairs[i, 0] + '] => [' + clean_pairs[i, 1] + ']')"
      ],
      "execution_count": 4,
      "outputs": [
        {
          "output_type": "stream",
          "text": [
            "[id accept] => [jaccepterais]\n",
            "[go home now] => [va chez nous maintenant]\n",
            "[they obeyed] => [elles ont obei]\n",
            "[i got hot] => [je me suis mis a avoir chaud]\n",
            "[go home now] => [allez chez vous maintenant]\n",
            "[drive on] => [avance]\n",
            "[im reading] => [je lis]\n",
            "[i cringed] => [jeus un mouvement de recul]\n",
            "[i cant go] => [je ne peux pas partir]\n",
            "[loosen up] => [detendstoi]\n"
          ],
          "name": "stdout"
        }
      ]
    },
    {
      "cell_type": "code",
      "metadata": {
        "id": "7jQI_Q0XIAiu",
        "colab_type": "code",
        "colab": {
          "base_uri": "https://localhost:8080/",
          "height": 52
        },
        "outputId": "fed4e602-1e5d-4d69-c4df-904b7fc0b1be"
      },
      "source": [
        "input_texts = clean_pairs[:, 0]\n",
        "target_texts = ['\\t' + text + '\\n' for text in clean_pairs[:, 1]]\n",
        "\n",
        "print('Length of input_texts:  ' + str(input_texts.shape))\n",
        "print('Length of target_texts: ' + str(input_texts.shape))"
      ],
      "execution_count": 5,
      "outputs": [
        {
          "output_type": "stream",
          "text": [
            "Length of input_texts:  (20000,)\n",
            "Length of target_texts: (20000,)\n"
          ],
          "name": "stdout"
        }
      ]
    },
    {
      "cell_type": "code",
      "metadata": {
        "id": "IBw5WkniIAiw",
        "colab_type": "code",
        "colab": {
          "base_uri": "https://localhost:8080/",
          "height": 52
        },
        "outputId": "1d506c90-67c1-422d-bcce-b4b0b97144c5"
      },
      "source": [
        "max_encoder_seq_length = max(len(line) for line in input_texts)\n",
        "max_decoder_seq_length = max(len(line) for line in target_texts)\n",
        "\n",
        "print('max length of input  sentences: %d' % (max_encoder_seq_length))\n",
        "print('max length of target sentences: %d' % (max_decoder_seq_length))"
      ],
      "execution_count": 6,
      "outputs": [
        {
          "output_type": "stream",
          "text": [
            "max length of input  sentences: 17\n",
            "max length of target sentences: 56\n"
          ],
          "name": "stdout"
        }
      ]
    },
    {
      "cell_type": "code",
      "metadata": {
        "id": "ITMsIBRjIAiy",
        "colab_type": "code",
        "colab": {}
      },
      "source": [
        "from sklearn.model_selection import train_test_split\n",
        "\n",
        "input_texts, input_test_texts = train_test_split(input_texts, test_size = 0.2,shuffle=False)\n",
        "target_texts, target_test_texts = train_test_split(target_texts, test_size = 0.2,shuffle=False)"
      ],
      "execution_count": 0,
      "outputs": []
    },
    {
      "cell_type": "code",
      "metadata": {
        "id": "wJV6wkqTIAi0",
        "colab_type": "code",
        "colab": {
          "base_uri": "https://localhost:8080/",
          "height": 364
        },
        "outputId": "9a589623-9e9d-4bca-b13f-693ad655eeb6"
      },
      "source": [
        "for i in range(3000, 3010):\n",
        "    print('['+ input_test_texts[i] +'] =>['+ target_test_texts[i] +']')"
      ],
      "execution_count": 8,
      "outputs": [
        {
          "output_type": "stream",
          "text": [
            "[thats icky] =>[\tcest gnangnan\n",
            "]\n",
            "[it was mandatory] =>[\tcetait obligatoire\n",
            "]\n",
            "[i feel empowered] =>[\tje me sens investi de pouvoir\n",
            "]\n",
            "[how nice] =>[\tcomme cest gentil\n",
            "]\n",
            "[im dying] =>[\tje me meurs\n",
            "]\n",
            "[what month is it] =>[\ten quel mois sommesnous\n",
            "]\n",
            "[come on admit it] =>[\tallez admettezle\n",
            "]\n",
            "[we were shocked] =>[\tnous avons ete choques\n",
            "]\n",
            "[how stupid of me] =>[\tcomme cest bete de ma part\n",
            "]\n",
            "[i am a muslim] =>[\tje suis musulman\n",
            "]\n"
          ],
          "name": "stdout"
        }
      ]
    },
    {
      "cell_type": "markdown",
      "metadata": {
        "id": "vYLVD5ECIAi2",
        "colab_type": "text"
      },
      "source": [
        "**Remark:** To this end, you have two lists of sentences: input_texts and target_texts"
      ]
    },
    {
      "cell_type": "markdown",
      "metadata": {
        "id": "kph_--nmIAi3",
        "colab_type": "text"
      },
      "source": [
        "## 2. Text processing\n",
        "\n",
        "### 2.1. Convert texts to sequences\n",
        "\n",
        "- Input: A list of $n$ sentences (with max length $t$).\n",
        "- It is represented by a $n\\times t$ matrix after the tokenization and zero-padding."
      ]
    },
    {
      "cell_type": "code",
      "metadata": {
        "id": "I7BdO6U9IAi3",
        "colab_type": "code",
        "colab": {
          "base_uri": "https://localhost:8080/",
          "height": 168
        },
        "outputId": "e22230b4-120a-4346-d3b6-7aee2806624f"
      },
      "source": [
        "from keras.preprocessing.text import Tokenizer\n",
        "from keras.preprocessing.sequence import pad_sequences\n",
        "\n",
        "# encode and pad sequences\n",
        "def text2sequences(max_len, lines):\n",
        "    tokenizer = Tokenizer(char_level=True, filters='')\n",
        "    tokenizer.fit_on_texts(lines)\n",
        "    seqs = tokenizer.texts_to_sequences(lines)\n",
        "    seqs_pad = pad_sequences(seqs, maxlen=max_len, padding='post')\n",
        "    return seqs_pad, tokenizer.word_index,tokenizer\n",
        "\n",
        "\n",
        "encoder_input_seq, input_token_index,tokenizer_input= text2sequences(max_encoder_seq_length, \n",
        "                                                      input_texts)\n",
        "decoder_input_seq, target_token_index, tokenizer_target= text2sequences(max_decoder_seq_length, \n",
        "                                                       target_texts)\n",
        "\n",
        "print('shape of encoder_input_seq: ' + str(encoder_input_seq.shape))\n",
        "print('shape of input_token_index: ' + str(len(input_token_index)))\n",
        "print('shape of decoder_input_seq: ' + str(decoder_input_seq.shape))\n",
        "print('shape of target_token_index: ' + str(len(target_token_index)))"
      ],
      "execution_count": 9,
      "outputs": [
        {
          "output_type": "stream",
          "text": [
            "Using TensorFlow backend.\n"
          ],
          "name": "stderr"
        },
        {
          "output_type": "display_data",
          "data": {
            "text/html": [
              "<p style=\"color: red;\">\n",
              "The default version of TensorFlow in Colab will soon switch to TensorFlow 2.x.<br>\n",
              "We recommend you <a href=\"https://www.tensorflow.org/guide/migrate\" target=\"_blank\">upgrade</a> now \n",
              "or ensure your notebook will continue to use TensorFlow 1.x via the <code>%tensorflow_version 1.x</code> magic:\n",
              "<a href=\"https://colab.research.google.com/notebooks/tensorflow_version.ipynb\" target=\"_blank\">more info</a>.</p>\n"
            ],
            "text/plain": [
              "<IPython.core.display.HTML object>"
            ]
          },
          "metadata": {
            "tags": []
          }
        },
        {
          "output_type": "stream",
          "text": [
            "shape of encoder_input_seq: (16000, 17)\n",
            "shape of input_token_index: 27\n",
            "shape of decoder_input_seq: (16000, 56)\n",
            "shape of target_token_index: 29\n"
          ],
          "name": "stdout"
        }
      ]
    },
    {
      "cell_type": "code",
      "metadata": {
        "id": "TSzDnIZaIAi5",
        "colab_type": "code",
        "colab": {
          "base_uri": "https://localhost:8080/",
          "height": 52
        },
        "outputId": "c0f6de55-6602-4d50-a87d-41ceeab3f52e"
      },
      "source": [
        "num_encoder_tokens = len(input_token_index) + 1\n",
        "num_decoder_tokens = len(target_token_index) + 1\n",
        "\n",
        "print('num_encoder_tokens: ' + str(num_encoder_tokens))\n",
        "print('num_decoder_tokens: ' + str(num_decoder_tokens))"
      ],
      "execution_count": 10,
      "outputs": [
        {
          "output_type": "stream",
          "text": [
            "num_encoder_tokens: 28\n",
            "num_decoder_tokens: 30\n"
          ],
          "name": "stdout"
        }
      ]
    },
    {
      "cell_type": "markdown",
      "metadata": {
        "id": "q01TxIEZIAi7",
        "colab_type": "text"
      },
      "source": [
        "**Remark:** To this end, the input language and target language texts are converted to 2 matrices. \n",
        "\n",
        "- Their number of rows are both n_train.\n",
        "- Their number of columns are respective max_encoder_seq_length and max_decoder_seq_length."
      ]
    },
    {
      "cell_type": "markdown",
      "metadata": {
        "id": "Tmkd2ScjIAi8",
        "colab_type": "text"
      },
      "source": [
        "The followings print a sentence and its representation as a sequence."
      ]
    },
    {
      "cell_type": "code",
      "metadata": {
        "id": "1HrqwelaIAi9",
        "colab_type": "code",
        "colab": {
          "base_uri": "https://localhost:8080/",
          "height": 35
        },
        "outputId": "b7bc6b24-0001-47fe-80ef-6229659b8def"
      },
      "source": [
        "target_texts[100]"
      ],
      "execution_count": 11,
      "outputs": [
        {
          "output_type": "execute_result",
          "data": {
            "text/plain": [
              "'\\tvasy maintenant\\n'"
            ]
          },
          "metadata": {
            "tags": []
          },
          "execution_count": 11
        }
      ]
    },
    {
      "cell_type": "code",
      "metadata": {
        "id": "v8oEU1A7IAi_",
        "colab_type": "code",
        "colab": {
          "base_uri": "https://localhost:8080/",
          "height": 87
        },
        "outputId": "2bce267c-40c3-483d-bcc1-3a64ad4ee548"
      },
      "source": [
        "decoder_input_seq[100, :]"
      ],
      "execution_count": 12,
      "outputs": [
        {
          "output_type": "execute_result",
          "data": {
            "text/plain": [
              "array([ 6, 19,  5,  3, 26,  2, 14,  5,  4, 10,  8,  1, 10,  5, 10,  8,  7,\n",
              "        0,  0,  0,  0,  0,  0,  0,  0,  0,  0,  0,  0,  0,  0,  0,  0,  0,\n",
              "        0,  0,  0,  0,  0,  0,  0,  0,  0,  0,  0,  0,  0,  0,  0,  0,  0,\n",
              "        0,  0,  0,  0,  0], dtype=int32)"
            ]
          },
          "metadata": {
            "tags": []
          },
          "execution_count": 12
        }
      ]
    },
    {
      "cell_type": "markdown",
      "metadata": {
        "id": "IRFSIAd1IAjB",
        "colab_type": "text"
      },
      "source": [
        "## 2.2. One-hot encode\n",
        "\n",
        "- Input: A list of $n$ sentences (with max length $t$).\n",
        "- It is represented by a $n\\times t$ matrix after the tokenization and zero-padding.\n",
        "- It is represented by a $n\\times t \\times v$ tensor ($t$ is the number of unique chars) after the one-hot encoding."
      ]
    },
    {
      "cell_type": "code",
      "metadata": {
        "id": "JIH3kRggIAjB",
        "colab_type": "code",
        "colab": {
          "base_uri": "https://localhost:8080/",
          "height": 52
        },
        "outputId": "e952d9eb-fbd8-4ecc-d44b-2d3c9874b14f"
      },
      "source": [
        "from keras.utils import to_categorical\n",
        "\n",
        "# one hot encode target sequence\n",
        "def onehot_encode(sequences, max_len, vocab_size):\n",
        "    n = len(sequences)\n",
        "    data = numpy.zeros((n, max_len, vocab_size))\n",
        "    for i in range(n):\n",
        "        data[i, :, :] = to_categorical(sequences[i], num_classes=vocab_size)\n",
        "    return data\n",
        "\n",
        "encoder_input_data = onehot_encode(encoder_input_seq, max_encoder_seq_length, num_encoder_tokens)\n",
        "decoder_input_data = onehot_encode(decoder_input_seq, max_decoder_seq_length, num_decoder_tokens)\n",
        "\n",
        "decoder_target_seq = numpy.zeros(decoder_input_seq.shape)\n",
        "decoder_target_seq[:, 0:-1] = decoder_input_seq[:, 1:]\n",
        "decoder_target_data = onehot_encode(decoder_target_seq, \n",
        "                                    max_decoder_seq_length, \n",
        "                                    num_decoder_tokens)\n",
        "\n",
        "print(encoder_input_data.shape)\n",
        "print(decoder_input_data.shape)"
      ],
      "execution_count": 13,
      "outputs": [
        {
          "output_type": "stream",
          "text": [
            "(16000, 17, 28)\n",
            "(16000, 56, 30)\n"
          ],
          "name": "stdout"
        }
      ]
    },
    {
      "cell_type": "markdown",
      "metadata": {
        "id": "tGAijnJ1IAjD",
        "colab_type": "text"
      },
      "source": [
        "## 3. Build the networks (for training)\n",
        "\n",
        "- Build encoder, decoder, and connect the two modules to get \"model\". \n",
        "\n",
        "- Fit the model on the bilingual data to train the parameters in the encoder and decoder."
      ]
    },
    {
      "cell_type": "markdown",
      "metadata": {
        "id": "qO-ONwcsIAjD",
        "colab_type": "text"
      },
      "source": [
        "### 3.1. Encoder network\n",
        "\n",
        "- Input:  one-hot encode of the input language\n",
        "\n",
        "- Return: \n",
        "\n",
        "    -- output (all the hidden states   $h_1, \\cdots , h_t$) are always discarded\n",
        "    \n",
        "    -- the final hidden state  $h_t$\n",
        "    \n",
        "    -- the final conveyor belt $c_t$"
      ]
    },
    {
      "cell_type": "code",
      "metadata": {
        "id": "qM5_9M_eIAjE",
        "colab_type": "code",
        "colab": {
          "base_uri": "https://localhost:8080/",
          "height": 228
        },
        "outputId": "aeca70f8-c7ea-437f-cbf4-43201d578185"
      },
      "source": [
        "from keras.layers import Input, LSTM\n",
        "from keras.models import Model\n",
        "from keras.layers import Bidirectional, Concatenate\n",
        "\n",
        "latent_dim = 256\n",
        "\n",
        "# inputs of the encoder network\n",
        "encoder_inputs = Input(shape=(None, num_encoder_tokens), \n",
        "                       name='encoder_inputs')\n",
        "\n",
        "\n",
        "from keras.layers import Bidirectional, Concatenate\n",
        "\n",
        "encoder_bilstm = Bidirectional(LSTM(latent_dim, return_state=True, \n",
        "                                  dropout=0.5, name='encoder_lstm'))\n",
        "_, forward_h, forward_c, backward_h, backward_c = encoder_bilstm(encoder_inputs)\n",
        "\n",
        "state_h = Concatenate()([forward_h, backward_h])\n",
        "state_c = Concatenate()([forward_c, backward_c])\n",
        "\n",
        "# build the encoder network model\n",
        "encoder_model = Model(inputs=encoder_inputs, \n",
        "                      outputs=[state_h, state_c],\n",
        "                      name='encoder')"
      ],
      "execution_count": 14,
      "outputs": [
        {
          "output_type": "stream",
          "text": [
            "WARNING:tensorflow:From /usr/local/lib/python3.6/dist-packages/keras/backend/tensorflow_backend.py:541: The name tf.placeholder is deprecated. Please use tf.compat.v1.placeholder instead.\n",
            "\n",
            "WARNING:tensorflow:From /usr/local/lib/python3.6/dist-packages/keras/backend/tensorflow_backend.py:66: The name tf.get_default_graph is deprecated. Please use tf.compat.v1.get_default_graph instead.\n",
            "\n",
            "WARNING:tensorflow:From /usr/local/lib/python3.6/dist-packages/keras/backend/tensorflow_backend.py:4432: The name tf.random_uniform is deprecated. Please use tf.random.uniform instead.\n",
            "\n",
            "WARNING:tensorflow:From /usr/local/lib/python3.6/dist-packages/keras/backend/tensorflow_backend.py:148: The name tf.placeholder_with_default is deprecated. Please use tf.compat.v1.placeholder_with_default instead.\n",
            "\n",
            "WARNING:tensorflow:From /usr/local/lib/python3.6/dist-packages/keras/backend/tensorflow_backend.py:3733: calling dropout (from tensorflow.python.ops.nn_ops) with keep_prob is deprecated and will be removed in a future version.\n",
            "Instructions for updating:\n",
            "Please use `rate` instead of `keep_prob`. Rate should be set to `rate = 1 - keep_prob`.\n"
          ],
          "name": "stdout"
        }
      ]
    },
    {
      "cell_type": "markdown",
      "metadata": {
        "id": "_RZ3DLBtIAjG",
        "colab_type": "text"
      },
      "source": [
        "Print a summary and save the encoder network structure to \"./encoder.pdf\""
      ]
    },
    {
      "cell_type": "code",
      "metadata": {
        "id": "-6_9JjH-IAjG",
        "colab_type": "code",
        "colab": {
          "base_uri": "https://localhost:8080/",
          "height": 329
        },
        "outputId": "8fb56e07-f8f9-42ab-c2e6-5c1fffbbe33b"
      },
      "source": [
        "from IPython.display import SVG\n",
        "from keras.utils.vis_utils import model_to_dot, plot_model\n",
        "\n",
        "SVG(model_to_dot(encoder_model, show_shapes=False).create(prog='dot', format='svg'))\n",
        "\n",
        "plot_model(\n",
        "    model=encoder_model, show_shapes=False,\n",
        "    to_file='encoder.png'\n",
        ")\n",
        "\n",
        "encoder_model.summary()"
      ],
      "execution_count": 15,
      "outputs": [
        {
          "output_type": "stream",
          "text": [
            "Model: \"encoder\"\n",
            "__________________________________________________________________________________________________\n",
            "Layer (type)                    Output Shape         Param #     Connected to                     \n",
            "==================================================================================================\n",
            "encoder_inputs (InputLayer)     (None, None, 28)     0                                            \n",
            "__________________________________________________________________________________________________\n",
            "bidirectional_1 (Bidirectional) [(None, 512), (None, 583680      encoder_inputs[0][0]             \n",
            "__________________________________________________________________________________________________\n",
            "concatenate_1 (Concatenate)     (None, 512)          0           bidirectional_1[0][1]            \n",
            "                                                                 bidirectional_1[0][3]            \n",
            "__________________________________________________________________________________________________\n",
            "concatenate_2 (Concatenate)     (None, 512)          0           bidirectional_1[0][2]            \n",
            "                                                                 bidirectional_1[0][4]            \n",
            "==================================================================================================\n",
            "Total params: 583,680\n",
            "Trainable params: 583,680\n",
            "Non-trainable params: 0\n",
            "__________________________________________________________________________________________________\n"
          ],
          "name": "stdout"
        }
      ]
    },
    {
      "cell_type": "markdown",
      "metadata": {
        "id": "4Ijml2NhIAjK",
        "colab_type": "text"
      },
      "source": [
        "### 3.2. Decoder network\n",
        "\n",
        "- Inputs:  \n",
        "\n",
        "    -- one-hot encode of the target language\n",
        "    \n",
        "    -- The initial hidden state $h_t$ \n",
        "    \n",
        "    -- The initial conveyor belt $c_t$ \n",
        "\n",
        "- Return: \n",
        "\n",
        "    -- output (all the hidden states) $h_1, \\cdots , h_t$\n",
        "\n",
        "    -- the final hidden state  $h_t$ (discarded in the training and used in the prediction)\n",
        "    \n",
        "    -- the final conveyor belt $c_t$ (discarded in the training and used in the prediction)"
      ]
    },
    {
      "cell_type": "code",
      "metadata": {
        "id": "u0d0bchmIAjL",
        "colab_type": "code",
        "colab": {}
      },
      "source": [
        "from keras.layers import Input, LSTM, Dense\n",
        "from keras.models import Model\n",
        "\n",
        "# inputs of the decoder network\n",
        "decoder_input_h = Input(shape=(latent_dim*2,), name='decoder_input_h')\n",
        "decoder_input_c = Input(shape=(latent_dim*2,), name='decoder_input_c')\n",
        "decoder_input_x = Input(shape=(None, num_decoder_tokens), name='decoder_input_x')\n",
        "\n",
        "# set the LSTM layer\n",
        "decoder_lstm = LSTM(latent_dim*2, return_sequences=True, \n",
        "                    return_state=True, dropout=0.5, name='decoder_lstm')\n",
        "decoder_lstm_outputs, state_h, state_c = decoder_lstm(decoder_input_x, \n",
        "                                                      initial_state=[decoder_input_h, decoder_input_c])\n",
        "\n",
        "# set the dense layer\n",
        "decoder_dense = Dense(num_decoder_tokens, activation='softmax', name='decoder_dense')\n",
        "decoder_outputs = decoder_dense(decoder_lstm_outputs)\n",
        "\n",
        "# build the decoder network model\n",
        "decoder_model = Model(inputs=[decoder_input_x, decoder_input_h, decoder_input_c],\n",
        "                      outputs=[decoder_outputs, state_h, state_c],\n",
        "                      name='decoder')"
      ],
      "execution_count": 0,
      "outputs": []
    },
    {
      "cell_type": "markdown",
      "metadata": {
        "id": "bmeaUBvkIAjN",
        "colab_type": "text"
      },
      "source": [
        "Print a summary and save the encoder network structure to \"./decoder.pdf\""
      ]
    },
    {
      "cell_type": "code",
      "metadata": {
        "id": "MiE486eGIAjN",
        "colab_type": "code",
        "colab": {
          "base_uri": "https://localhost:8080/",
          "height": 364
        },
        "outputId": "e476a4aa-8ec9-428b-d45a-f341185cfc50"
      },
      "source": [
        "from IPython.display import SVG\n",
        "from keras.utils.vis_utils import model_to_dot, plot_model\n",
        "\n",
        "SVG(model_to_dot(decoder_model, show_shapes=False).create(prog='dot', format='svg'))\n",
        "\n",
        "plot_model(\n",
        "    model=decoder_model, show_shapes=False,\n",
        "    to_file='decoder.png'\n",
        ")\n",
        "\n",
        "decoder_model.summary()"
      ],
      "execution_count": 18,
      "outputs": [
        {
          "output_type": "stream",
          "text": [
            "Model: \"decoder\"\n",
            "__________________________________________________________________________________________________\n",
            "Layer (type)                    Output Shape         Param #     Connected to                     \n",
            "==================================================================================================\n",
            "decoder_input_x (InputLayer)    (None, None, 30)     0                                            \n",
            "__________________________________________________________________________________________________\n",
            "decoder_input_h (InputLayer)    (None, 512)          0                                            \n",
            "__________________________________________________________________________________________________\n",
            "decoder_input_c (InputLayer)    (None, 512)          0                                            \n",
            "__________________________________________________________________________________________________\n",
            "decoder_lstm (LSTM)             [(None, None, 512),  1112064     decoder_input_x[0][0]            \n",
            "                                                                 decoder_input_h[0][0]            \n",
            "                                                                 decoder_input_c[0][0]            \n",
            "__________________________________________________________________________________________________\n",
            "decoder_dense (Dense)           (None, None, 30)     15390       decoder_lstm[0][0]               \n",
            "==================================================================================================\n",
            "Total params: 1,127,454\n",
            "Trainable params: 1,127,454\n",
            "Non-trainable params: 0\n",
            "__________________________________________________________________________________________________\n"
          ],
          "name": "stdout"
        }
      ]
    },
    {
      "cell_type": "markdown",
      "metadata": {
        "id": "RSIpfW9DIAjP",
        "colab_type": "text"
      },
      "source": [
        "### 3.3. Connect the encoder and decoder"
      ]
    },
    {
      "cell_type": "code",
      "metadata": {
        "id": "RmmM82h7IAjP",
        "colab_type": "code",
        "colab": {}
      },
      "source": [
        "# input layers\n",
        "encoder_input_x = Input(shape=(None, num_encoder_tokens), name='encoder_input_x')\n",
        "decoder_input_x = Input(shape=(None, num_decoder_tokens), name='decoder_input_x')\n",
        "\n",
        "# connect encoder to decoder\n",
        "encoder_final_states = encoder_model([encoder_input_x])\n",
        "decoder_lstm_output, _, _ = decoder_lstm(decoder_input_x, initial_state=encoder_final_states)\n",
        "decoder_pred = decoder_dense(decoder_lstm_output)\n",
        "\n",
        "model = Model(inputs=[encoder_input_x, decoder_input_x], \n",
        "              outputs=decoder_pred, \n",
        "              name='model_training')"
      ],
      "execution_count": 0,
      "outputs": []
    },
    {
      "cell_type": "code",
      "metadata": {
        "id": "2PMXhfl4IAjR",
        "colab_type": "code",
        "colab": {
          "base_uri": "https://localhost:8080/",
          "height": 52
        },
        "outputId": "c5e35558-336a-42d3-85b5-49df856e1fcd"
      },
      "source": [
        "print(state_h)\n",
        "print(decoder_input_h)"
      ],
      "execution_count": 20,
      "outputs": [
        {
          "output_type": "stream",
          "text": [
            "Tensor(\"decoder_lstm_1/while/Exit_2:0\", shape=(?, 512), dtype=float32)\n",
            "Tensor(\"decoder_input_h_1:0\", shape=(?, 512), dtype=float32)\n"
          ],
          "name": "stdout"
        }
      ]
    },
    {
      "cell_type": "code",
      "metadata": {
        "id": "ByHnKxg2IAjT",
        "colab_type": "code",
        "colab": {
          "base_uri": "https://localhost:8080/",
          "height": 364
        },
        "outputId": "69dc9f15-5b9d-449b-adf9-69695ff6ac73"
      },
      "source": [
        "from IPython.display import SVG\n",
        "from keras.utils.vis_utils import model_to_dot, plot_model\n",
        "\n",
        "SVG(model_to_dot(model, show_shapes=False).create(prog='dot', format='svg'))\n",
        "\n",
        "plot_model(\n",
        "    model=model, show_shapes=False,\n",
        "    to_file='model_training.png'\n",
        ")\n",
        "\n",
        "model.summary()"
      ],
      "execution_count": 21,
      "outputs": [
        {
          "output_type": "stream",
          "text": [
            "Model: \"model_training\"\n",
            "__________________________________________________________________________________________________\n",
            "Layer (type)                    Output Shape         Param #     Connected to                     \n",
            "==================================================================================================\n",
            "encoder_input_x (InputLayer)    (None, None, 28)     0                                            \n",
            "__________________________________________________________________________________________________\n",
            "decoder_input_x (InputLayer)    (None, None, 30)     0                                            \n",
            "__________________________________________________________________________________________________\n",
            "encoder (Model)                 [(None, 512), (None, 583680      encoder_input_x[0][0]            \n",
            "__________________________________________________________________________________________________\n",
            "decoder_lstm (LSTM)             [(None, None, 512),  1112064     decoder_input_x[0][0]            \n",
            "                                                                 encoder[1][0]                    \n",
            "                                                                 encoder[1][1]                    \n",
            "__________________________________________________________________________________________________\n",
            "decoder_dense (Dense)           (None, None, 30)     15390       decoder_lstm[1][0]               \n",
            "==================================================================================================\n",
            "Total params: 1,711,134\n",
            "Trainable params: 1,711,134\n",
            "Non-trainable params: 0\n",
            "__________________________________________________________________________________________________\n"
          ],
          "name": "stdout"
        }
      ]
    },
    {
      "cell_type": "markdown",
      "metadata": {
        "id": "aEjdm6b2IAjU",
        "colab_type": "text"
      },
      "source": [
        "### 3.5. Fit the model on the bilingual dataset\n",
        "\n",
        "- encoder_input_data: one-hot encode of the input language\n",
        "\n",
        "- decoder_input_data: one-hot encode of the input language\n",
        "\n",
        "- decoder_target_data: labels (left shift of decoder_input_data)\n",
        "\n",
        "- tune the hyper-parameters\n",
        "\n",
        "- stop when the validation loss stop decreasing."
      ]
    },
    {
      "cell_type": "code",
      "metadata": {
        "id": "8x7NhBuEIAjV",
        "colab_type": "code",
        "colab": {
          "base_uri": "https://localhost:8080/",
          "height": 69
        },
        "outputId": "048bb3f7-75dc-4a42-870e-efbbe08a41ee"
      },
      "source": [
        "print('shape of encoder_input_data' + str(encoder_input_data.shape))\n",
        "print('shape of decoder_input_data' + str(decoder_input_data.shape))\n",
        "print('shape of decoder_target_data' + str(decoder_target_data.shape))"
      ],
      "execution_count": 22,
      "outputs": [
        {
          "output_type": "stream",
          "text": [
            "shape of encoder_input_data(16000, 17, 28)\n",
            "shape of decoder_input_data(16000, 56, 30)\n",
            "shape of decoder_target_data(16000, 56, 30)\n"
          ],
          "name": "stdout"
        }
      ]
    },
    {
      "cell_type": "code",
      "metadata": {
        "id": "ajf214BuIAjX",
        "colab_type": "code",
        "colab": {
          "base_uri": "https://localhost:8080/",
          "height": 1000
        },
        "outputId": "3a60f3a2-b77c-4ace-d66e-a3ee9a51b00e"
      },
      "source": [
        "model.compile(optimizer='rmsprop', loss='categorical_crossentropy')\n",
        "\n",
        "model.fit([encoder_input_data, decoder_input_data],  # training data\n",
        "          decoder_target_data,                       # labels (left shift of the target sequences)\n",
        "          batch_size=64, epochs=50, validation_split=0.2)\n",
        "\n",
        "model.save('seq2seq.h5')"
      ],
      "execution_count": 23,
      "outputs": [
        {
          "output_type": "stream",
          "text": [
            "WARNING:tensorflow:From /usr/local/lib/python3.6/dist-packages/keras/optimizers.py:793: The name tf.train.Optimizer is deprecated. Please use tf.compat.v1.train.Optimizer instead.\n",
            "\n",
            "WARNING:tensorflow:From /usr/local/lib/python3.6/dist-packages/keras/backend/tensorflow_backend.py:3576: The name tf.log is deprecated. Please use tf.math.log instead.\n",
            "\n",
            "WARNING:tensorflow:From /usr/local/lib/python3.6/dist-packages/tensorflow_core/python/ops/math_grad.py:1424: where (from tensorflow.python.ops.array_ops) is deprecated and will be removed in a future version.\n",
            "Instructions for updating:\n",
            "Use tf.where in 2.0, which has the same broadcast rule as np.where\n",
            "WARNING:tensorflow:From /usr/local/lib/python3.6/dist-packages/keras/backend/tensorflow_backend.py:1033: The name tf.assign_add is deprecated. Please use tf.compat.v1.assign_add instead.\n",
            "\n",
            "WARNING:tensorflow:From /usr/local/lib/python3.6/dist-packages/keras/backend/tensorflow_backend.py:1020: The name tf.assign is deprecated. Please use tf.compat.v1.assign instead.\n",
            "\n",
            "WARNING:tensorflow:From /usr/local/lib/python3.6/dist-packages/keras/backend/tensorflow_backend.py:3005: The name tf.Session is deprecated. Please use tf.compat.v1.Session instead.\n",
            "\n",
            "Train on 12800 samples, validate on 3200 samples\n",
            "Epoch 1/50\n",
            "WARNING:tensorflow:From /usr/local/lib/python3.6/dist-packages/keras/backend/tensorflow_backend.py:190: The name tf.get_default_session is deprecated. Please use tf.compat.v1.get_default_session instead.\n",
            "\n",
            "WARNING:tensorflow:From /usr/local/lib/python3.6/dist-packages/keras/backend/tensorflow_backend.py:197: The name tf.ConfigProto is deprecated. Please use tf.compat.v1.ConfigProto instead.\n",
            "\n",
            "WARNING:tensorflow:From /usr/local/lib/python3.6/dist-packages/keras/backend/tensorflow_backend.py:207: The name tf.global_variables is deprecated. Please use tf.compat.v1.global_variables instead.\n",
            "\n",
            "WARNING:tensorflow:From /usr/local/lib/python3.6/dist-packages/keras/backend/tensorflow_backend.py:216: The name tf.is_variable_initialized is deprecated. Please use tf.compat.v1.is_variable_initialized instead.\n",
            "\n",
            "WARNING:tensorflow:From /usr/local/lib/python3.6/dist-packages/keras/backend/tensorflow_backend.py:223: The name tf.variables_initializer is deprecated. Please use tf.compat.v1.variables_initializer instead.\n",
            "\n",
            "12800/12800 [==============================] - 36s 3ms/step - loss: 0.9657 - val_loss: 0.7820\n",
            "Epoch 2/50\n",
            "12800/12800 [==============================] - 29s 2ms/step - loss: 0.6803 - val_loss: 0.6494\n",
            "Epoch 3/50\n",
            "12800/12800 [==============================] - 29s 2ms/step - loss: 0.6013 - val_loss: 0.5924\n",
            "Epoch 4/50\n",
            "12800/12800 [==============================] - 29s 2ms/step - loss: 0.5455 - val_loss: 0.5556\n",
            "Epoch 5/50\n",
            "12800/12800 [==============================] - 29s 2ms/step - loss: 0.5012 - val_loss: 0.5188\n",
            "Epoch 6/50\n",
            "12800/12800 [==============================] - 29s 2ms/step - loss: 0.4693 - val_loss: 0.4977\n",
            "Epoch 7/50\n",
            "12800/12800 [==============================] - 29s 2ms/step - loss: 0.4400 - val_loss: 0.4727\n",
            "Epoch 8/50\n",
            "12800/12800 [==============================] - 29s 2ms/step - loss: 0.4107 - val_loss: 0.4639\n",
            "Epoch 9/50\n",
            "12800/12800 [==============================] - 29s 2ms/step - loss: 0.3854 - val_loss: 0.4360\n",
            "Epoch 10/50\n",
            "12800/12800 [==============================] - 29s 2ms/step - loss: 0.3611 - val_loss: 0.4184\n",
            "Epoch 11/50\n",
            "12800/12800 [==============================] - 29s 2ms/step - loss: 0.3400 - val_loss: 0.4030\n",
            "Epoch 12/50\n",
            "12800/12800 [==============================] - 29s 2ms/step - loss: 0.3182 - val_loss: 0.3892\n",
            "Epoch 13/50\n",
            "12800/12800 [==============================] - 29s 2ms/step - loss: 0.2995 - val_loss: 0.3782\n",
            "Epoch 14/50\n",
            "12800/12800 [==============================] - 29s 2ms/step - loss: 0.2821 - val_loss: 0.3691\n",
            "Epoch 15/50\n",
            "12800/12800 [==============================] - 29s 2ms/step - loss: 0.2659 - val_loss: 0.3624\n",
            "Epoch 16/50\n",
            "12800/12800 [==============================] - 29s 2ms/step - loss: 0.2513 - val_loss: 0.3552\n",
            "Epoch 17/50\n",
            "12800/12800 [==============================] - 29s 2ms/step - loss: 0.2386 - val_loss: 0.3480\n",
            "Epoch 18/50\n",
            "12800/12800 [==============================] - 29s 2ms/step - loss: 0.2257 - val_loss: 0.3425\n",
            "Epoch 19/50\n",
            "12800/12800 [==============================] - 29s 2ms/step - loss: 0.2136 - val_loss: 0.3376\n",
            "Epoch 20/50\n",
            "12800/12800 [==============================] - 29s 2ms/step - loss: 0.2037 - val_loss: 0.3368\n",
            "Epoch 21/50\n",
            "12800/12800 [==============================] - 29s 2ms/step - loss: 0.1937 - val_loss: 0.3296\n",
            "Epoch 22/50\n",
            "12800/12800 [==============================] - 29s 2ms/step - loss: 0.1839 - val_loss: 0.3244\n",
            "Epoch 23/50\n",
            "12800/12800 [==============================] - 29s 2ms/step - loss: 0.1748 - val_loss: 0.3218\n",
            "Epoch 24/50\n",
            "12800/12800 [==============================] - 29s 2ms/step - loss: 0.1682 - val_loss: 0.3197\n",
            "Epoch 25/50\n",
            "12800/12800 [==============================] - 29s 2ms/step - loss: 0.1601 - val_loss: 0.3174\n",
            "Epoch 26/50\n",
            "12800/12800 [==============================] - 29s 2ms/step - loss: 0.1549 - val_loss: 0.3146\n",
            "Epoch 27/50\n",
            "12800/12800 [==============================] - 29s 2ms/step - loss: 0.1484 - val_loss: 0.3178\n",
            "Epoch 28/50\n",
            "12800/12800 [==============================] - 29s 2ms/step - loss: 0.1422 - val_loss: 0.3117\n",
            "Epoch 29/50\n",
            "12800/12800 [==============================] - 29s 2ms/step - loss: 0.1366 - val_loss: 0.3142\n",
            "Epoch 30/50\n",
            "12800/12800 [==============================] - 29s 2ms/step - loss: 0.1311 - val_loss: 0.3124\n",
            "Epoch 31/50\n",
            "12800/12800 [==============================] - 29s 2ms/step - loss: 0.1262 - val_loss: 0.3082\n",
            "Epoch 32/50\n",
            "12800/12800 [==============================] - 29s 2ms/step - loss: 0.1220 - val_loss: 0.3101\n",
            "Epoch 33/50\n",
            "12800/12800 [==============================] - 29s 2ms/step - loss: 0.1175 - val_loss: 0.3102\n",
            "Epoch 34/50\n",
            "12800/12800 [==============================] - 29s 2ms/step - loss: 0.1133 - val_loss: 0.3140\n",
            "Epoch 35/50\n",
            "12800/12800 [==============================] - 29s 2ms/step - loss: 0.1098 - val_loss: 0.3150\n",
            "Epoch 36/50\n",
            "12800/12800 [==============================] - 29s 2ms/step - loss: 0.1070 - val_loss: 0.3159\n",
            "Epoch 37/50\n",
            "12800/12800 [==============================] - 29s 2ms/step - loss: 0.1031 - val_loss: 0.3138\n",
            "Epoch 38/50\n",
            "12800/12800 [==============================] - 29s 2ms/step - loss: 0.1003 - val_loss: 0.3115\n",
            "Epoch 39/50\n",
            "12800/12800 [==============================] - 29s 2ms/step - loss: 0.0972 - val_loss: 0.3128\n",
            "Epoch 40/50\n",
            "12800/12800 [==============================] - 29s 2ms/step - loss: 0.0940 - val_loss: 0.3147\n",
            "Epoch 41/50\n",
            "12800/12800 [==============================] - 29s 2ms/step - loss: 0.0921 - val_loss: 0.3175\n",
            "Epoch 42/50\n",
            "12800/12800 [==============================] - 29s 2ms/step - loss: 0.0894 - val_loss: 0.3156\n",
            "Epoch 43/50\n",
            "12800/12800 [==============================] - 29s 2ms/step - loss: 0.0871 - val_loss: 0.3151\n",
            "Epoch 44/50\n",
            "12800/12800 [==============================] - 29s 2ms/step - loss: 0.0852 - val_loss: 0.3186\n",
            "Epoch 45/50\n",
            "12800/12800 [==============================] - 29s 2ms/step - loss: 0.0834 - val_loss: 0.3187\n",
            "Epoch 46/50\n",
            "12800/12800 [==============================] - 29s 2ms/step - loss: 0.0813 - val_loss: 0.3204\n",
            "Epoch 47/50\n",
            "12800/12800 [==============================] - 29s 2ms/step - loss: 0.0789 - val_loss: 0.3222\n",
            "Epoch 48/50\n",
            "12800/12800 [==============================] - 29s 2ms/step - loss: 0.0775 - val_loss: 0.3222\n",
            "Epoch 49/50\n",
            "12800/12800 [==============================] - 29s 2ms/step - loss: 0.0748 - val_loss: 0.3214\n",
            "Epoch 50/50\n",
            "12800/12800 [==============================] - 29s 2ms/step - loss: 0.0729 - val_loss: 0.3217\n"
          ],
          "name": "stdout"
        }
      ]
    },
    {
      "cell_type": "markdown",
      "metadata": {
        "id": "fYRdumejIAjY",
        "colab_type": "text"
      },
      "source": [
        "## 4. Make predictions\n",
        "\n",
        "\n",
        "### 4.1. Translate English to French\n",
        "\n",
        "1. Encoder read a sentence (source language) and output its final states, $h_t$ and $c_t$.\n",
        "2. Take the [star] sign \"\\t\" and the final state $h_t$ and $c_t$ as input and run the decoder.\n",
        "3. Get the new states and predicted probability distribution.\n",
        "4. sample a char from the predicted probability distribution\n",
        "5. take the sampled char and the new states as input and repeat the process (stop if reach the [stop] sign \"\\n\")."
      ]
    },
    {
      "cell_type": "code",
      "metadata": {
        "id": "icltraDTIAjZ",
        "colab_type": "code",
        "colab": {}
      },
      "source": [
        "# Reverse-lookup token index to decode sequences back to something readable.\n",
        "reverse_input_char_index = dict((i, char) for char, i in input_token_index.items())\n",
        "reverse_target_char_index = dict((i, char) for char, i in target_token_index.items())"
      ],
      "execution_count": 0,
      "outputs": []
    },
    {
      "cell_type": "code",
      "metadata": {
        "id": "vyoEfdtOIAjb",
        "colab_type": "code",
        "colab": {}
      },
      "source": [
        "def decode_sequence(input_seq):\n",
        "    states_value = encoder_model.predict(input_seq)\n",
        "\n",
        "    target_seq = numpy.zeros((1, 1, num_decoder_tokens))\n",
        "    target_seq[0, 0, target_token_index['\\t']] = 1.\n",
        "\n",
        "    stop_condition = False\n",
        "    decoded_sentence = ''\n",
        "    while not stop_condition:\n",
        "        output_tokens, h, c = decoder_model.predict([target_seq] + states_value)\n",
        "\n",
        "        # this line of code is greedy selection\n",
        "        # try to use multinomial sampling instead (with temperature)\n",
        "        sampled_token_index = numpy.argmax(output_tokens[0, -1, :])\n",
        "        \n",
        "        sampled_char = reverse_target_char_index[sampled_token_index]\n",
        "        decoded_sentence += sampled_char\n",
        "\n",
        "        if (sampled_char == '\\n' or\n",
        "           len(decoded_sentence) > max_decoder_seq_length):\n",
        "            stop_condition = True\n",
        "\n",
        "        target_seq = numpy.zeros((1, 1, num_decoder_tokens))\n",
        "        target_seq[0, 0, sampled_token_index] = 1.\n",
        "\n",
        "        states_value = [h, c]\n",
        "\n",
        "    return decoded_sentence"
      ],
      "execution_count": 0,
      "outputs": []
    },
    {
      "cell_type": "code",
      "metadata": {
        "id": "SEshOxviIAjc",
        "colab_type": "code",
        "colab": {
          "base_uri": "https://localhost:8080/",
          "height": 1000
        },
        "outputId": "9b46a54b-ca3a-4d79-dd30-056048ddbd47"
      },
      "source": [
        "for seq_index in range(2100, 2120):\n",
        "    # Take one sequence (part of the training set)\n",
        "    # for trying out decoding.\n",
        "    input_seq = encoder_input_data[seq_index: seq_index + 1]\n",
        "    decoded_sentence = decode_sequence(input_seq)\n",
        "    print('-')\n",
        "    print('English:       ', input_texts[seq_index])\n",
        "    print('French (true): ', target_texts[seq_index][1:-1])\n",
        "    print('French (pred): ', decoded_sentence[0:-1])\n"
      ],
      "execution_count": 26,
      "outputs": [
        {
          "output_type": "stream",
          "text": [
            "-\n",
            "English:        im skinny\n",
            "French (true):  je suis maigrichon\n",
            "French (pred):  je suis maigrichon\n",
            "-\n",
            "English:        he is here\n",
            "French (true):  il est ici\n",
            "French (pred):  il est ici\n",
            "-\n",
            "English:        i got hot\n",
            "French (true):  je me suis mis a avoir chaud\n",
            "French (pred):  je me suis mis a avoir chaud\n",
            "-\n",
            "English:        look at it\n",
            "French (true):  regardezle\n",
            "French (pred):  regardezle\n",
            "-\n",
            "English:        be careful\n",
            "French (true):  soyez prudente\n",
            "French (pred):  soyez prudents\n",
            "-\n",
            "English:        its his\n",
            "French (true):  cest la sienne\n",
            "French (pred):  cest le sien\n",
            "-\n",
            "English:        catch him\n",
            "French (true):  rattrapele\n",
            "French (pred):  rattrapele\n",
            "-\n",
            "English:        is it nice\n",
            "French (true):  estce chouette\n",
            "French (pred):  estce chouette\n",
            "-\n",
            "English:        do it again\n",
            "French (true):  faisle a nouveau\n",
            "French (pred):  faitesle de nouveau\n",
            "-\n",
            "English:        we lost\n",
            "French (true):  nous avons ete battues\n",
            "French (pred):  nous fumes battus\n",
            "-\n",
            "English:        come quick\n",
            "French (true):  viens vite\n",
            "French (pred):  viens vite\n",
            "-\n",
            "English:        its awful\n",
            "French (true):  cest terrible\n",
            "French (pred):  cest farrine\n",
            "-\n",
            "English:        here we are\n",
            "French (true):  nous y voici\n",
            "French (pred):  nous y voila\n",
            "-\n",
            "English:        be content\n",
            "French (true):  sois satisfait\n",
            "French (pred):  soyez satisfaits\n",
            "-\n",
            "English:        be discreet\n",
            "French (true):  sois discrete\n",
            "French (pred):  soyez discrets\n",
            "-\n",
            "English:        i cant go\n",
            "French (true):  je ne peux pas y aller\n",
            "French (pred):  je ne peux pas my rendre\n",
            "-\n",
            "English:        ill live\n",
            "French (true):  je vivrai\n",
            "French (pred):  je vivrai\n",
            "-\n",
            "English:        tom jumped\n",
            "French (true):  tom sauta\n",
            "French (pred):  tom sauta\n",
            "-\n",
            "English:        let him in\n",
            "French (true):  laissezle entrer\n",
            "French (pred):  laissezle entrer\n",
            "-\n",
            "English:        go on\n",
            "French (true):  continuez\n",
            "French (pred):  poursuis\n"
          ],
          "name": "stdout"
        }
      ]
    },
    {
      "cell_type": "markdown",
      "metadata": {
        "id": "VOGbnrtmIAjf",
        "colab_type": "text"
      },
      "source": [
        "### 4.2. Translate an English sentence to the target language\n",
        "\n",
        "1. Tokenization\n",
        "2. One-hot encode\n",
        "3. Translate"
      ]
    },
    {
      "cell_type": "code",
      "metadata": {
        "id": "zG00xccgIAjf",
        "colab_type": "code",
        "colab": {
          "base_uri": "https://localhost:8080/",
          "height": 69
        },
        "outputId": "e1b70399-1849-4dac-cb13-bc3fb2b812c7"
      },
      "source": [
        "input_sentence = 'why is that'\n",
        "\n",
        "input_sequence = text2sequences(max_encoder_seq_length, input_sentence)[0]\n",
        "\n",
        "input_x = onehot_encode(input_sequence, max_encoder_seq_length, num_encoder_tokens)\n",
        "\n",
        "translated_sentence = decode_sequence(input_x)\n",
        "\n",
        "print('source sentence is: ' + input_sentence)\n",
        "print('translated sentence is: ' + translated_sentence)"
      ],
      "execution_count": 27,
      "outputs": [
        {
          "output_type": "stream",
          "text": [
            "source sentence is: why is that\n",
            "translated sentence is: salut\n",
            "\n"
          ],
          "name": "stdout"
        }
      ]
    },
    {
      "cell_type": "markdown",
      "metadata": {
        "id": "8O9cFpKXIAjg",
        "colab_type": "text"
      },
      "source": [
        "## 5. Evaluate the translation using BLEU score\n",
        "\n",
        "Reference: \n",
        "- https://machinelearningmastery.com/calculate-bleu-score-for-text-python/\n",
        "- https://en.wikipedia.org/wiki/BLEU\n",
        "\n",
        "\n",
        "**Hint:** \n",
        "\n",
        "- Randomly partition the dataset to training, validation, and test. \n",
        "\n",
        "- Evaluate the BLEU score using the test set. Report the average.\n",
        "\n",
        "- A reasonable BLEU score should be 0.1 ~ 0.3."
      ]
    },
    {
      "cell_type": "code",
      "metadata": {
        "id": "bl6EKsifIAjh",
        "colab_type": "code",
        "colab": {}
      },
      "source": [
        "clean_test_pairs = clean_data(pairs)[n_train:-1, :]\n",
        "input_texts = clean_test_pairs[:, 0]\n",
        "target_texts = ['\\t' + text + '\\n' for text in clean_test_pairs[:, 1]]\n",
        "encoder_input_seq, input_token_index,_ = text2sequences(max_encoder_seq_length, input_texts)\n",
        "num_encoder_tokens = len(input_token_index) + 1\n",
        "encoder_input_data = onehot_encode(encoder_input_seq, max_encoder_seq_length, num_encoder_tokens)"
      ],
      "execution_count": 0,
      "outputs": []
    },
    {
      "cell_type": "code",
      "metadata": {
        "id": "0Krm8B5Y6Qqo",
        "colab_type": "code",
        "colab": {
          "base_uri": "https://localhost:8080/",
          "height": 260
        },
        "outputId": "8b7d9786-bca8-4dca-bd36-784bc5a0dc28"
      },
      "source": [
        "from nltk.translate.bleu_score import sentence_bleu\n",
        "\n",
        "total = 0\n",
        "scores = []\n",
        "for seq_index in range(0, 1600):\n",
        "    # Take one sequence (part of the training set)\n",
        "    # for trying out decoding.\n",
        "  input_seq = encoder_input_data[seq_index: seq_index + 1]\n",
        "  decoded_sentence = decode_sequence(input_seq)\n",
        "  true_sentence = target_texts[seq_index][1:-1]\n",
        "\n",
        "  score = sentence_bleu([true_sentence], decoded_sentence)\n",
        "  total += score\n",
        "  scores.append(score)\n",
        "    #     print(score)\n",
        "\n",
        "avg = total/1600\n",
        "print('BLEU score: ', avg)\n",
        "print('MAX score: ', max(scores))"
      ],
      "execution_count": 29,
      "outputs": [
        {
          "output_type": "stream",
          "text": [
            "/usr/local/lib/python3.6/dist-packages/nltk/translate/bleu_score.py:490: UserWarning: \n",
            "Corpus/Sentence contains 0 counts of 3-gram overlaps.\n",
            "BLEU scores might be undesirable; use SmoothingFunction().\n",
            "  warnings.warn(_msg)\n",
            "/usr/local/lib/python3.6/dist-packages/nltk/translate/bleu_score.py:490: UserWarning: \n",
            "Corpus/Sentence contains 0 counts of 4-gram overlaps.\n",
            "BLEU scores might be undesirable; use SmoothingFunction().\n",
            "  warnings.warn(_msg)\n",
            "/usr/local/lib/python3.6/dist-packages/nltk/translate/bleu_score.py:490: UserWarning: \n",
            "Corpus/Sentence contains 0 counts of 2-gram overlaps.\n",
            "BLEU scores might be undesirable; use SmoothingFunction().\n",
            "  warnings.warn(_msg)\n"
          ],
          "name": "stderr"
        },
        {
          "output_type": "stream",
          "text": [
            "BLEU score:  0.3430959024374943\n",
            "MAX score:  0.8529987544592307\n"
          ],
          "name": "stdout"
        }
      ]
    }
  ]
}