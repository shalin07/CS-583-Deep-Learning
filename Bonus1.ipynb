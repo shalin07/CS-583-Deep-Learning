{
 "cells": [
  {
   "cell_type": "markdown",
   "metadata": {},
   "source": [
    "# Bonus 1: Numerical Optimization for Logistic Regression.\n",
    "\n",
    "### Name: [Shalin Barot]\n"
   ]
  },
  {
   "cell_type": "markdown",
   "metadata": {},
   "source": [
    "## 0. You will do the following:\n",
    "\n",
    "1. Read the lecture note: [click here](https://github.com/wangshusen/DeepLearning/blob/master/LectureNotes/Logistic/paper/logistic.pdf)\n",
    "\n",
    "2. Read, complete, and run my code.\n",
    "\n",
    "3. **Implement mini-batch SGD** and evaluate the performance. (1 bonus point.)\n",
    "\n",
    "4. Convert the .IPYNB file to .HTML file.\n",
    "\n",
    "    * The HTML file must contain **the code** and **the output after execution**.\n",
    "    \n",
    "5. Upload this .HTML file to your Google Drive, Dropbox, or your Github repo.\n",
    "\n",
    "6. Submit the link to this .HTML file to Canvas.\n",
    "\n",
    "    * Example: https://github.com/wangshusen/CS583-2019F/blob/master/homework/Bonus1/Bonus1.html\n",
    "\n",
    "\n",
    "## Grading criteria:\n",
    "\n",
    "1. When computing the ```gradient``` and ```objective function value``` using a batch of samples, use **matrix-vector multiplication** rather than a FOR LOOP of **vector-vector multiplications**.\n",
    "\n",
    "2. Plot ```objective function value``` against ```epochs```. In the plot, compare GD, SGD, and MB-SGD (with $b=8$ and $b=64$). The plot must look reasonable."
   ]
  },
  {
   "cell_type": "markdown",
   "metadata": {},
   "source": [
    "# 1. Data processing\n",
    "\n",
    "- Download the Diabete dataset from https://www.csie.ntu.edu.tw/~cjlin/libsvmtools/datasets/binary/diabetes\n",
    "- Load the data using sklearn.\n",
    "- Preprocess the data."
   ]
  },
  {
   "cell_type": "markdown",
   "metadata": {},
   "source": [
    "## 1.1. Load the data"
   ]
  },
  {
   "cell_type": "code",
   "execution_count": 1,
   "metadata": {},
   "outputs": [
    {
     "name": "stdout",
     "output_type": "stream",
     "text": [
      "Shape of x: (768, 8)\n",
      "Shape of y: (768,)\n"
     ]
    }
   ],
   "source": [
    "from sklearn import datasets\n",
    "import numpy\n",
    "\n",
    "x_sparse, y = datasets.load_svmlight_file('diabetes')\n",
    "x = x_sparse.todense()\n",
    "\n",
    "print('Shape of x: ' + str(x.shape))\n",
    "print('Shape of y: ' + str(y.shape))"
   ]
  },
  {
   "cell_type": "markdown",
   "metadata": {},
   "source": [
    "## 1.2. Partition to training and test sets"
   ]
  },
  {
   "cell_type": "code",
   "execution_count": 3,
   "metadata": {},
   "outputs": [
    {
     "name": "stdout",
     "output_type": "stream",
     "text": [
      "Shape of x_train: (615, 8)\n",
      "Shape of x_test: (153, 8)\n",
      "Shape of y_train: (615, 1)\n",
      "Shape of y_test: (153, 1)\n"
     ]
    }
   ],
   "source": [
    "# partition the data to training and test sets\n",
    "n = x.shape[0]\n",
    "n_train = int(numpy.ceil(n * 0.8))\n",
    "n_test = n - n_train\n",
    "\n",
    "rand_indices = numpy.random.permutation(n)\n",
    "train_indices = rand_indices[0:n_train]\n",
    "test_indices = rand_indices[n_train:n]\n",
    "\n",
    "x_train = x[train_indices, :]\n",
    "x_test = x[test_indices, :]\n",
    "y_train = y[train_indices].reshape(n_train, 1)\n",
    "y_test = y[test_indices].reshape(n_test, 1)\n",
    "\n",
    "print('Shape of x_train: ' + str(x_train.shape))\n",
    "print('Shape of x_test: ' + str(x_test.shape))\n",
    "print('Shape of y_train: ' + str(y_train.shape))\n",
    "print('Shape of y_test: ' + str(y_test.shape))"
   ]
  },
  {
   "cell_type": "markdown",
   "metadata": {},
   "source": [
    "## 1.3. Feature scaling"
   ]
  },
  {
   "cell_type": "markdown",
   "metadata": {},
   "source": [
    "Use the standardization to trainsform both training and test features"
   ]
  },
  {
   "cell_type": "code",
   "execution_count": 4,
   "metadata": {},
   "outputs": [
    {
     "name": "stdout",
     "output_type": "stream",
     "text": [
      "test mean = \n",
      "[[ 0.0623831   0.13461986  0.0352201   0.07272053  0.20731066  0.0579941\n",
      "  -0.11373897  0.07715751]]\n",
      "test std = \n",
      "[[1.00436956 0.97211644 1.03568221 0.93012107 1.24635219 1.05621604\n",
      "  1.04040985 0.99562422]]\n"
     ]
    }
   ],
   "source": [
    "# Standardization\n",
    "import numpy\n",
    "\n",
    "# calculate mu and sig using the training set\n",
    "d = x_train.shape[1]\n",
    "mu = numpy.mean(x_train, axis=0).reshape(1, d)\n",
    "sig = numpy.std(x_train, axis=0).reshape(1, d)\n",
    "\n",
    "# transform the training features\n",
    "x_train = (x_train - mu) / (sig + 1E-6)\n",
    "\n",
    "# transform the test features\n",
    "x_test = (x_test - mu) / (sig + 1E-6)\n",
    "\n",
    "print('test mean = ')\n",
    "print(numpy.mean(x_test, axis=0))\n",
    "\n",
    "print('test std = ')\n",
    "print(numpy.std(x_test, axis=0))"
   ]
  },
  {
   "cell_type": "markdown",
   "metadata": {},
   "source": [
    "## 1.4. Add a dimension of all ones"
   ]
  },
  {
   "cell_type": "code",
   "execution_count": 5,
   "metadata": {},
   "outputs": [
    {
     "name": "stdout",
     "output_type": "stream",
     "text": [
      "Shape of x_train: (615, 9)\n",
      "Shape of x_test: (153, 9)\n"
     ]
    }
   ],
   "source": [
    "n_train, d = x_train.shape\n",
    "x_train = numpy.concatenate((x_train, numpy.ones((n_train, 1))), axis=1)\n",
    "\n",
    "n_test, d = x_test.shape\n",
    "x_test = numpy.concatenate((x_test, numpy.ones((n_test, 1))), axis=1)\n",
    "\n",
    "print('Shape of x_train: ' + str(x_train.shape))\n",
    "print('Shape of x_test: ' + str(x_test.shape))"
   ]
  },
  {
   "cell_type": "markdown",
   "metadata": {},
   "source": [
    "# 2. Logistic regression model\n",
    "\n",
    "The objective function is $Q (w; X, y) = \\frac{1}{n} \\sum_{i=1}^n \\log \\Big( 1 + \\exp \\big( - y_i x_i^T w \\big) \\Big) + \\frac{\\lambda}{2} \\| w \\|_2^2 $."
   ]
  },
  {
   "cell_type": "code",
   "execution_count": 6,
   "metadata": {},
   "outputs": [],
   "source": [
    "# Calculate the objective function value\n",
    "# Inputs:\n",
    "#     w: d-by-1 matrix\n",
    "#     x: n-by-d matrix\n",
    "#     y: n-by-1 matrix\n",
    "#     lam: scalar, the regularization parameter\n",
    "# Return:\n",
    "#     objective function value (scalar)\n",
    "def objective(w, x, y, lam):\n",
    "    n, d = x.shape\n",
    "    yx = numpy.multiply(y, x) # n-by-d matrix\n",
    "    yxw = numpy.dot(yx, w) # n-by-1 matrix\n",
    "    vec1 = numpy.exp(-yxw) # n-by-1 matrix\n",
    "    vec2 = numpy.log(1 + vec1) # n-by-1 matrix\n",
    "    loss = numpy.mean(vec2) # scalar\n",
    "    reg = lam / 2 * numpy.sum(w * w) # scalar\n",
    "    return loss + reg\n",
    "    "
   ]
  },
  {
   "cell_type": "code",
   "execution_count": 7,
   "metadata": {},
   "outputs": [
    {
     "name": "stdout",
     "output_type": "stream",
     "text": [
      "Initial objective function value = 0.6931471805599453\n"
     ]
    }
   ],
   "source": [
    "# initialize w\n",
    "d = x_train.shape[1]\n",
    "w = numpy.zeros((d, 1))\n",
    "\n",
    "# evaluate the objective function value at w\n",
    "lam = 1E-6\n",
    "objval0 = objective(w, x_train, y_train, lam)\n",
    "print('Initial objective function value = ' + str(objval0))"
   ]
  },
  {
   "cell_type": "markdown",
   "metadata": {},
   "source": [
    "# 3. Numerical optimization"
   ]
  },
  {
   "cell_type": "markdown",
   "metadata": {},
   "source": [
    "## 3.1. Gradient descent\n"
   ]
  },
  {
   "cell_type": "markdown",
   "metadata": {},
   "source": [
    "The gradient at $w$ is $g = - \\frac{1}{n} \\sum_{i=1}^n \\frac{y_i x_i }{1 + \\exp ( y_i x_i^T w)} + \\lambda w$"
   ]
  },
  {
   "cell_type": "code",
   "execution_count": 8,
   "metadata": {},
   "outputs": [],
   "source": [
    "# Calculate the gradient\n",
    "# Inputs:\n",
    "#     w: d-by-1 matrix\n",
    "#     x: n-by-d matrix\n",
    "#     y: n-by-1 matrix\n",
    "#     lam: scalar, the regularization parameter\n",
    "# Return:\n",
    "#     g: g: d-by-1 matrix, full gradient\n",
    "def gradient(w, x, y, lam):\n",
    "    n, d = x.shape\n",
    "    yx = numpy.multiply(y, x) # n-by-d matrix\n",
    "    yxw = numpy.dot(yx, w) # n-by-1 matrix\n",
    "    vec1 = numpy.exp(yxw) # n-by-1 matrix\n",
    "    vec2 = numpy.divide(yx, 1+vec1) # n-by-d matrix\n",
    "    vec3 = -numpy.mean(vec2, axis=0).reshape(d, 1) # d-by-1 matrix\n",
    "    g = vec3 + lam * w\n",
    "    return g"
   ]
  },
  {
   "cell_type": "code",
   "execution_count": 9,
   "metadata": {},
   "outputs": [],
   "source": [
    "# Gradient descent for solving logistic regression\n",
    "# Inputs:\n",
    "#     x: n-by-d matrix\n",
    "#     y: n-by-1 matrix\n",
    "#     lam: scalar, the regularization parameter\n",
    "#     stepsize: scalar\n",
    "#     max_iter: integer, the maximal iterations\n",
    "#     w: d-by-1 matrix, initialization of w\n",
    "# Return:\n",
    "#     w: d-by-1 matrix, the solution\n",
    "#     objvals: a record of each iteration's objective value\n",
    "def grad_descent(x, y, lam, stepsize, max_iter=100, w=None):\n",
    "    n, d = x.shape\n",
    "    objvals = numpy.zeros(max_iter) # store the objective values\n",
    "    if w is None:\n",
    "        w = numpy.zeros((d, 1)) # zero initialization\n",
    "    \n",
    "    for t in range(max_iter):\n",
    "        objval = objective(w, x, y, lam)\n",
    "        objvals[t] = objval\n",
    "        print('Objective value at t=' + str(t) + ' is ' + str(objval))\n",
    "        g = gradient(w, x, y, lam)\n",
    "        w -= stepsize * g\n",
    "    \n",
    "    return w, objvals"
   ]
  },
  {
   "cell_type": "markdown",
   "metadata": {},
   "source": [
    "Run gradient descent."
   ]
  },
  {
   "cell_type": "code",
   "execution_count": 10,
   "metadata": {},
   "outputs": [
    {
     "name": "stdout",
     "output_type": "stream",
     "text": [
      "Objective value at t=0 is 0.6931471805599453\n",
      "Objective value at t=1 is 0.5843439356051213\n",
      "Objective value at t=2 is 0.5401616932532549\n",
      "Objective value at t=3 is 0.5164001169210337\n",
      "Objective value at t=4 is 0.5015516497152726\n",
      "Objective value at t=5 is 0.491472234388173\n",
      "Objective value at t=6 is 0.48427205206130397\n",
      "Objective value at t=7 is 0.478948329108832\n",
      "Objective value at t=8 is 0.4749123496109323\n",
      "Objective value at t=9 is 0.47179338442244406\n",
      "Objective value at t=10 is 0.46934589459338244\n",
      "Objective value at t=11 is 0.4674009983090904\n",
      "Objective value at t=12 is 0.4658390762995126\n",
      "Objective value at t=13 is 0.46457337334773785\n",
      "Objective value at t=14 is 0.4635397218144573\n",
      "Objective value at t=15 is 0.4626898628831768\n",
      "Objective value at t=16 is 0.4619869756749507\n",
      "Objective value at t=17 is 0.4614026097651327\n",
      "Objective value at t=18 is 0.46091453600587856\n",
      "Objective value at t=19 is 0.4605052130856165\n",
      "Objective value at t=20 is 0.46016067569472763\n",
      "Objective value at t=21 is 0.4598697167134882\n",
      "Objective value at t=22 is 0.4596232778137107\n",
      "Objective value at t=23 is 0.4594139899725162\n",
      "Objective value at t=24 is 0.45923582326393014\n",
      "Objective value at t=25 is 0.4590838172857945\n",
      "Objective value at t=26 is 0.458953871759203\n",
      "Objective value at t=27 is 0.458842582499543\n",
      "Objective value at t=28 is 0.4587471119302531\n",
      "Objective value at t=29 is 0.4586650861316628\n",
      "Objective value at t=30 is 0.4585945124443785\n",
      "Objective value at t=31 is 0.45853371311888574\n",
      "Objective value at t=32 is 0.4584812715830742\n",
      "Objective value at t=33 is 0.4584359886992703\n",
      "Objective value at t=34 is 0.4583968469800435\n",
      "Objective value at t=35 is 0.45836298118244273\n",
      "Objective value at t=36 is 0.4583336540424177\n",
      "Objective value at t=37 is 0.4583082361729828\n",
      "Objective value at t=38 is 0.4582861893514769\n",
      "Objective value at t=39 is 0.4582670525778621\n",
      "Objective value at t=40 is 0.4582504304082904\n",
      "Objective value at t=41 is 0.4582359831642554\n",
      "Objective value at t=42 is 0.458223418693571\n",
      "Objective value at t=43 is 0.4582124854197509\n",
      "Objective value at t=44 is 0.45820296646454206\n",
      "Objective value at t=45 is 0.45819467466703795\n",
      "Objective value at t=46 is 0.45818744835397607\n",
      "Objective value at t=47 is 0.45818114774107643\n",
      "Objective value at t=48 is 0.45817565186581405\n",
      "Objective value at t=49 is 0.45817085596878676\n",
      "Objective value at t=50 is 0.45816666925458105\n",
      "Objective value at t=51 is 0.4581630129743402\n",
      "Objective value at t=52 is 0.4581598187815679\n",
      "Objective value at t=53 is 0.4581570273204217\n",
      "Objective value at t=54 is 0.45815458701215833\n",
      "Objective value at t=55 is 0.4581524530107448\n",
      "Objective value at t=56 is 0.45815058630309013\n",
      "Objective value at t=57 is 0.4581489529331023\n",
      "Objective value at t=58 is 0.4581475233318984\n",
      "Objective value at t=59 is 0.4581462717391313\n",
      "Objective value at t=60 is 0.4581451757026224\n",
      "Objective value at t=61 is 0.4581442156453604\n",
      "Objective value at t=62 is 0.45814337449051934\n",
      "Objective value at t=63 is 0.458142637336491\n",
      "Objective value at t=64 is 0.4581419911750752\n",
      "Objective value at t=65 is 0.4581414246469402\n",
      "Objective value at t=66 is 0.4581409278292993\n",
      "Objective value at t=67 is 0.4581404920514532\n",
      "Objective value at t=68 is 0.45814010973445474\n",
      "Objective value at t=69 is 0.45813977425167113\n",
      "Objective value at t=70 is 0.4581394798074596\n",
      "Objective value at t=71 is 0.45813922133155566\n",
      "Objective value at t=72 is 0.45813899438709677\n",
      "Objective value at t=73 is 0.4581387950904881\n",
      "Objective value at t=74 is 0.4581386200415585\n",
      "Objective value at t=75 is 0.45813846626265875\n",
      "Objective value at t=76 is 0.4581383311455404\n",
      "Objective value at t=77 is 0.45813821240500435\n",
      "Objective value at t=78 is 0.4581381080384397\n",
      "Objective value at t=79 is 0.4581380162904975\n",
      "Objective value at t=80 is 0.45813793562223426\n",
      "Objective value at t=81 is 0.45813786468415285\n",
      "Objective value at t=82 is 0.45813780229264117\n",
      "Objective value at t=83 is 0.4581377474093762\n",
      "Objective value at t=84 is 0.4581376991233122\n",
      "Objective value at t=85 is 0.45813765663492795\n",
      "Objective value at t=86 is 0.45813761924244334\n",
      "Objective value at t=87 is 0.4581375863297585\n",
      "Objective value at t=88 is 0.4581375573558961\n",
      "Objective value at t=89 is 0.45813753184575756\n",
      "Objective value at t=90 is 0.4581375093820282\n",
      "Objective value at t=91 is 0.4581374895980869\n",
      "Objective value at t=92 is 0.4581374721717943\n",
      "Objective value at t=93 is 0.4581374568200486\n",
      "Objective value at t=94 is 0.4581374432940145\n",
      "Objective value at t=95 is 0.4581374313749407\n",
      "Objective value at t=96 is 0.4581374208704923\n",
      "Objective value at t=97 is 0.45813741161153393\n",
      "Objective value at t=98 is 0.458137403449309\n",
      "Objective value at t=99 is 0.4581373962529639\n"
     ]
    }
   ],
   "source": [
    "lam = 1E-6\n",
    "stepsize = 1.0\n",
    "w, objvals_gd = grad_descent(x_train, y_train, lam, stepsize)"
   ]
  },
  {
   "cell_type": "markdown",
   "metadata": {},
   "source": [
    "## 3.2. Stochastic gradient descent (SGD)\n",
    "\n",
    "Define $Q_i (w) = \\log \\Big( 1 + \\exp \\big( - y_i x_i^T w \\big) \\Big) + \\frac{\\lambda}{2} \\| w \\|_2^2 $.\n",
    "\n",
    "The stochastic gradient at $w$ is $g_i = \\frac{\\partial Q_i }{ \\partial w} = -\\frac{y_i x_i }{1 + \\exp ( y_i x_i^T w)} + \\lambda w$."
   ]
  },
  {
   "cell_type": "code",
   "execution_count": 11,
   "metadata": {},
   "outputs": [],
   "source": [
    "# Calculate the objective Q_i and the gradient of Q_i\n",
    "# Inputs:\n",
    "#     w: d-by-1 matrix\n",
    "#     xi: 1-by-d matrix\n",
    "#     yi: scalar\n",
    "#     lam: scalar, the regularization parameter\n",
    "# Return:\n",
    "#     obj: scalar, the objective Q_i\n",
    "#     g: d-by-1 matrix, gradient of Q_i\n",
    "def stochastic_objective_gradient(w, xi, yi, lam):\n",
    "    d = xi.shape[0]\n",
    "    yx = yi * xi # 1-by-d matrix\n",
    "    yxw = float(numpy.dot(yx, w)) # scalar\n",
    "    \n",
    "    # calculate objective function Q_i\n",
    "    loss = numpy.log(1 + numpy.exp(-yxw)) # scalar\n",
    "    reg = lam / 2 * numpy.sum(w * w) # scalar\n",
    "    obj = loss + reg\n",
    "    \n",
    "    # calculate stochastic gradient\n",
    "    g_loss = -yx.T / (1 + numpy.exp(yxw)) # d-by-1 matrix\n",
    "    g = g_loss + lam * w # d-by-1 matrix\n",
    "    \n",
    "    return obj, g"
   ]
  },
  {
   "cell_type": "code",
   "execution_count": 12,
   "metadata": {},
   "outputs": [],
   "source": [
    "# SGD for solving logistic regression\n",
    "# Inputs:\n",
    "#     x: n-by-d matrix\n",
    "#     y: n-by-1 matrix\n",
    "#     lam: scalar, the regularization parameter\n",
    "#     stepsize: scalar\n",
    "#     max_epoch: integer, the maximal epochs\n",
    "#     w: d-by-1 matrix, initialization of w\n",
    "# Return:\n",
    "#     w: the solution\n",
    "#     objvals: record of each iteration's objective value\n",
    "def sgd(x, y, lam, stepsize, max_epoch=100, w=None):\n",
    "    n, d = x.shape\n",
    "    objvals = numpy.zeros(max_epoch) # store the objective values\n",
    "    if w is None:\n",
    "        w = numpy.zeros((d, 1)) # zero initialization\n",
    "    \n",
    "    for t in range(max_epoch):\n",
    "        # randomly shuffle the samples\n",
    "        rand_indices = numpy.random.permutation(n)\n",
    "        x_rand = x[rand_indices, :]\n",
    "        y_rand = y[rand_indices, :]\n",
    "        \n",
    "        objval = 0 # accumulate the objective values\n",
    "        for i in range(n):\n",
    "            xi = x_rand[i, :] # 1-by-d matrix\n",
    "            yi = float(y_rand[i, :]) # scalar\n",
    "            obj, g = stochastic_objective_gradient(w, xi, yi, lam)\n",
    "            objval += obj\n",
    "            w -= stepsize * g\n",
    "        \n",
    "        stepsize *= 0.9 # decrease step size\n",
    "        objval /= n\n",
    "        objvals[t] = objval\n",
    "        print('Objective value at epoch t=' + str(t) + ' is ' + str(objval))\n",
    "    \n",
    "    return w, objvals"
   ]
  },
  {
   "cell_type": "markdown",
   "metadata": {},
   "source": [
    "Run SGD."
   ]
  },
  {
   "cell_type": "code",
   "execution_count": 13,
   "metadata": {},
   "outputs": [
    {
     "name": "stdout",
     "output_type": "stream",
     "text": [
      "Objective value at epoch t=0 is 0.5205249928512932\n",
      "Objective value at epoch t=1 is 0.4999173280381972\n",
      "Objective value at epoch t=2 is 0.501061625833474\n",
      "Objective value at epoch t=3 is 0.4948846955474399\n",
      "Objective value at epoch t=4 is 0.4861477734211499\n",
      "Objective value at epoch t=5 is 0.48618930023515344\n",
      "Objective value at epoch t=6 is 0.4886624312460839\n",
      "Objective value at epoch t=7 is 0.48018686397328353\n",
      "Objective value at epoch t=8 is 0.481995616578684\n",
      "Objective value at epoch t=9 is 0.4774250755957665\n",
      "Objective value at epoch t=10 is 0.46989873005068544\n",
      "Objective value at epoch t=11 is 0.4770626179422003\n",
      "Objective value at epoch t=12 is 0.47381114392100265\n",
      "Objective value at epoch t=13 is 0.47060545892327726\n",
      "Objective value at epoch t=14 is 0.4725450517755798\n",
      "Objective value at epoch t=15 is 0.47011698126462054\n",
      "Objective value at epoch t=16 is 0.4696209898404387\n",
      "Objective value at epoch t=17 is 0.46581198151179576\n",
      "Objective value at epoch t=18 is 0.4674164749018392\n",
      "Objective value at epoch t=19 is 0.4662032683387853\n",
      "Objective value at epoch t=20 is 0.46539026503794123\n",
      "Objective value at epoch t=21 is 0.46468473644418345\n",
      "Objective value at epoch t=22 is 0.4640749627032557\n",
      "Objective value at epoch t=23 is 0.4632992452370411\n",
      "Objective value at epoch t=24 is 0.4633504269435507\n",
      "Objective value at epoch t=25 is 0.4625749041146932\n",
      "Objective value at epoch t=26 is 0.46201704287211703\n",
      "Objective value at epoch t=27 is 0.4619296706380265\n",
      "Objective value at epoch t=28 is 0.46162384962651426\n",
      "Objective value at epoch t=29 is 0.46104753481319566\n",
      "Objective value at epoch t=30 is 0.46100470394131327\n",
      "Objective value at epoch t=31 is 0.4606292540631797\n",
      "Objective value at epoch t=32 is 0.4604121001256622\n",
      "Objective value at epoch t=33 is 0.4601188052331809\n",
      "Objective value at epoch t=34 is 0.45999218502030814\n",
      "Objective value at epoch t=35 is 0.4597458774075023\n",
      "Objective value at epoch t=36 is 0.4596425300163223\n",
      "Objective value at epoch t=37 is 0.45944885939358654\n",
      "Objective value at epoch t=38 is 0.45935306321597796\n",
      "Objective value at epoch t=39 is 0.4592341790269175\n",
      "Objective value at epoch t=40 is 0.4591416687862008\n",
      "Objective value at epoch t=41 is 0.45903762303471385\n",
      "Objective value at epoch t=42 is 0.45894942909656733\n",
      "Objective value at epoch t=43 is 0.458871783700113\n",
      "Objective value at epoch t=44 is 0.45879457045230554\n",
      "Objective value at epoch t=45 is 0.45872709125582306\n",
      "Objective value at epoch t=46 is 0.45867011850449\n",
      "Objective value at epoch t=47 is 0.45861901101885033\n",
      "Objective value at epoch t=48 is 0.45856559069913777\n",
      "Objective value at epoch t=49 is 0.4585243396119822\n",
      "Objective value at epoch t=50 is 0.4584891536304876\n",
      "Objective value at epoch t=51 is 0.45845361403393037\n",
      "Objective value at epoch t=52 is 0.45842235460379127\n",
      "Objective value at epoch t=53 is 0.4583941503854266\n",
      "Objective value at epoch t=54 is 0.4583683652971147\n",
      "Objective value at epoch t=55 is 0.4583454760265803\n",
      "Objective value at epoch t=56 is 0.45832439937928454\n",
      "Objective value at epoch t=57 is 0.4583059564162359\n",
      "Objective value at epoch t=58 is 0.4582893314998744\n",
      "Objective value at epoch t=59 is 0.4582740208011693\n",
      "Objective value at epoch t=60 is 0.4582599700373636\n",
      "Objective value at epoch t=61 is 0.45824822095932966\n",
      "Objective value at epoch t=62 is 0.458236862048029\n",
      "Objective value at epoch t=63 is 0.45822694464085295\n",
      "Objective value at epoch t=64 is 0.4582181825194534\n",
      "Objective value at epoch t=65 is 0.4582101394172135\n",
      "Objective value at epoch t=66 is 0.4582029097524856\n",
      "Objective value at epoch t=67 is 0.4581963284535039\n",
      "Objective value at epoch t=68 is 0.4581905172543958\n",
      "Objective value at epoch t=69 is 0.4581851663439866\n",
      "Objective value at epoch t=70 is 0.4581804525580501\n",
      "Objective value at epoch t=71 is 0.4581761652773098\n",
      "Objective value at epoch t=72 is 0.4581722894452898\n",
      "Objective value at epoch t=73 is 0.4581688353277454\n",
      "Objective value at epoch t=74 is 0.45816570990552596\n",
      "Objective value at epoch t=75 is 0.45816289220627143\n",
      "Objective value at epoch t=76 is 0.45816035847060044\n",
      "Objective value at epoch t=77 is 0.45815808311504747\n",
      "Objective value at epoch t=78 is 0.45815601660881516\n",
      "Objective value at epoch t=79 is 0.45815418638163397\n",
      "Objective value at epoch t=80 is 0.4581525176770959\n",
      "Objective value at epoch t=81 is 0.45815102404463925\n",
      "Objective value at epoch t=82 is 0.45814967985606336\n",
      "Objective value at epoch t=83 is 0.45814846836335404\n",
      "Objective value at epoch t=84 is 0.4581473778656409\n",
      "Objective value at epoch t=85 is 0.4581463966385175\n",
      "Objective value at epoch t=86 is 0.45814551263348763\n",
      "Objective value at epoch t=87 is 0.45814471854348676\n",
      "Objective value at epoch t=88 is 0.4581440023813115\n",
      "Objective value at epoch t=89 is 0.4581433583674943\n",
      "Objective value at epoch t=90 is 0.4581427787548692\n",
      "Objective value at epoch t=91 is 0.4581422571353039\n",
      "Objective value at epoch t=92 is 0.45814178731700866\n",
      "Objective value at epoch t=93 is 0.45814136442703723\n",
      "Objective value at epoch t=94 is 0.4581409844234376\n",
      "Objective value at epoch t=95 is 0.4581406420594355\n",
      "Objective value at epoch t=96 is 0.4581403339786266\n",
      "Objective value at epoch t=97 is 0.45814005660656826\n",
      "Objective value at epoch t=98 is 0.4581398071527115\n",
      "Objective value at epoch t=99 is 0.4581395825701865\n"
     ]
    }
   ],
   "source": [
    "lam = 1E-6\n",
    "stepsize = 0.1\n",
    "w, objvals_sgd = sgd(x_train, y_train, lam, stepsize)"
   ]
  },
  {
   "cell_type": "markdown",
   "metadata": {},
   "source": [
    "# 4. Compare GD with SGD\n",
    "\n",
    "Plot objective function values against epochs."
   ]
  },
  {
   "cell_type": "code",
   "execution_count": 14,
   "metadata": {},
   "outputs": [
    {
     "data": {
      "image/png": "[encoded data removed]",
      "text/plain": [
       "<Figure size 432x288 with 1 Axes>"
      ]
     },
     "metadata": {
      "needs_background": "light"
     },
     "output_type": "display_data"
    }
   ],
   "source": [
    "import matplotlib.pyplot as plt\n",
    "%matplotlib inline\n",
    "\n",
    "fig = plt.figure(figsize=(6, 4))\n",
    "\n",
    "epochs_gd = range(len(objvals_gd))\n",
    "epochs_sgd = range(len(objvals_sgd))\n",
    "\n",
    "line0, = plt.plot(epochs_gd, objvals_gd, '--b', LineWidth=4)\n",
    "line1, = plt.plot(epochs_sgd, objvals_sgd, '-r', LineWidth=2)\n",
    "plt.xlabel('Epochs', FontSize=20)\n",
    "plt.ylabel('Objective Value', FontSize=20)\n",
    "plt.xticks(FontSize=16)\n",
    "plt.yticks(FontSize=16)\n",
    "plt.legend([line0, line1], ['GD', 'SGD'], fontsize=20)\n",
    "plt.tight_layout()\n",
    "plt.show()\n",
    "fig.savefig('compare_gd_sgd.pdf', format='pdf', dpi=1200)"
   ]
  },
  {
   "cell_type": "markdown",
   "metadata": {},
   "source": [
    "# 5. Prediction"
   ]
  },
  {
   "cell_type": "code",
   "execution_count": 15,
   "metadata": {},
   "outputs": [],
   "source": [
    "# Predict class label\n",
    "# Inputs:\n",
    "#     w: d-by-1 matrix\n",
    "#     X: m-by-d matrix\n",
    "# Return:\n",
    "#     f: m-by-1 matrix, the predictions\n",
    "def predict(w, X):\n",
    "    xw = numpy.dot(X, w)\n",
    "    f = numpy.sign(xw)\n",
    "    return f"
   ]
  },
  {
   "cell_type": "code",
   "execution_count": 16,
   "metadata": {},
   "outputs": [
    {
     "name": "stdout",
     "output_type": "stream",
     "text": [
      "Training classification error is 0.21951219512195122\n"
     ]
    }
   ],
   "source": [
    "# evaluate training error\n",
    "f_train = predict(w, x_train)\n",
    "diff = numpy.abs(f_train - y_train) / 2\n",
    "error_train = numpy.mean(diff)\n",
    "print('Training classification error is ' + str(error_train))"
   ]
  },
  {
   "cell_type": "code",
   "execution_count": 17,
   "metadata": {},
   "outputs": [
    {
     "name": "stdout",
     "output_type": "stream",
     "text": [
      "Test classification error is 0.2222222222222222\n"
     ]
    }
   ],
   "source": [
    "# evaluate test error\n",
    "f_test = predict(w, x_test)\n",
    "diff = numpy.abs(f_test - y_test) / 2\n",
    "error_test = numpy.mean(diff)\n",
    "print('Test classification error is ' + str(error_test))"
   ]
  },
  {
   "cell_type": "markdown",
   "metadata": {},
   "source": [
    "# 6. Mini-batch SGD (fill the code)\n",
    "\n"
   ]
  },
  {
   "cell_type": "markdown",
   "metadata": {},
   "source": [
    "## 6.1. Compute the objective $Q_I$ and its gradient using a batch of samples\n",
    "\n",
    "Define $Q_I (w) = \\frac{1}{b} \\sum_{i \\in I} \\log \\Big( 1 + \\exp \\big( - y_i x_i^T w \\big) \\Big) + \\frac{\\lambda}{2} \\| w \\|_2^2 $, where $I$ is a set containing $b$ indices randomly drawn from $\\{ 1, \\cdots , n \\}$ without replacement.\n",
    "\n",
    "The stochastic gradient at $w$ is $g_I = \\frac{\\partial Q_I }{ \\partial w} = \\frac{1}{b} \\sum_{i \\in I} \\frac{- y_i x_i }{1 + \\exp ( y_i x_i^T w)} + \\lambda w$."
   ]
  },
  {
   "cell_type": "code",
   "execution_count": 18,
   "metadata": {},
   "outputs": [],
   "source": [
    "# Calculate the objective Q_I and the gradient of Q_I\n",
    "# Inputs:\n",
    "#     w: d-by-1 matrix\n",
    "#     xi: b-by-d matrix\n",
    "#     yi: b-by-1 matrix\n",
    "#     lam: scalar, the regularization parameter\n",
    "#     b: integer, the batch size\n",
    "# Return:\n",
    "#     obj: scalar, the objective Q_i\n",
    "#     g: d-by-1 matrix, gradient of Q_i\n",
    "def mb_stochastic_objective_gradient(w, xi, yi, lam, b):\n",
    "    # Fill the function\n",
    "    # Follow the implementation of stochastic_objective_gradient\n",
    "    # Use matrix-vector multiplication; do not use FOR LOOP of vector-vector multiplications\n",
    "    n, d = xi.shape\n",
    "    yx = numpy.multiply(yi, xi)\n",
    "    yxw = numpy.dot(yx, w)\n",
    "    \n",
    "    loss = numpy.mean(numpy.log(1 + numpy.exp(-yxw)))\n",
    "    reg = lam / 2 * numpy.sum(w*w) \n",
    "    obj = loss + reg\n",
    "    \n",
    "    g_loss = numpy.mean(numpy.divide(-yx, 1+numpy.exp(yxw)), axis=0).reshape(d,1)\n",
    "    g = g_loss + lam * w\n",
    "    \n",
    "    return obj, g"
   ]
  },
  {
   "cell_type": "markdown",
   "metadata": {},
   "source": [
    "## 6.2. Implement mini-batch SGD\n",
    "\n",
    "Hints:\n",
    "1. In every epoch, randomly permute the $n$ samples (just like SGD).\n",
    "2. Each epoch has $\\frac{n}{b}$ iterations. In every iteration, use $b$ samples, and compute the gradient and objective using the ``mb_stochastic_objective_gradient`` function. In the next iteration, use the next $b$ samples, and so on.\n",
    "3. Note that ``n mod b`` may not be zero. For example, if $n=1095$ and $b=100$, then there will be $95$ samples left. If the $95$ samples are not used, then the computed objective function will be incorrect. You need to take this effect into account in your implementation of the ``mb_sgd`` function."
   ]
  },
  {
   "cell_type": "code",
   "execution_count": 19,
   "metadata": {},
   "outputs": [],
   "source": [
    "# Mini-Batch SGD for solving logistic regression\n",
    "# Inputs:\n",
    "#     x: n-by-d matrix\n",
    "#     y: n-by-1 matrix\n",
    "#     lam: scalar, the regularization parameter\n",
    "#     b: integer, the batch size\n",
    "#     stepsize: scalar\n",
    "#     max_epoch: integer, the maximal epochs\n",
    "#     w: d-by-1 matrix, initialization of w\n",
    "# Return:\n",
    "#     w: the solution\n",
    "#     objvals: record of each iteration's objective value\n",
    "\n",
    "def mb_sgd(x, y, lam, b, stepsize, max_epoch=100, w=None):\n",
    "    # Fill the function\n",
    "    # Follow the implementation of sgd\n",
    "    # Record one objective value per epoch (not per iteration!)\n",
    "    n , d = x.shape\n",
    "    objvals = numpy.zeros(max_epoch)\n",
    "    if w is None:\n",
    "        w = numpy.zeros((d,1))\n",
    "    \n",
    "    for t in range(max_epoch):\n",
    "        rand_indices = numpy.random.permutation(n)\n",
    "        x_rand = x[rand_indices, :]\n",
    "        y_rand = y[rand_indices, :]\n",
    "        objval = 0\n",
    "        \n",
    "        for i in range(0,n,b):\n",
    "            xi = x_rand[i:i+b, :]\n",
    "            yi = numpy.array(y_rand[i:i+b, :]).astype(float)\n",
    "            \n",
    "            obj , g = mb_stochastic_objective_gradient(w , xi, yi, lam, b)\n",
    "            objval += obj\n",
    "            w -= stepsize * g\n",
    "            \n",
    "        stepsize *= 0.9 # decrease step size\n",
    "        objval /= round(n/b)\n",
    "        objvals[t] = objval\n",
    "        print('Objective value at epoch t=' + str(t) + ' is ' + str(objval))\n",
    "    \n",
    "    return w, objvals"
   ]
  },
  {
   "cell_type": "markdown",
   "metadata": {},
   "source": [
    "## 6.3. Run MB-SGD"
   ]
  },
  {
   "cell_type": "code",
   "execution_count": 29,
   "metadata": {},
   "outputs": [
    {
     "name": "stdout",
     "output_type": "stream",
     "text": [
      "Objective value at epoch t=0 is 0.5392696123768655\n",
      "Objective value at epoch t=1 is 0.47675575623864197\n",
      "Objective value at epoch t=2 is 0.4677830195381643\n",
      "Objective value at epoch t=3 is 0.4653320337868033\n",
      "Objective value at epoch t=4 is 0.46337505041120486\n",
      "Objective value at epoch t=5 is 0.4621525766252505\n",
      "Objective value at epoch t=6 is 0.4624517390037984\n",
      "Objective value at epoch t=7 is 0.4625977961920516\n",
      "Objective value at epoch t=8 is 0.46113550765145034\n",
      "Objective value at epoch t=9 is 0.4608049487497798\n",
      "Objective value at epoch t=10 is 0.46105061571162753\n",
      "Objective value at epoch t=11 is 0.46075504625645086\n",
      "Objective value at epoch t=12 is 0.46052306515755626\n",
      "Objective value at epoch t=13 is 0.460302278551158\n",
      "Objective value at epoch t=14 is 0.4600641926723942\n",
      "Objective value at epoch t=15 is 0.4593667559464526\n",
      "Objective value at epoch t=16 is 0.4596454713576787\n",
      "Objective value at epoch t=17 is 0.4595846677945093\n",
      "Objective value at epoch t=18 is 0.4600372905794119\n",
      "Objective value at epoch t=19 is 0.45917744035396335\n",
      "Objective value at epoch t=20 is 0.4590882859402378\n",
      "Objective value at epoch t=21 is 0.45962314327583037\n",
      "Objective value at epoch t=22 is 0.4592854053403535\n",
      "Objective value at epoch t=23 is 0.4591369019705693\n",
      "Objective value at epoch t=24 is 0.45859591844386177\n",
      "Objective value at epoch t=25 is 0.45862766986041625\n",
      "Objective value at epoch t=26 is 0.45836058248876516\n",
      "Objective value at epoch t=27 is 0.45893841679386327\n",
      "Objective value at epoch t=28 is 0.4581130181349714\n",
      "Objective value at epoch t=29 is 0.4584590245179239\n",
      "Objective value at epoch t=30 is 0.45844500475592176\n",
      "Objective value at epoch t=31 is 0.45851811288699784\n",
      "Objective value at epoch t=32 is 0.4582825430345519\n",
      "Objective value at epoch t=33 is 0.4583944547586305\n",
      "Objective value at epoch t=34 is 0.4579305531156403\n",
      "Objective value at epoch t=35 is 0.45818104472122734\n",
      "Objective value at epoch t=36 is 0.45821435391146104\n",
      "Objective value at epoch t=37 is 0.45837708993435405\n",
      "Objective value at epoch t=38 is 0.4595762235433967\n",
      "Objective value at epoch t=39 is 0.4587266199662307\n",
      "Objective value at epoch t=40 is 0.45781090643967587\n",
      "Objective value at epoch t=41 is 0.45840563560452485\n",
      "Objective value at epoch t=42 is 0.45847274365436863\n",
      "Objective value at epoch t=43 is 0.45866507876035906\n",
      "Objective value at epoch t=44 is 0.4591247259652029\n",
      "Objective value at epoch t=45 is 0.45852265330851216\n",
      "Objective value at epoch t=46 is 0.4579277908400225\n",
      "Objective value at epoch t=47 is 0.4578989337542231\n",
      "Objective value at epoch t=48 is 0.45820937695645214\n",
      "Objective value at epoch t=49 is 0.4580916899936419\n",
      "Objective value at epoch t=50 is 0.45842392965436185\n",
      "Objective value at epoch t=51 is 0.45800427169595676\n",
      "Objective value at epoch t=52 is 0.45790555750340745\n",
      "Objective value at epoch t=53 is 0.45855677207310847\n",
      "Objective value at epoch t=54 is 0.4577828294151846\n",
      "Objective value at epoch t=55 is 0.458027908773712\n",
      "Objective value at epoch t=56 is 0.4581077960312497\n",
      "Objective value at epoch t=57 is 0.458327935271915\n",
      "Objective value at epoch t=58 is 0.45870905421361774\n",
      "Objective value at epoch t=59 is 0.457997750722437\n",
      "Objective value at epoch t=60 is 0.45812109621050756\n",
      "Objective value at epoch t=61 is 0.458197867613199\n",
      "Objective value at epoch t=62 is 0.4583980865428587\n",
      "Objective value at epoch t=63 is 0.45790071907346064\n",
      "Objective value at epoch t=64 is 0.4587712989967107\n",
      "Objective value at epoch t=65 is 0.4581583085169117\n",
      "Objective value at epoch t=66 is 0.45825282437749953\n",
      "Objective value at epoch t=67 is 0.4579521954476026\n",
      "Objective value at epoch t=68 is 0.4576448205492976\n",
      "Objective value at epoch t=69 is 0.45786598360781156\n",
      "Objective value at epoch t=70 is 0.457838740845889\n",
      "Objective value at epoch t=71 is 0.45834721204186146\n",
      "Objective value at epoch t=72 is 0.45784616291232116\n",
      "Objective value at epoch t=73 is 0.4576842364161263\n",
      "Objective value at epoch t=74 is 0.4581144440509437\n",
      "Objective value at epoch t=75 is 0.4580287088979238\n",
      "Objective value at epoch t=76 is 0.4593159791003557\n",
      "Objective value at epoch t=77 is 0.45878854674156916\n",
      "Objective value at epoch t=78 is 0.4581167955430205\n",
      "Objective value at epoch t=79 is 0.45776572721654213\n",
      "Objective value at epoch t=80 is 0.45887104640034954\n",
      "Objective value at epoch t=81 is 0.45854551875779453\n",
      "Objective value at epoch t=82 is 0.4580292170338297\n",
      "Objective value at epoch t=83 is 0.4578365232924069\n",
      "Objective value at epoch t=84 is 0.4585031952747475\n",
      "Objective value at epoch t=85 is 0.4582211001538359\n",
      "Objective value at epoch t=86 is 0.4583279605231825\n",
      "Objective value at epoch t=87 is 0.4577079387168897\n",
      "Objective value at epoch t=88 is 0.45828603168914034\n",
      "Objective value at epoch t=89 is 0.45780894918717036\n",
      "Objective value at epoch t=90 is 0.45792212857243175\n",
      "Objective value at epoch t=91 is 0.4579581202581743\n",
      "Objective value at epoch t=92 is 0.45793306640278914\n",
      "Objective value at epoch t=93 is 0.45833023726621785\n",
      "Objective value at epoch t=94 is 0.45795101748135847\n",
      "Objective value at epoch t=95 is 0.4578472286349518\n",
      "Objective value at epoch t=96 is 0.4584989884097382\n",
      "Objective value at epoch t=97 is 0.45818406520863963\n",
      "Objective value at epoch t=98 is 0.4579355404032273\n",
      "Objective value at epoch t=99 is 0.4581904528414755\n"
     ]
    }
   ],
   "source": [
    "# MB-SGD with batch size b=8\n",
    "lam = 1E-6 # do not change\n",
    "b = 8 # do not change\n",
    "stepsize = 0.1 # you must tune this parameter\n",
    "\n",
    "w, objvals_mbsgd8 = mb_sgd(x_train, y_train, lam, b, stepsize)"
   ]
  },
  {
   "cell_type": "code",
   "execution_count": 36,
   "metadata": {},
   "outputs": [
    {
     "name": "stdout",
     "output_type": "stream",
     "text": [
      "Objective value at epoch t=0 is 0.638052669855607\n",
      "Objective value at epoch t=1 is 0.5622628702938399\n",
      "Objective value at epoch t=2 is 0.5308034530182966\n",
      "Objective value at epoch t=3 is 0.5121996403636458\n",
      "Objective value at epoch t=4 is 0.5072583515249703\n",
      "Objective value at epoch t=5 is 0.49747063014029563\n",
      "Objective value at epoch t=6 is 0.491122048938523\n",
      "Objective value at epoch t=7 is 0.4865306208819966\n",
      "Objective value at epoch t=8 is 0.48101047674069675\n",
      "Objective value at epoch t=9 is 0.48133648045468236\n",
      "Objective value at epoch t=10 is 0.48277448474638557\n",
      "Objective value at epoch t=11 is 0.47613407084130993\n",
      "Objective value at epoch t=12 is 0.4765548525928073\n",
      "Objective value at epoch t=13 is 0.47306524734021876\n",
      "Objective value at epoch t=14 is 0.4775824867352293\n",
      "Objective value at epoch t=15 is 0.47258631510765514\n",
      "Objective value at epoch t=16 is 0.47386819824095505\n",
      "Objective value at epoch t=17 is 0.4718616296100405\n",
      "Objective value at epoch t=18 is 0.47209558382958317\n",
      "Objective value at epoch t=19 is 0.46680225982384993\n",
      "Objective value at epoch t=20 is 0.46729703885501933\n",
      "Objective value at epoch t=21 is 0.47066534205885474\n",
      "Objective value at epoch t=22 is 0.4716268752420863\n",
      "Objective value at epoch t=23 is 0.46801461878015704\n",
      "Objective value at epoch t=24 is 0.46927572741965873\n",
      "Objective value at epoch t=25 is 0.4695939728228167\n",
      "Objective value at epoch t=26 is 0.4699550150975603\n",
      "Objective value at epoch t=27 is 0.4745345942458178\n",
      "Objective value at epoch t=28 is 0.4669131746675227\n",
      "Objective value at epoch t=29 is 0.46553805628745826\n",
      "Objective value at epoch t=30 is 0.4652913396964168\n",
      "Objective value at epoch t=31 is 0.47152994951849925\n",
      "Objective value at epoch t=32 is 0.4680454476150178\n",
      "Objective value at epoch t=33 is 0.4724160237779242\n",
      "Objective value at epoch t=34 is 0.4682287698099274\n",
      "Objective value at epoch t=35 is 0.4681625315715944\n",
      "Objective value at epoch t=36 is 0.46788009736087527\n",
      "Objective value at epoch t=37 is 0.46710967759737365\n",
      "Objective value at epoch t=38 is 0.4663667919560314\n",
      "Objective value at epoch t=39 is 0.4678315911525311\n",
      "Objective value at epoch t=40 is 0.465819459280045\n",
      "Objective value at epoch t=41 is 0.47179040205351264\n",
      "Objective value at epoch t=42 is 0.466288508410157\n",
      "Objective value at epoch t=43 is 0.471544063967285\n",
      "Objective value at epoch t=44 is 0.47011464180003204\n",
      "Objective value at epoch t=45 is 0.4688371776191819\n",
      "Objective value at epoch t=46 is 0.4678563012124111\n",
      "Objective value at epoch t=47 is 0.46850300558026137\n",
      "Objective value at epoch t=48 is 0.4644822538338202\n",
      "Objective value at epoch t=49 is 0.46844310609392376\n",
      "Objective value at epoch t=50 is 0.4659758375318293\n",
      "Objective value at epoch t=51 is 0.4719650667838587\n",
      "Objective value at epoch t=52 is 0.46552872294009556\n",
      "Objective value at epoch t=53 is 0.4664457418368501\n",
      "Objective value at epoch t=54 is 0.46572314821681804\n",
      "Objective value at epoch t=55 is 0.4687328440171001\n",
      "Objective value at epoch t=56 is 0.4658355207530251\n",
      "Objective value at epoch t=57 is 0.46362426680741436\n",
      "Objective value at epoch t=58 is 0.4676073885354106\n",
      "Objective value at epoch t=59 is 0.4652637496718389\n",
      "Objective value at epoch t=60 is 0.46658920040078267\n",
      "Objective value at epoch t=61 is 0.46656387711649455\n",
      "Objective value at epoch t=62 is 0.4676600103608065\n",
      "Objective value at epoch t=63 is 0.4702021168551228\n",
      "Objective value at epoch t=64 is 0.46533691955190354\n",
      "Objective value at epoch t=65 is 0.4655958317024137\n",
      "Objective value at epoch t=66 is 0.4636829396678001\n",
      "Objective value at epoch t=67 is 0.46913305835407976\n",
      "Objective value at epoch t=68 is 0.46786929874830097\n",
      "Objective value at epoch t=69 is 0.47215293591805907\n",
      "Objective value at epoch t=70 is 0.4701552792801774\n",
      "Objective value at epoch t=71 is 0.4676796601986015\n",
      "Objective value at epoch t=72 is 0.4689837605416793\n",
      "Objective value at epoch t=73 is 0.4696463242095065\n",
      "Objective value at epoch t=74 is 0.4598829119688751\n",
      "Objective value at epoch t=75 is 0.4648282514555479\n",
      "Objective value at epoch t=76 is 0.46687265714013665\n",
      "Objective value at epoch t=77 is 0.46592450715641365\n",
      "Objective value at epoch t=78 is 0.46718722912857347\n",
      "Objective value at epoch t=79 is 0.46445272024400364\n",
      "Objective value at epoch t=80 is 0.46772338547120923\n",
      "Objective value at epoch t=81 is 0.46616846256901273\n",
      "Objective value at epoch t=82 is 0.46536630193821527\n",
      "Objective value at epoch t=83 is 0.46414321146634785\n",
      "Objective value at epoch t=84 is 0.46713896204362015\n",
      "Objective value at epoch t=85 is 0.46547159918646824\n",
      "Objective value at epoch t=86 is 0.4631649669604349\n",
      "Objective value at epoch t=87 is 0.4663369178152178\n",
      "Objective value at epoch t=88 is 0.46505127159572535\n",
      "Objective value at epoch t=89 is 0.47016313079770267\n",
      "Objective value at epoch t=90 is 0.46682755841318124\n",
      "Objective value at epoch t=91 is 0.4652185729291035\n",
      "Objective value at epoch t=92 is 0.4683860969142205\n",
      "Objective value at epoch t=93 is 0.46726578514270384\n",
      "Objective value at epoch t=94 is 0.46890426985319544\n",
      "Objective value at epoch t=95 is 0.46570145434630594\n",
      "Objective value at epoch t=96 is 0.4737190626237308\n",
      "Objective value at epoch t=97 is 0.4703742831309274\n",
      "Objective value at epoch t=98 is 0.46777653667465796\n",
      "Objective value at epoch t=99 is 0.46869145959946595\n"
     ]
    }
   ],
   "source": [
    "# MB-SGD with batch size b=64\n",
    "lam = 1E-6 # do not change\n",
    "b = 64 # do not change\n",
    "stepsize = 0.12 # you must tune this parameter\n",
    "\n",
    "w, objvals_mbsgd64 = mb_sgd(x_train, y_train, lam, b, stepsize)"
   ]
  },
  {
   "cell_type": "markdown",
   "metadata": {},
   "source": [
    "# 7. Plot and compare GD, SGD, and MB-SGD"
   ]
  },
  {
   "cell_type": "markdown",
   "metadata": {},
   "source": [
    "You are required to compare the following algorithms:\n",
    "\n",
    "- Gradient descent (GD)\n",
    "\n",
    "- SGD\n",
    "\n",
    "- MB-SGD with b=8\n",
    "\n",
    "- MB-SGD with b=64\n",
    "\n",
    "Follow the code in Section 4 to plot ```objective function value``` against ```epochs```. There should be four curves in the plot; each curve corresponds to one algorithm."
   ]
  },
  {
   "cell_type": "markdown",
   "metadata": {},
   "source": [
    "Hint: Logistic regression with $\\ell_2$-norm regularization is a strongly convex optimization problem. All the algorithms will converge to the same solution. In the end, the ``objective function value`` of the 4 algorithms will be the same. If not the same, your implementation must be wrong. "
   ]
  },
  {
   "cell_type": "code",
   "execution_count": 37,
   "metadata": {},
   "outputs": [
    {
     "data": {
      "image/png": "[encoded data removed]",
      "text/plain": [
       "<Figure size 432x288 with 1 Axes>"
      ]
     },
     "metadata": {
      "needs_background": "light"
     },
     "output_type": "display_data"
    }
   ],
   "source": [
    "# plot the 4 curves:\n",
    "\n",
    "fig = plt.figure(figsize=(6, 4))\n",
    "\n",
    "epochs_gd = range(len(objvals_gd))\n",
    "epochs_sgd = range(len(objvals_sgd))\n",
    "epochs_mbsgd8 = range(len(objvals_mbsgd8))\n",
    "epochs_mbsgd64 = range(len(objvals_mbsgd64))\n",
    "\n",
    "\n",
    "\n",
    "line0, = plt.plot(epochs_gd, objvals_gd, '--b', LineWidth=4)\n",
    "line1, = plt.plot(epochs_sgd, objvals_sgd, '-r', LineWidth=4)\n",
    "line2, = plt.plot(epochs_sgd, objvals_mbsgd8, '-g', LineWidth=3)\n",
    "line3, = plt.plot(epochs_sgd, objvals_mbsgd64, '-y', LineWidth=2)\n",
    "\n",
    "\n",
    "plt.xlabel('Epochs', FontSize=20)\n",
    "plt.ylabel('Objective Value', FontSize=20)\n",
    "plt.xticks(FontSize=16)\n",
    "plt.yticks(FontSize=16)\n",
    "plt.legend([line0, line1, line2, line3], ['GD', 'SGD', 'MB-SGD-8', 'MB-SGD-64'], fontsize=20)\n",
    "plt.tight_layout()\n",
    "plt.show()\n",
    "fig.savefig('compare_gd_sgd_mbdgd.pdf', format='pdf', dpi=1200)"
   ]
  },
  {
   "cell_type": "markdown",
   "metadata": {},
   "source": []
  }
 ],
 "metadata": {
  "kernelspec": {
   "display_name": "Python 3",
   "language": "python",
   "name": "python3"
  },
  "language_info": {
   "codemirror_mode": {
    "name": "ipython",
    "version": 3
   },
   "file_extension": ".py",
   "mimetype": "text/x-python",
   "name": "python",
   "nbconvert_exporter": "python",
   "pygments_lexer": "ipython3",
   "version": "3.7.3"
  }
 },
 "nbformat": 4,
 "nbformat_minor": 2
}
