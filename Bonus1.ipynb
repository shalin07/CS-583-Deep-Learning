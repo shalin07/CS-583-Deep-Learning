{
 "cells": [
  {
   "cell_type": "markdown",
   "metadata": {},
   "source": [
    "# Bonus 1: Numerical Optimization for Logistic Regression.\n",
    "\n",
    "### Name: [Shalin Barot]\n"
   ]
  },
  {
   "cell_type": "markdown",
   "metadata": {},
   "source": [
    "## 0. You will do the following:\n",
    "\n",
    "1. Read the lecture note: [click here](https://github.com/wangshusen/DeepLearning/blob/master/LectureNotes/Logistic/paper/logistic.pdf)\n",
    "\n",
    "2. Read, complete, and run my code.\n",
    "\n",
    "3. **Implement mini-batch SGD** and evaluate the performance. (1 bonus point.)\n",
    "\n",
    "4. Convert the .IPYNB file to .HTML file.\n",
    "\n",
    "    * The HTML file must contain **the code** and **the output after execution**.\n",
    "    \n",
    "5. Upload this .HTML file to your Google Drive, Dropbox, or your Github repo.\n",
    "\n",
    "6. Submit the link to this .HTML file to Canvas.\n",
    "\n",
    "    * Example: https://github.com/wangshusen/CS583-2019F/blob/master/homework/Bonus1/Bonus1.html\n",
    "\n",
    "\n",
    "## Grading criteria:\n",
    "\n",
    "1. When computing the ```gradient``` and ```objective function value``` using a batch of samples, use **matrix-vector multiplication** rather than a FOR LOOP of **vector-vector multiplications**.\n",
    "\n",
    "2. Plot ```objective function value``` against ```epochs```. In the plot, compare GD, SGD, and MB-SGD (with $b=8$ and $b=64$). The plot must look reasonable."
   ]
  },
  {
   "cell_type": "markdown",
   "metadata": {},
   "source": [
    "# 1. Data processing\n",
    "\n",
    "- Download the Diabete dataset from https://www.csie.ntu.edu.tw/~cjlin/libsvmtools/datasets/binary/diabetes\n",
    "- Load the data using sklearn.\n",
    "- Preprocess the data."
   ]
  },
  {
   "cell_type": "markdown",
   "metadata": {},
   "source": [
    "## 1.1. Load the data"
   ]
  },
  {
   "cell_type": "code",
   "execution_count": 56,
   "metadata": {},
   "outputs": [
    {
     "name": "stdout",
     "output_type": "stream",
     "text": [
      "Shape of x: (768, 8)\n",
      "Shape of y: (768,)\n"
     ]
    }
   ],
   "source": [
    "from sklearn import datasets\n",
    "import numpy\n",
    "\n",
    "x_sparse, y = datasets.load_svmlight_file('diabetes')\n",
    "x = x_sparse.todense()\n",
    "\n",
    "print('Shape of x: ' + str(x.shape))\n",
    "print('Shape of y: ' + str(y.shape))"
   ]
  },
  {
   "cell_type": "markdown",
   "metadata": {},
   "source": [
    "## 1.2. Partition to training and test sets"
   ]
  },
  {
   "cell_type": "code",
   "execution_count": 57,
   "metadata": {},
   "outputs": [
    {
     "name": "stdout",
     "output_type": "stream",
     "text": [
      "Shape of x_train: (615, 8)\n",
      "Shape of x_test: (153, 8)\n",
      "Shape of y_train: (615, 1)\n",
      "Shape of y_test: (153, 1)\n"
     ]
    }
   ],
   "source": [
    "# partition the data to training and test sets\n",
    "n = x.shape[0]\n",
    "n_train = int(numpy.ceil(n * 0.8))\n",
    "n_test = n - n_train\n",
    "\n",
    "rand_indices = numpy.random.permutation(n)\n",
    "train_indices = rand_indices[0:n_train]\n",
    "test_indices = rand_indices[n_train:n]\n",
    "\n",
    "x_train = x[train_indices, :]\n",
    "x_test = x[test_indices, :]\n",
    "y_train = y[train_indices].reshape(n_train, 1)\n",
    "y_test = y[test_indices].reshape(n_test, 1)\n",
    "\n",
    "print('Shape of x_train: ' + str(x_train.shape))\n",
    "print('Shape of x_test: ' + str(x_test.shape))\n",
    "print('Shape of y_train: ' + str(y_train.shape))\n",
    "print('Shape of y_test: ' + str(y_test.shape))"
   ]
  },
  {
   "cell_type": "markdown",
   "metadata": {},
   "source": [
    "## 1.3. Feature scaling"
   ]
  },
  {
   "cell_type": "markdown",
   "metadata": {},
   "source": [
    "Use the standardization to trainsform both training and test features"
   ]
  },
  {
   "cell_type": "code",
   "execution_count": 58,
   "metadata": {},
   "outputs": [
    {
     "name": "stdout",
     "output_type": "stream",
     "text": [
      "test mean = \n",
      "[[-0.02220476 -0.02155744 -0.02982632 -0.0137193  -0.05507207 -0.04541228\n",
      "  -0.07443152 -0.13230573]]\n",
      "test std = \n",
      "[[0.9263263  0.84734649 0.96740936 0.9465305  1.03584115 0.9143527\n",
      "  1.08218021 0.9569777 ]]\n"
     ]
    }
   ],
   "source": [
    "# Standardization\n",
    "import numpy\n",
    "\n",
    "# calculate mu and sig using the training set\n",
    "d = x_train.shape[1]\n",
    "mu = numpy.mean(x_train, axis=0).reshape(1, d)\n",
    "sig = numpy.std(x_train, axis=0).reshape(1, d)\n",
    "\n",
    "# transform the training features\n",
    "x_train = (x_train - mu) / (sig + 1E-6)\n",
    "\n",
    "# transform the test features\n",
    "x_test = (x_test - mu) / (sig + 1E-6)\n",
    "\n",
    "print('test mean = ')\n",
    "print(numpy.mean(x_test, axis=0))\n",
    "\n",
    "print('test std = ')\n",
    "print(numpy.std(x_test, axis=0))"
   ]
  },
  {
   "cell_type": "markdown",
   "metadata": {},
   "source": [
    "## 1.4. Add a dimension of all ones"
   ]
  },
  {
   "cell_type": "code",
   "execution_count": 59,
   "metadata": {},
   "outputs": [
    {
     "name": "stdout",
     "output_type": "stream",
     "text": [
      "Shape of x_train: (615, 9)\n",
      "Shape of x_test: (153, 9)\n"
     ]
    }
   ],
   "source": [
    "n_train, d = x_train.shape\n",
    "x_train = numpy.concatenate((x_train, numpy.ones((n_train, 1))), axis=1)\n",
    "\n",
    "n_test, d = x_test.shape\n",
    "x_test = numpy.concatenate((x_test, numpy.ones((n_test, 1))), axis=1)\n",
    "\n",
    "print('Shape of x_train: ' + str(x_train.shape))\n",
    "print('Shape of x_test: ' + str(x_test.shape))"
   ]
  },
  {
   "cell_type": "markdown",
   "metadata": {},
   "source": [
    "# 2. Logistic regression model\n",
    "\n",
    "The objective function is $Q (w; X, y) = \\frac{1}{n} \\sum_{i=1}^n \\log \\Big( 1 + \\exp \\big( - y_i x_i^T w \\big) \\Big) + \\frac{\\lambda}{2} \\| w \\|_2^2 $."
   ]
  },
  {
   "cell_type": "code",
   "execution_count": 60,
   "metadata": {},
   "outputs": [],
   "source": [
    "# Calculate the objective function value\n",
    "# Inputs:\n",
    "#     w: d-by-1 matrix\n",
    "#     x: n-by-d matrix\n",
    "#     y: n-by-1 matrix\n",
    "#     lam: scalar, the regularization parameter\n",
    "# Return:\n",
    "#     objective function value (scalar)\n",
    "def objective(w, x, y, lam):\n",
    "    n, d = x.shape\n",
    "    yx = numpy.multiply(y, x) # n-by-d matrix\n",
    "    yxw = numpy.dot(yx, w) # n-by-1 matrix\n",
    "    vec1 = numpy.exp(-yxw) # n-by-1 matrix\n",
    "    vec2 = numpy.log(1 + vec1) # n-by-1 matrix\n",
    "    loss = numpy.mean(vec2) # scalar\n",
    "    reg = lam / 2 * numpy.sum(w * w) # scalar\n",
    "    return loss + reg\n",
    "    "
   ]
  },
  {
   "cell_type": "code",
   "execution_count": 61,
   "metadata": {},
   "outputs": [
    {
     "name": "stdout",
     "output_type": "stream",
     "text": [
      "Initial objective function value = 0.6931471805599453\n"
     ]
    }
   ],
   "source": [
    "# initialize w\n",
    "d = x_train.shape[1]\n",
    "w = numpy.zeros((d, 1))\n",
    "\n",
    "# evaluate the objective function value at w\n",
    "lam = 1E-6\n",
    "objval0 = objective(w, x_train, y_train, lam)\n",
    "print('Initial objective function value = ' + str(objval0))"
   ]
  },
  {
   "cell_type": "markdown",
   "metadata": {},
   "source": [
    "# 3. Numerical optimization"
   ]
  },
  {
   "cell_type": "markdown",
   "metadata": {},
   "source": [
    "## 3.1. Gradient descent\n"
   ]
  },
  {
   "cell_type": "markdown",
   "metadata": {},
   "source": [
    "The gradient at $w$ is $g = - \\frac{1}{n} \\sum_{i=1}^n \\frac{y_i x_i }{1 + \\exp ( y_i x_i^T w)} + \\lambda w$"
   ]
  },
  {
   "cell_type": "code",
   "execution_count": 26,
   "metadata": {},
   "outputs": [],
   "source": [
    "# Calculate the gradient\n",
    "# Inputs:\n",
    "#     w: d-by-1 matrix\n",
    "#     x: n-by-d matrix\n",
    "#     y: n-by-1 matrix\n",
    "#     lam: scalar, the regularization parameter\n",
    "# Return:\n",
    "#     g: g: d-by-1 matrix, full gradient\n",
    "def gradient(w, x, y, lam):\n",
    "    n, d = x.shape\n",
    "    yx = numpy.multiply(y, x) # n-by-d matrix\n",
    "    yxw = numpy.dot(yx, w) # n-by-1 matrix\n",
    "    vec1 = numpy.exp(yxw) # n-by-1 matrix\n",
    "    vec2 = numpy.divide(yx, 1+vec1) # n-by-d matrix\n",
    "    vec3 = -numpy.mean(vec2, axis=0).reshape(d, 1) # d-by-1 matrix\n",
    "    g = vec3 + lam * w\n",
    "    return g"
   ]
  },
  {
   "cell_type": "code",
   "execution_count": 27,
   "metadata": {},
   "outputs": [],
   "source": [
    "# Gradient descent for solving logistic regression\n",
    "# Inputs:\n",
    "#     x: n-by-d matrix\n",
    "#     y: n-by-1 matrix\n",
    "#     lam: scalar, the regularization parameter\n",
    "#     stepsize: scalar\n",
    "#     max_iter: integer, the maximal iterations\n",
    "#     w: d-by-1 matrix, initialization of w\n",
    "# Return:\n",
    "#     w: d-by-1 matrix, the solution\n",
    "#     objvals: a record of each iteration's objective value\n",
    "def grad_descent(x, y, lam, stepsize, max_iter=100, w=None):\n",
    "    n, d = x.shape\n",
    "    objvals = numpy.zeros(max_iter) # store the objective values\n",
    "    if w is None:\n",
    "        w = numpy.zeros((d, 1)) # zero initialization\n",
    "    \n",
    "    for t in range(max_iter):\n",
    "        objval = objective(w, x, y, lam)\n",
    "        objvals[t] = objval\n",
    "        print('Objective value at t=' + str(t) + ' is ' + str(objval))\n",
    "        g = gradient(w, x, y, lam)\n",
    "        w -= stepsize * g\n",
    "    \n",
    "    return w, objvals"
   ]
  },
  {
   "cell_type": "markdown",
   "metadata": {},
   "source": [
    "Run gradient descent."
   ]
  },
  {
   "cell_type": "code",
   "execution_count": 28,
   "metadata": {},
   "outputs": [
    {
     "name": "stdout",
     "output_type": "stream",
     "text": [
      "Objective value at t=0 is 0.6931471805599453\n",
      "Objective value at t=1 is 0.5853864108938415\n",
      "Objective value at t=2 is 0.5397971277948828\n",
      "Objective value at t=3 is 0.5152605544141639\n",
      "Objective value at t=4 is 0.5000845943967009\n",
      "Objective value at t=5 is 0.48992207900108065\n",
      "Objective value at t=6 is 0.48276955724977044\n",
      "Objective value at t=7 is 0.47756186876506307\n",
      "Objective value at t=8 is 0.4736752042292651\n",
      "Objective value at t=9 is 0.47071873471989323\n",
      "Objective value at t=10 is 0.468435361287539\n",
      "Objective value at t=11 is 0.4666496425131046\n",
      "Objective value at t=12 is 0.4652383823326689\n",
      "Objective value at t=13 is 0.4641130467189034\n",
      "Objective value at t=14 is 0.46320877573696734\n",
      "Objective value at t=15 is 0.46247727038941266\n",
      "Objective value at t=16 is 0.46188205323586157\n",
      "Objective value at t=17 is 0.4613952335804222\n",
      "Objective value at t=18 is 0.46099525358686216\n",
      "Objective value at t=19 is 0.46066528938611245\n",
      "Objective value at t=20 is 0.4603920986582089\n",
      "Objective value at t=21 is 0.4601651781236322\n",
      "Objective value at t=22 is 0.4599761396587991\n",
      "Objective value at t=23 is 0.45981824290515355\n",
      "Objective value at t=24 is 0.45968604139382613\n",
      "Objective value at t=25 is 0.4595751120161399\n",
      "Objective value at t=26 is 0.45948184637465295\n",
      "Objective value at t=27 is 0.4594032885521506\n",
      "Objective value at t=28 is 0.4593370080316881\n",
      "Objective value at t=29 is 0.459280999470179\n",
      "Objective value at t=30 is 0.45923360315402456\n",
      "Objective value at t=31 is 0.45919344150397995\n",
      "Objective value at t=32 is 0.45915936812143093\n",
      "Objective value at t=33 is 0.4591304266985914\n",
      "Objective value at t=34 is 0.4591058177334924\n",
      "Objective value at t=35 is 0.4590848714550028\n",
      "Objective value at t=36 is 0.4590670257146246\n",
      "Objective value at t=37 is 0.45905180786984157\n",
      "Objective value at t=38 is 0.45903881988964695\n",
      "Objective value at t=39 is 0.4590277260719794\n",
      "Objective value at t=40 is 0.4590182428865669\n",
      "Objective value at t=41 is 0.45901013055350526\n",
      "Objective value at t=42 is 0.45900318604407747\n",
      "Objective value at t=43 is 0.458997237250563\n",
      "Objective value at t=44 is 0.45899213811965944\n",
      "Objective value at t=45 is 0.4589877645823657\n",
      "Objective value at t=46 is 0.4589840111438162\n",
      "Objective value at t=47 is 0.4589807880212394\n",
      "Objective value at t=48 is 0.4589780187381502\n",
      "Objective value at t=49 is 0.4589756380990695\n",
      "Objective value at t=50 is 0.4589735904822281\n",
      "Objective value at t=51 is 0.45897182839846434\n",
      "Objective value at t=52 is 0.45897031127333304\n",
      "Objective value at t=53 is 0.45896900441667393\n",
      "Objective value at t=54 is 0.4589678781498447\n",
      "Objective value at t=55 is 0.4589669070657423\n",
      "Objective value at t=56 is 0.4589660694008046\n",
      "Objective value at t=57 is 0.45896534650155835\n",
      "Objective value at t=58 is 0.45896472237109065\n",
      "Objective value at t=59 is 0.45896418328314637\n",
      "Objective value at t=60 is 0.4589637174535141\n",
      "Objective value at t=61 is 0.45896331475998414\n",
      "Objective value at t=62 is 0.4589629665035273\n",
      "Objective value at t=63 is 0.45896266520448836\n",
      "Objective value at t=64 is 0.45896240442854497\n",
      "Objective value at t=65 is 0.45896217863798905\n",
      "Objective value at t=66 is 0.4589619830645706\n",
      "Objective value at t=67 is 0.45896181360071103\n",
      "Objective value at t=68 is 0.4589616667063801\n",
      "Objective value at t=69 is 0.4589615393293365\n",
      "Objective value at t=70 is 0.4589614288367774\n",
      "Objective value at t=71 is 0.4589613329567333\n",
      "Objective value at t=72 is 0.4589612497277952\n",
      "Objective value at t=73 is 0.45896117745596476\n",
      "Objective value at t=74 is 0.45896111467760287\n",
      "Objective value at t=75 is 0.45896106012759785\n",
      "Objective value at t=76 is 0.45896101271200573\n",
      "Objective value at t=77 is 0.4589609714845232\n",
      "Objective value at t=78 is 0.4589609356262475\n",
      "Objective value at t=79 is 0.45896090442825627\n",
      "Objective value at t=80 is 0.4589608772766073\n",
      "Objective value at t=81 is 0.4589608536394175\n",
      "Objective value at t=82 is 0.4589608330557273\n",
      "Objective value at t=83 is 0.4589608151259005\n",
      "Objective value at t=84 is 0.45896079950334234\n",
      "Objective value at t=85 is 0.45896078588735595\n",
      "Objective value at t=86 is 0.458960774016974\n",
      "Objective value at t=87 is 0.45896076366563243\n",
      "Objective value at t=88 is 0.4589607546365696\n",
      "Objective value at t=89 is 0.4589607467588497\n",
      "Objective value at t=90 is 0.4589607398839243\n",
      "Objective value at t=91 is 0.4589607338826597\n",
      "Objective value at t=92 is 0.45896072864276344\n",
      "Objective value at t=93 is 0.45896072406655836\n",
      "Objective value at t=94 is 0.4589607200690538\n",
      "Objective value at t=95 is 0.458960716576276\n",
      "Objective value at t=96 is 0.45896071352382095\n",
      "Objective value at t=97 is 0.45896071085560036\n",
      "Objective value at t=98 is 0.45896070852275306\n",
      "Objective value at t=99 is 0.4589607064827035\n"
     ]
    }
   ],
   "source": [
    "lam = 1E-6\n",
    "stepsize = 1.0\n",
    "w, objvals_gd = grad_descent(x_train, y_train, lam, stepsize)"
   ]
  },
  {
   "cell_type": "markdown",
   "metadata": {},
   "source": [
    "## 3.2. Stochastic gradient descent (SGD)\n",
    "\n",
    "Define $Q_i (w) = \\log \\Big( 1 + \\exp \\big( - y_i x_i^T w \\big) \\Big) + \\frac{\\lambda}{2} \\| w \\|_2^2 $.\n",
    "\n",
    "The stochastic gradient at $w$ is $g_i = \\frac{\\partial Q_i }{ \\partial w} = -\\frac{y_i x_i }{1 + \\exp ( y_i x_i^T w)} + \\lambda w$."
   ]
  },
  {
   "cell_type": "code",
   "execution_count": 29,
   "metadata": {},
   "outputs": [],
   "source": [
    "# Calculate the objective Q_i and the gradient of Q_i\n",
    "# Inputs:\n",
    "#     w: d-by-1 matrix\n",
    "#     xi: 1-by-d matrix\n",
    "#     yi: scalar\n",
    "#     lam: scalar, the regularization parameter\n",
    "# Return:\n",
    "#     obj: scalar, the objective Q_i\n",
    "#     g: d-by-1 matrix, gradient of Q_i\n",
    "def stochastic_objective_gradient(w, xi, yi, lam):\n",
    "    d = xi.shape[0]\n",
    "    yx = yi * xi # 1-by-d matrix\n",
    "    yxw = float(numpy.dot(yx, w)) # scalar\n",
    "    \n",
    "    # calculate objective function Q_i\n",
    "    loss = numpy.log(1 + numpy.exp(-yxw)) # scalar\n",
    "    reg = lam / 2 * numpy.sum(w * w) # scalar\n",
    "    obj = loss + reg\n",
    "    \n",
    "    # calculate stochastic gradient\n",
    "    g_loss = -yx.T / (1 + numpy.exp(yxw)) # d-by-1 matrix\n",
    "    g = g_loss + lam * w # d-by-1 matrix\n",
    "    \n",
    "    return obj, g"
   ]
  },
  {
   "cell_type": "code",
   "execution_count": 30,
   "metadata": {},
   "outputs": [],
   "source": [
    "# SGD for solving logistic regression\n",
    "# Inputs:\n",
    "#     x: n-by-d matrix\n",
    "#     y: n-by-1 matrix\n",
    "#     lam: scalar, the regularization parameter\n",
    "#     stepsize: scalar\n",
    "#     max_epoch: integer, the maximal epochs\n",
    "#     w: d-by-1 matrix, initialization of w\n",
    "# Return:\n",
    "#     w: the solution\n",
    "#     objvals: record of each iteration's objective value\n",
    "def sgd(x, y, lam, stepsize, max_epoch=100, w=None):\n",
    "    n, d = x.shape\n",
    "    objvals = numpy.zeros(max_epoch) # store the objective values\n",
    "    if w is None:\n",
    "        w = numpy.zeros((d, 1)) # zero initialization\n",
    "    \n",
    "    for t in range(max_epoch):\n",
    "        # randomly shuffle the samples\n",
    "        rand_indices = numpy.random.permutation(n)\n",
    "        x_rand = x[rand_indices, :]\n",
    "        y_rand = y[rand_indices, :]\n",
    "        \n",
    "        objval = 0 # accumulate the objective values\n",
    "        for i in range(n):\n",
    "            xi = x_rand[i, :] # 1-by-d matrix\n",
    "            yi = float(y_rand[i, :]) # scalar\n",
    "            obj, g = stochastic_objective_gradient(w, xi, yi, lam)\n",
    "            objval += obj\n",
    "            w -= stepsize * g\n",
    "        \n",
    "        stepsize *= 0.9 # decrease step size\n",
    "        objval /= n\n",
    "        objvals[t] = objval\n",
    "        print('Objective value at epoch t=' + str(t) + ' is ' + str(objval))\n",
    "    \n",
    "    return w, objvals"
   ]
  },
  {
   "cell_type": "markdown",
   "metadata": {},
   "source": [
    "Run SGD."
   ]
  },
  {
   "cell_type": "code",
   "execution_count": 31,
   "metadata": {},
   "outputs": [
    {
     "name": "stdout",
     "output_type": "stream",
     "text": [
      "Objective value at epoch t=0 is 0.5185173265581478\n",
      "Objective value at epoch t=1 is 0.5111181376414775\n",
      "Objective value at epoch t=2 is 0.49943958127685967\n",
      "Objective value at epoch t=3 is 0.4943263080287044\n",
      "Objective value at epoch t=4 is 0.4973971365040499\n",
      "Objective value at epoch t=5 is 0.49614493886841293\n",
      "Objective value at epoch t=6 is 0.4861747795383691\n",
      "Objective value at epoch t=7 is 0.487579409480164\n",
      "Objective value at epoch t=8 is 0.4848032185822282\n",
      "Objective value at epoch t=9 is 0.48103725947588344\n",
      "Objective value at epoch t=10 is 0.47441768729555095\n",
      "Objective value at epoch t=11 is 0.480594661800138\n",
      "Objective value at epoch t=12 is 0.477189964060792\n",
      "Objective value at epoch t=13 is 0.47584447159427873\n",
      "Objective value at epoch t=14 is 0.4726593773272263\n",
      "Objective value at epoch t=15 is 0.46929030269161237\n",
      "Objective value at epoch t=16 is 0.4700887095464399\n",
      "Objective value at epoch t=17 is 0.4695087335916029\n",
      "Objective value at epoch t=18 is 0.46938499407740186\n",
      "Objective value at epoch t=19 is 0.46807573307247624\n",
      "Objective value at epoch t=20 is 0.46580231920079335\n",
      "Objective value at epoch t=21 is 0.46708669320099394\n",
      "Objective value at epoch t=22 is 0.4654082380341778\n",
      "Objective value at epoch t=23 is 0.46471670739939896\n",
      "Objective value at epoch t=24 is 0.46480423751600286\n",
      "Objective value at epoch t=25 is 0.46408806594141533\n",
      "Objective value at epoch t=26 is 0.4632122789280054\n",
      "Objective value at epoch t=27 is 0.4630516915542931\n",
      "Objective value at epoch t=28 is 0.46285059042965093\n",
      "Objective value at epoch t=29 is 0.46234470457785953\n",
      "Objective value at epoch t=30 is 0.4620852618298214\n",
      "Objective value at epoch t=31 is 0.46171895725672923\n",
      "Objective value at epoch t=32 is 0.4614369426848044\n",
      "Objective value at epoch t=33 is 0.4612216377400438\n",
      "Objective value at epoch t=34 is 0.46098863669716134\n",
      "Objective value at epoch t=35 is 0.4608212493462012\n",
      "Objective value at epoch t=36 is 0.46062435385610495\n",
      "Objective value at epoch t=37 is 0.460447193805939\n",
      "Objective value at epoch t=38 is 0.4603117312069228\n",
      "Objective value at epoch t=39 is 0.4601901002902336\n",
      "Objective value at epoch t=40 is 0.4600635870829161\n",
      "Objective value at epoch t=41 is 0.459941401910819\n",
      "Objective value at epoch t=42 is 0.4598637846664099\n",
      "Objective value at epoch t=43 is 0.45977487188301247\n",
      "Objective value at epoch t=44 is 0.45968756152803086\n",
      "Objective value at epoch t=45 is 0.45961764404448313\n",
      "Objective value at epoch t=46 is 0.45955020058431156\n",
      "Objective value at epoch t=47 is 0.4594921805477887\n",
      "Objective value at epoch t=48 is 0.4594421659600958\n",
      "Objective value at epoch t=49 is 0.45939189657525514\n",
      "Objective value at epoch t=50 is 0.45934807832854313\n",
      "Objective value at epoch t=51 is 0.45931300711880274\n",
      "Objective value at epoch t=52 is 0.45927676756940866\n",
      "Objective value at epoch t=53 is 0.4592440755326585\n",
      "Objective value at epoch t=54 is 0.4592156432405317\n",
      "Objective value at epoch t=55 is 0.459190418986756\n",
      "Objective value at epoch t=56 is 0.4591686562213888\n",
      "Objective value at epoch t=57 is 0.45914806067793446\n",
      "Objective value at epoch t=58 is 0.45912955196851757\n",
      "Objective value at epoch t=59 is 0.45911261310905555\n",
      "Objective value at epoch t=60 is 0.45909710437420564\n",
      "Objective value at epoch t=61 is 0.4590838048673587\n",
      "Objective value at epoch t=62 is 0.4590712892939759\n",
      "Objective value at epoch t=63 is 0.4590604829895128\n",
      "Objective value at epoch t=64 is 0.45905067005409644\n",
      "Objective value at epoch t=65 is 0.4590417079003915\n",
      "Objective value at epoch t=66 is 0.4590336761276314\n",
      "Objective value at epoch t=67 is 0.4590263319127226\n",
      "Objective value at epoch t=68 is 0.4590198872495931\n",
      "Objective value at epoch t=69 is 0.4590140310462223\n",
      "Objective value at epoch t=70 is 0.4590086574040276\n",
      "Objective value at epoch t=71 is 0.45900396130926907\n",
      "Objective value at epoch t=72 is 0.45899967341439896\n",
      "Objective value at epoch t=73 is 0.4589958265125412\n",
      "Objective value at epoch t=74 is 0.4589923442402548\n",
      "Objective value at epoch t=75 is 0.4589892392476218\n",
      "Objective value at epoch t=76 is 0.45898642822889535\n",
      "Objective value at epoch t=77 is 0.4589838946388652\n",
      "Objective value at epoch t=78 is 0.4589816166154514\n",
      "Objective value at epoch t=79 is 0.45897957141737394\n",
      "Objective value at epoch t=80 is 0.45897772562940176\n",
      "Objective value at epoch t=81 is 0.4589760592481114\n",
      "Objective value at epoch t=82 is 0.45897457194220487\n",
      "Objective value at epoch t=83 is 0.4589732272324592\n",
      "Objective value at epoch t=84 is 0.4589720180364391\n",
      "Objective value at epoch t=85 is 0.45897092839618314\n",
      "Objective value at epoch t=86 is 0.45896994727457713\n",
      "Objective value at epoch t=87 is 0.458969063269285\n",
      "Objective value at epoch t=88 is 0.4589682706047643\n",
      "Objective value at epoch t=89 is 0.45896755583571325\n",
      "Objective value at epoch t=90 is 0.4589669123015167\n",
      "Objective value at epoch t=91 is 0.4589663333863622\n",
      "Objective value at epoch t=92 is 0.4589658121812243\n",
      "Objective value at epoch t=93 is 0.45896534336563777\n",
      "Objective value at epoch t=94 is 0.4589649212374327\n",
      "Objective value at epoch t=95 is 0.4589645409821056\n",
      "Objective value at epoch t=96 is 0.4589641993828997\n",
      "Objective value at epoch t=97 is 0.45896389159658696\n",
      "Objective value at epoch t=98 is 0.4589636146090726\n",
      "Objective value at epoch t=99 is 0.45896336538642885\n"
     ]
    }
   ],
   "source": [
    "lam = 1E-6\n",
    "stepsize = 0.1\n",
    "w, objvals_sgd = sgd(x_train, y_train, lam, stepsize)"
   ]
  },
  {
   "cell_type": "markdown",
   "metadata": {},
   "source": [
    "# 4. Compare GD with SGD\n",
    "\n",
    "Plot objective function values against epochs."
   ]
  },
  {
   "cell_type": "code",
   "execution_count": 32,
   "metadata": {},
   "outputs": [
    {
     "data": {
      "image/png": "[encoded data removed]",
      "text/plain": [
       "<Figure size 432x288 with 1 Axes>"
      ]
     },
     "metadata": {
      "needs_background": "light"
     },
     "output_type": "display_data"
    }
   ],
   "source": [
    "import matplotlib.pyplot as plt\n",
    "%matplotlib inline\n",
    "\n",
    "fig = plt.figure(figsize=(6, 4))\n",
    "\n",
    "epochs_gd = range(len(objvals_gd))\n",
    "epochs_sgd = range(len(objvals_sgd))\n",
    "\n",
    "line0, = plt.plot(epochs_gd, objvals_gd, '--b', LineWidth=4)\n",
    "line1, = plt.plot(epochs_sgd, objvals_sgd, '-r', LineWidth=2)\n",
    "plt.xlabel('Epochs', FontSize=20)\n",
    "plt.ylabel('Objective Value', FontSize=20)\n",
    "plt.xticks(FontSize=16)\n",
    "plt.yticks(FontSize=16)\n",
    "plt.legend([line0, line1], ['GD', 'SGD'], fontsize=20)\n",
    "plt.tight_layout()\n",
    "plt.show()\n",
    "fig.savefig('compare_gd_sgd.pdf', format='pdf', dpi=1200)"
   ]
  },
  {
   "cell_type": "markdown",
   "metadata": {},
   "source": [
    "# 5. Prediction"
   ]
  },
  {
   "cell_type": "code",
   "execution_count": 33,
   "metadata": {},
   "outputs": [],
   "source": [
    "# Predict class label\n",
    "# Inputs:\n",
    "#     w: d-by-1 matrix\n",
    "#     X: m-by-d matrix\n",
    "# Return:\n",
    "#     f: m-by-1 matrix, the predictions\n",
    "def predict(w, X):\n",
    "    xw = numpy.dot(X, w)\n",
    "    f = numpy.sign(xw)\n",
    "    return f"
   ]
  },
  {
   "cell_type": "code",
   "execution_count": 34,
   "metadata": {},
   "outputs": [
    {
     "name": "stdout",
     "output_type": "stream",
     "text": [
      "Training classification error is 0.21951219512195122\n"
     ]
    }
   ],
   "source": [
    "# evaluate training error\n",
    "f_train = predict(w, x_train)\n",
    "diff = numpy.abs(f_train - y_train) / 2\n",
    "error_train = numpy.mean(diff)\n",
    "print('Training classification error is ' + str(error_train))"
   ]
  },
  {
   "cell_type": "code",
   "execution_count": 35,
   "metadata": {},
   "outputs": [
    {
     "name": "stdout",
     "output_type": "stream",
     "text": [
      "Test classification error is 0.2549019607843137\n"
     ]
    }
   ],
   "source": [
    "# evaluate test error\n",
    "f_test = predict(w, x_test)\n",
    "diff = numpy.abs(f_test - y_test) / 2\n",
    "error_test = numpy.mean(diff)\n",
    "print('Test classification error is ' + str(error_test))"
   ]
  },
  {
   "cell_type": "markdown",
   "metadata": {},
   "source": [
    "# 6. Mini-batch SGD (fill the code)\n",
    "\n"
   ]
  },
  {
   "cell_type": "markdown",
   "metadata": {},
   "source": [
    "## 6.1. Compute the objective $Q_I$ and its gradient using a batch of samples\n",
    "\n",
    "Define $Q_I (w) = \\frac{1}{b} \\sum_{i \\in I} \\log \\Big( 1 + \\exp \\big( - y_i x_i^T w \\big) \\Big) + \\frac{\\lambda}{2} \\| w \\|_2^2 $, where $I$ is a set containing $b$ indices randomly drawn from $\\{ 1, \\cdots , n \\}$ without replacement.\n",
    "\n",
    "The stochastic gradient at $w$ is $g_I = \\frac{\\partial Q_I }{ \\partial w} = \\frac{1}{b} \\sum_{i \\in I} \\frac{- y_i x_i }{1 + \\exp ( y_i x_i^T w)} + \\lambda w$."
   ]
  },
  {
   "cell_type": "code",
   "execution_count": 36,
   "metadata": {},
   "outputs": [],
   "source": [
    "# Calculate the objective Q_I and the gradient of Q_I\n",
    "# Inputs:\n",
    "#     w: d-by-1 matrix\n",
    "#     xi: b-by-d matrix\n",
    "#     yi: b-by-1 matrix\n",
    "#     lam: scalar, the regularization parameter\n",
    "#     b: integer, the batch size\n",
    "# Return:\n",
    "#     obj: scalar, the objective Q_i\n",
    "#     g: d-by-1 matrix, gradient of Q_i\n",
    "def mb_stochastic_objective_gradient(w, xi, yi, lam, b):\n",
    "    # Fill the function\n",
    "    # Follow the implementation of stochastic_objective_gradient\n",
    "    # Use matrix-vector multiplication; do not use FOR LOOP of vector-vector multiplications\n",
    "    d = xi.shape[0]\n",
    "    yx = yi * xi\n",
    "    yxw = float(numpy.dot(yx * w))\n",
    "    loss = numpy.mean(numpy.log(1 + numpy.exp(-yxw))).reshape(d,1)\n",
    "    reg = lam / 2 * numpy.sum(w*w) \n",
    "    obj = loss + reg\n",
    "    \n",
    "    g_loss = numpy.mean(-yx.T/1 + numpy.exp(yxw)).reshape(d,1)\n",
    "    g = g_loss + lam * w\n",
    "    \n",
    "    return obj, g"
   ]
  },
  {
   "cell_type": "markdown",
   "metadata": {},
   "source": [
    "## 6.2. Implement mini-batch SGD\n",
    "\n",
    "Hints:\n",
    "1. In every epoch, randomly permute the $n$ samples (just like SGD).\n",
    "2. Each epoch has $\\frac{n}{b}$ iterations. In every iteration, use $b$ samples, and compute the gradient and objective using the ``mb_stochastic_objective_gradient`` function. In the next iteration, use the next $b$ samples, and so on.\n",
    "3. Note that ``n mod b`` may not be zero. For example, if $n=1095$ and $b=100$, then there will be $95$ samples left. If the $95$ samples are not used, then the computed objective function will be incorrect. You need to take this effect into account in your implementation of the ``mb_sgd`` function."
   ]
  },
  {
   "cell_type": "code",
   "execution_count": 51,
   "metadata": {},
   "outputs": [],
   "source": [
    "# Mini-Batch SGD for solving logistic regression\n",
    "# Inputs:\n",
    "#     x: n-by-d matrix\n",
    "#     y: n-by-1 matrix\n",
    "#     lam: scalar, the regularization parameter\n",
    "#     b: integer, the batch size\n",
    "#     stepsize: scalar\n",
    "#     max_epoch: integer, the maximal epochs\n",
    "#     w: d-by-1 matrix, initialization of w\n",
    "# Return:\n",
    "#     w: the solution\n",
    "#     objvals: record of each iteration's objective value\n",
    "\n",
    "import random\n",
    "\n",
    "def mb_sgd(x, y, lam, b, stepsize, max_epoch=100, w=None):\n",
    "    # Fill the function\n",
    "    # Follow the implementation of sgd\n",
    "    # Record one objective value per epoch (not per iteration!)\n",
    "    n , d = x.shape\n",
    "    objvals = numpy.zeros(max_epoch)\n",
    "    if w is None:\n",
    "        w = numpy.zeros((d,1))\n",
    "    \n",
    "    for t in range(max_epoch):\n",
    "        rand_indices = numpy.random.permutation(n)\n",
    "#         print(rand_indices)\n",
    "        x_rand = x[rand_indices, :]\n",
    "        y_rand = y[rand_indices, :]\n",
    "        objval = 0\n",
    "        for i in range(int(n/b)):\n",
    "            xi = x_rand[:b, :]\n",
    "            yi = float(y_rand[:b, :])\n",
    "            \n",
    "            obj , g = mb_stochastic_objective_gradient(w , xi, yi, lam, b)\n",
    "            objval += obj\n",
    "            w -= stepsize * g\n",
    "            a=b\n",
    "            b += b\n",
    "            \n",
    "        stepsize *= 0.9 # decrease step size\n",
    "        objval /= n\n",
    "        objvals[t] = objval\n",
    "        print('Objective value at epoch t=' + str(t) + ' is ' + str(objval))\n",
    "    \n",
    "    return w, objvals"
   ]
  },
  {
   "cell_type": "markdown",
   "metadata": {},
   "source": [
    "## 6.3. Run MB-SGD"
   ]
  },
  {
   "cell_type": "code",
   "execution_count": null,
   "metadata": {},
   "outputs": [],
   "source": [
    "# MB-SGD with batch size b=8\n",
    "lam = 1E-6 # do not change\n",
    "b = 8 # do not change\n",
    "stepsize = 0.1 # you must tune this parameter\n",
    "\n",
    "w, objvals_mbsgd8 = mb_sgd(x_train, y_train, lam, b, stepsize)"
   ]
  },
  {
   "cell_type": "code",
   "execution_count": null,
   "metadata": {},
   "outputs": [],
   "source": [
    "# MB-SGD with batch size b=64\n",
    "lam = 1E-6 # do not change\n",
    "b = 64 # do not change\n",
    "stepsize = 0.1 # you must tune this parameter\n",
    "\n",
    "w, objvals_mbsgd64 = mb_sgd(x_train, y_train, lam, b, stepsize)"
   ]
  },
  {
   "cell_type": "markdown",
   "metadata": {},
   "source": [
    "# 7. Plot and compare GD, SGD, and MB-SGD"
   ]
  },
  {
   "cell_type": "markdown",
   "metadata": {},
   "source": [
    "You are required to compare the following algorithms:\n",
    "\n",
    "- Gradient descent (GD)\n",
    "\n",
    "- SGD\n",
    "\n",
    "- MB-SGD with b=8\n",
    "\n",
    "- MB-SGD with b=64\n",
    "\n",
    "Follow the code in Section 4 to plot ```objective function value``` against ```epochs```. There should be four curves in the plot; each curve corresponds to one algorithm."
   ]
  },
  {
   "cell_type": "markdown",
   "metadata": {},
   "source": [
    "Hint: Logistic regression with $\\ell_2$-norm regularization is a strongly convex optimization problem. All the algorithms will converge to the same solution. In the end, the ``objective function value`` of the 4 algorithms will be the same. If not the same, your implementation must be wrong. "
   ]
  },
  {
   "cell_type": "code",
   "execution_count": null,
   "metadata": {},
   "outputs": [],
   "source": [
    "# plot the 4 curves:"
   ]
  },
  {
   "cell_type": "markdown",
   "metadata": {},
   "source": []
  }
 ],
 "metadata": {
  "kernelspec": {
   "display_name": "Python 3",
   "language": "python",
   "name": "python3"
  },
  "language_info": {
   "codemirror_mode": {
    "name": "ipython",
    "version": 3
   },
   "file_extension": ".py",
   "mimetype": "text/x-python",
   "name": "python",
   "nbconvert_exporter": "python",
   "pygments_lexer": "ipython3",
   "version": "3.7.3"
  }
 },
 "nbformat": 4,
 "nbformat_minor": 2
}
