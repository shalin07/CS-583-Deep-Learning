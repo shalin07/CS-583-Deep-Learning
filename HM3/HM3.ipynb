{
 "cells": [
  {
   "cell_type": "markdown",
   "metadata": {
    "colab_type": "text",
    "id": "ZyWcqoaXQVNJ"
   },
   "source": [
    "# Home 3: Build a CNN for image recognition.\n",
    "\n",
    "### Name: [Shalin Barot]\n"
   ]
  },
  {
   "cell_type": "markdown",
   "metadata": {
    "colab_type": "text",
    "id": "4IQNfiwLQVNM"
   },
   "source": [
    "## 0. You will do the following:\n",
    "\n",
    "1. Read, complete, and run the code.\n",
    "\n",
    "2. **Make substantial improvements** to maximize the accurcy.\n",
    "    \n",
    "3. Convert the .IPYNB file to .HTML file.\n",
    "\n",
    "    * The HTML file must contain the code and the output after execution.\n",
    "    \n",
    "    \n",
    "4. Upload this .HTML file to your Google Drive, Dropbox, or Github repo.\n",
    "\n",
    "4. Submit the link to this .HTML file to Canvas.\n",
    "\n",
    "    * Example: https://github.com/wangshusen/CS583-2019F/blob/master/homework/HM3/HM3.html\n",
    "\n",
    "\n",
    "## Requirements:\n",
    "\n",
    "1. You can use whatever CNN architecture, including VGG, Inception, and ResNet. However, you must build the networks layer by layer. You must NOT import the archetectures from ```keras.applications```.\n",
    "\n",
    "2. Make sure ```BatchNormalization``` is between a ```Conv```/```Dense``` layer and an ```activation``` layer.\n",
    "\n",
    "3. If you want to regularize a ```Conv```/```Dense``` layer, you should place a ```Dropout``` layer **before** the ```Conv```/```Dense``` layer.\n",
    "\n",
    "4. An accuracy above 70% is considered reasonable. An accuracy above 80% is considered good. Without data augmentation, achieving 80% accuracy is difficult.\n",
    "\n",
    "\n",
    "## Google Colab\n",
    "\n",
    "- If you do not have GPU, the training of a CNN can be slow. Google Colab is a good option.\n",
    "\n",
    "- Keep in mind that you must download it as an IPYNB file and then use IPython Notebook to convert it to HTML.\n",
    "\n",
    "- Also keep in mind that the IPYNB and HTML files must contain the outputs. (Otherwise, the instructor will not be able to know the correctness and performance.) Do the followings to keep the outputs.\n",
    "\n",
    "- In Colab, go to ```Runtime``` --> ```Change runtime type``` --> Do NOT check ```Omit code cell output when saving this notebook```. In this way, the downloaded IPYNB file contains the outputs."
   ]
  },
  {
   "cell_type": "markdown",
   "metadata": {
    "colab_type": "text",
    "id": "APmFoDk1QVNN"
   },
   "source": [
    "## 1. Data preparation"
   ]
  },
  {
   "cell_type": "markdown",
   "metadata": {
    "colab_type": "text",
    "id": "DiQtlerqQVNO"
   },
   "source": [
    "### 1.1. Load data\n"
   ]
  },
  {
   "cell_type": "code",
   "execution_count": 1,
   "metadata": {
    "colab": {
     "base_uri": "https://localhost:8080/",
     "height": 203
    },
    "colab_type": "code",
    "id": "fQ0t5mA3QVNP",
    "outputId": "8ccce833-75bd-4642-bfb0-ba43d318900b"
   },
   "outputs": [
    {
     "name": "stderr",
     "output_type": "stream",
     "text": [
      "Using TensorFlow backend.\n"
     ]
    },
    {
     "data": {
      "text/html": [
       "<p style=\"color: red;\">\n",
       "The default version of TensorFlow in Colab will soon switch to TensorFlow 2.x.<br>\n",
       "We recommend you <a href=\"https://www.tensorflow.org/guide/migrate\" target=\"_blank\">upgrade</a> now \n",
       "or ensure your notebook will continue to use TensorFlow 1.x via the <code>%tensorflow_version 1.x</code> magic:\n",
       "<a href=\"https://colab.research.google.com/notebooks/tensorflow_version.ipynb\" target=\"_blank\">more info</a>.</p>\n"
      ],
      "text/plain": [
       "<IPython.core.display.HTML object>"
      ]
     },
     "metadata": {
      "tags": []
     },
     "output_type": "display_data"
    },
    {
     "name": "stdout",
     "output_type": "stream",
     "text": [
      "Downloading data from https://www.cs.toronto.edu/~kriz/cifar-10-python.tar.gz\n",
      "170500096/170498071 [==============================] - 4s 0us/step\n",
      "shape of x_train: (50000, 32, 32, 3)\n",
      "shape of y_train: (50000, 1)\n",
      "shape of x_test: (10000, 32, 32, 3)\n",
      "shape of y_test: (10000, 1)\n",
      "number of classes: 10\n"
     ]
    }
   ],
   "source": [
    "from keras.datasets import cifar10\n",
    "import numpy\n",
    "\n",
    "(x_train, y_train), (x_test, y_test) = cifar10.load_data()\n",
    "\n",
    "print('shape of x_train: ' + str(x_train.shape))\n",
    "print('shape of y_train: ' + str(y_train.shape))\n",
    "print('shape of x_test: ' + str(x_test.shape))\n",
    "print('shape of y_test: ' + str(y_test.shape))\n",
    "print('number of classes: ' + str(numpy.max(y_train) - numpy.min(y_train) + 1))"
   ]
  },
  {
   "cell_type": "code",
   "execution_count": 2,
   "metadata": {
    "colab": {
     "base_uri": "https://localhost:8080/",
     "height": 266
    },
    "colab_type": "code",
    "id": "AaesGTK6QVNT",
    "outputId": "5ce79edb-cd43-48b1-bff9-956dd110cc7c"
   },
   "outputs": [
    {
     "data": {
      "image/png": "[encoded data removed]",
      "text/plain": [
       "<Figure size 432x288 with 1 Axes>"
      ]
     },
     "metadata": {
      "tags": []
     },
     "output_type": "display_data"
    }
   ],
   "source": [
    "import matplotlib.pyplot as plt\n",
    "plt.imshow(x_train[1])\n",
    "plt.show()"
   ]
  },
  {
   "cell_type": "markdown",
   "metadata": {
    "colab_type": "text",
    "id": "nr6eOtryQVNW"
   },
   "source": [
    "### 1.2. One-hot encode the labels\n",
    "\n",
    "In the input, a label is a scalar in $\\{0, 1, \\cdots , 9\\}$. One-hot encode transform such a scalar to a $10$-dim vector. E.g., a scalar ```y_train[j]=3``` is transformed to the vector ```y_train_vec[j]=[0, 0, 0, 1, 0, 0, 0, 0, 0, 0]```.\n",
    "\n",
    "1. Define a function ```to_one_hot``` that transforms an $n\\times 1$ array to a $n\\times 10$ matrix.\n",
    "\n",
    "2. Apply the function to ```y_train``` and ```y_test```."
   ]
  },
  {
   "cell_type": "code",
   "execution_count": 3,
   "metadata": {
    "colab": {
     "base_uri": "https://localhost:8080/",
     "height": 87
    },
    "colab_type": "code",
    "id": "c8aIUbMAQVNW",
    "outputId": "c3204160-6845-4e04-e91b-c2bc3d02fce6"
   },
   "outputs": [
    {
     "name": "stdout",
     "output_type": "stream",
     "text": [
      "Shape of y_train_vec: (50000, 10)\n",
      "Shape of y_test_vec: (10000, 10)\n",
      "[6]\n",
      "[0. 0. 0. 0. 0. 0. 1. 0. 0. 0.]\n"
     ]
    }
   ],
   "source": [
    "def to_one_hot(y, num_class=10):\n",
    "  results = numpy.zeros((len(y), num_class))\n",
    "  for i, label in enumerate(y):\n",
    "    results[i, label] = 1\n",
    "    \n",
    "  return results\n",
    "\n",
    "y_train_vec = to_one_hot(y_train)\n",
    "y_test_vec = to_one_hot(y_test)\n",
    "\n",
    "print('Shape of y_train_vec: ' + str(y_train_vec.shape))\n",
    "print('Shape of y_test_vec: ' + str(y_test_vec.shape))\n",
    "\n",
    "print(y_train[0])\n",
    "print(y_train_vec[0])"
   ]
  },
  {
   "cell_type": "markdown",
   "metadata": {
    "colab_type": "text",
    "id": "_thWgUIDQVNY"
   },
   "source": [
    "#### Remark: the outputs should be\n",
    "* Shape of y_train_vec: (50000, 10)\n",
    "* Shape of y_test_vec: (10000, 10)\n",
    "* [6]\n",
    "* [0. 0. 0. 0. 0. 0. 1. 0. 0. 0.]"
   ]
  },
  {
   "cell_type": "markdown",
   "metadata": {
    "colab_type": "text",
    "id": "P45a6PpyQVNZ"
   },
   "source": [
    "### 1.3. Randomly partition the training set to training and validation sets\n",
    "\n",
    "Randomly partition the 50K training samples to 2 sets:\n",
    "* a training set containing 40K samples\n",
    "* a validation set containing 10K samples\n"
   ]
  },
  {
   "cell_type": "code",
   "execution_count": 4,
   "metadata": {
    "colab": {
     "base_uri": "https://localhost:8080/",
     "height": 87
    },
    "colab_type": "code",
    "id": "vQbd5fjGQVNZ",
    "outputId": "132cf4a6-bced-45d1-96ec-cbacf6144fa3"
   },
   "outputs": [
    {
     "name": "stdout",
     "output_type": "stream",
     "text": [
      "Shape of x_tr: (40000, 32, 32, 3)\n",
      "Shape of y_tr: (40000, 10)\n",
      "Shape of x_val: (10000, 32, 32, 3)\n",
      "Shape of y_val: (10000, 10)\n"
     ]
    }
   ],
   "source": [
    "rand_indices = numpy.random.permutation(50000)\n",
    "train_indices = rand_indices[0:40000]\n",
    "valid_indices = rand_indices[40000:50000]\n",
    "\n",
    "x_val = x_train[valid_indices, :]\n",
    "y_val = y_train_vec[valid_indices, :]\n",
    "\n",
    "x_tr = x_train[train_indices, :]\n",
    "y_tr = y_train_vec[train_indices, :]\n",
    "\n",
    "print('Shape of x_tr: ' + str(x_tr.shape))\n",
    "print('Shape of y_tr: ' + str(y_tr.shape))\n",
    "print('Shape of x_val: ' + str(x_val.shape))\n",
    "print('Shape of y_val: ' + str(y_val.shape))"
   ]
  },
  {
   "cell_type": "markdown",
   "metadata": {
    "colab_type": "text",
    "id": "jgtO_ySDQVNb"
   },
   "source": [
    "## 2. Build a CNN and tune its hyper-parameters\n",
    "\n",
    "1. Build a convolutional neural network model\n",
    "2. Use the validation data to tune the hyper-parameters (e.g., network structure, and optimization algorithm)\n",
    "    * Do NOT use test data for hyper-parameter tuning!!!\n",
    "3. Try to achieve a validation accuracy as high as possible."
   ]
  },
  {
   "cell_type": "markdown",
   "metadata": {
    "colab_type": "text",
    "id": "8ZGO0S36QVNc"
   },
   "source": [
    "### Remark: \n",
    "\n",
    "The following CNN is just an example. You are supposed to make **substantial improvements** such as:\n",
    "* Add more layers.\n",
    "* Use regularizations, e.g., dropout.\n",
    "* Use batch normalization."
   ]
  },
  {
   "cell_type": "code",
   "execution_count": 0,
   "metadata": {
    "colab": {},
    "colab_type": "code",
    "id": "uQwiOm7paK31"
   },
   "outputs": [],
   "source": [
    "from keras.preprocessing.image import ImageDataGenerator\n",
    "\n",
    "# Image generator for training\n",
    "gen = ImageDataGenerator(\n",
    "            rotation_range=40,\n",
    "            zoom_range=0.2,\n",
    "            shear_range=0.2,\n",
    "            width_shift_range=0.2,\n",
    "            height_shift_range=0.2,\n",
    "            fill_mode='nearest',\n",
    "            horizontal_flip=True,\n",
    "    )\n",
    "gen.fit(x_train)"
   ]
  },
  {
   "cell_type": "code",
   "execution_count": 6,
   "metadata": {
    "colab": {
     "base_uri": "https://localhost:8080/",
     "height": 1000
    },
    "colab_type": "code",
    "id": "bN_FqUXgQVNc",
    "outputId": "52d2df18-c717-41aa-937a-76ec29334282"
   },
   "outputs": [
    {
     "name": "stdout",
     "output_type": "stream",
     "text": [
      "WARNING:tensorflow:From /usr/local/lib/python3.6/dist-packages/keras/backend/tensorflow_backend.py:66: The name tf.get_default_graph is deprecated. Please use tf.compat.v1.get_default_graph instead.\n",
      "\n",
      "WARNING:tensorflow:From /usr/local/lib/python3.6/dist-packages/keras/backend/tensorflow_backend.py:541: The name tf.placeholder is deprecated. Please use tf.compat.v1.placeholder instead.\n",
      "\n",
      "WARNING:tensorflow:From /usr/local/lib/python3.6/dist-packages/keras/backend/tensorflow_backend.py:4432: The name tf.random_uniform is deprecated. Please use tf.random.uniform instead.\n",
      "\n",
      "WARNING:tensorflow:From /usr/local/lib/python3.6/dist-packages/keras/backend/tensorflow_backend.py:190: The name tf.get_default_session is deprecated. Please use tf.compat.v1.get_default_session instead.\n",
      "\n",
      "WARNING:tensorflow:From /usr/local/lib/python3.6/dist-packages/keras/backend/tensorflow_backend.py:197: The name tf.ConfigProto is deprecated. Please use tf.compat.v1.ConfigProto instead.\n",
      "\n",
      "WARNING:tensorflow:From /usr/local/lib/python3.6/dist-packages/keras/backend/tensorflow_backend.py:203: The name tf.Session is deprecated. Please use tf.compat.v1.Session instead.\n",
      "\n",
      "WARNING:tensorflow:From /usr/local/lib/python3.6/dist-packages/keras/backend/tensorflow_backend.py:207: The name tf.global_variables is deprecated. Please use tf.compat.v1.global_variables instead.\n",
      "\n",
      "WARNING:tensorflow:From /usr/local/lib/python3.6/dist-packages/keras/backend/tensorflow_backend.py:216: The name tf.is_variable_initialized is deprecated. Please use tf.compat.v1.is_variable_initialized instead.\n",
      "\n",
      "WARNING:tensorflow:From /usr/local/lib/python3.6/dist-packages/keras/backend/tensorflow_backend.py:223: The name tf.variables_initializer is deprecated. Please use tf.compat.v1.variables_initializer instead.\n",
      "\n",
      "WARNING:tensorflow:From /usr/local/lib/python3.6/dist-packages/keras/backend/tensorflow_backend.py:2041: The name tf.nn.fused_batch_norm is deprecated. Please use tf.compat.v1.nn.fused_batch_norm instead.\n",
      "\n",
      "WARNING:tensorflow:From /usr/local/lib/python3.6/dist-packages/keras/backend/tensorflow_backend.py:148: The name tf.placeholder_with_default is deprecated. Please use tf.compat.v1.placeholder_with_default instead.\n",
      "\n",
      "WARNING:tensorflow:From /usr/local/lib/python3.6/dist-packages/keras/backend/tensorflow_backend.py:4267: The name tf.nn.max_pool is deprecated. Please use tf.nn.max_pool2d instead.\n",
      "\n",
      "WARNING:tensorflow:From /usr/local/lib/python3.6/dist-packages/keras/backend/tensorflow_backend.py:3733: calling dropout (from tensorflow.python.ops.nn_ops) with keep_prob is deprecated and will be removed in a future version.\n",
      "Instructions for updating:\n",
      "Please use `rate` instead of `keep_prob`. Rate should be set to `rate = 1 - keep_prob`.\n",
      "Model: \"sequential_1\"\n",
      "_________________________________________________________________\n",
      "Layer (type)                 Output Shape              Param #   \n",
      "=================================================================\n",
      "conv2d_1 (Conv2D)            (None, 32, 32, 32)        896       \n",
      "_________________________________________________________________\n",
      "activation_1 (Activation)    (None, 32, 32, 32)        0         \n",
      "_________________________________________________________________\n",
      "batch_normalization_1 (Batch (None, 32, 32, 32)        128       \n",
      "_________________________________________________________________\n",
      "conv2d_2 (Conv2D)            (None, 32, 32, 32)        9248      \n",
      "_________________________________________________________________\n",
      "activation_2 (Activation)    (None, 32, 32, 32)        0         \n",
      "_________________________________________________________________\n",
      "batch_normalization_2 (Batch (None, 32, 32, 32)        128       \n",
      "_________________________________________________________________\n",
      "max_pooling2d_1 (MaxPooling2 (None, 16, 16, 32)        0         \n",
      "_________________________________________________________________\n",
      "dropout_1 (Dropout)          (None, 16, 16, 32)        0         \n",
      "_________________________________________________________________\n",
      "conv2d_3 (Conv2D)            (None, 16, 16, 64)        18496     \n",
      "_________________________________________________________________\n",
      "activation_3 (Activation)    (None, 16, 16, 64)        0         \n",
      "_________________________________________________________________\n",
      "batch_normalization_3 (Batch (None, 16, 16, 64)        256       \n",
      "_________________________________________________________________\n",
      "conv2d_4 (Conv2D)            (None, 16, 16, 64)        36928     \n",
      "_________________________________________________________________\n",
      "activation_4 (Activation)    (None, 16, 16, 64)        0         \n",
      "_________________________________________________________________\n",
      "batch_normalization_4 (Batch (None, 16, 16, 64)        256       \n",
      "_________________________________________________________________\n",
      "max_pooling2d_2 (MaxPooling2 (None, 8, 8, 64)          0         \n",
      "_________________________________________________________________\n",
      "dropout_2 (Dropout)          (None, 8, 8, 64)          0         \n",
      "_________________________________________________________________\n",
      "conv2d_5 (Conv2D)            (None, 8, 8, 128)         73856     \n",
      "_________________________________________________________________\n",
      "activation_5 (Activation)    (None, 8, 8, 128)         0         \n",
      "_________________________________________________________________\n",
      "batch_normalization_5 (Batch (None, 8, 8, 128)         512       \n",
      "_________________________________________________________________\n",
      "conv2d_6 (Conv2D)            (None, 8, 8, 128)         147584    \n",
      "_________________________________________________________________\n",
      "activation_6 (Activation)    (None, 8, 8, 128)         0         \n",
      "_________________________________________________________________\n",
      "batch_normalization_6 (Batch (None, 8, 8, 128)         512       \n",
      "_________________________________________________________________\n",
      "max_pooling2d_3 (MaxPooling2 (None, 4, 4, 128)         0         \n",
      "_________________________________________________________________\n",
      "dropout_3 (Dropout)          (None, 4, 4, 128)         0         \n",
      "_________________________________________________________________\n",
      "conv2d_7 (Conv2D)            (None, 4, 4, 256)         295168    \n",
      "_________________________________________________________________\n",
      "activation_7 (Activation)    (None, 4, 4, 256)         0         \n",
      "_________________________________________________________________\n",
      "batch_normalization_7 (Batch (None, 4, 4, 256)         1024      \n",
      "_________________________________________________________________\n",
      "conv2d_8 (Conv2D)            (None, 4, 4, 256)         590080    \n",
      "_________________________________________________________________\n",
      "activation_8 (Activation)    (None, 4, 4, 256)         0         \n",
      "_________________________________________________________________\n",
      "batch_normalization_8 (Batch (None, 4, 4, 256)         1024      \n",
      "_________________________________________________________________\n",
      "max_pooling2d_4 (MaxPooling2 (None, 2, 2, 256)         0         \n",
      "_________________________________________________________________\n",
      "dropout_4 (Dropout)          (None, 2, 2, 256)         0         \n",
      "_________________________________________________________________\n",
      "flatten_1 (Flatten)          (None, 1024)              0         \n",
      "_________________________________________________________________\n",
      "dense_1 (Dense)              (None, 10)                10250     \n",
      "=================================================================\n",
      "Total params: 1,186,346\n",
      "Trainable params: 1,184,426\n",
      "Non-trainable params: 1,920\n",
      "_________________________________________________________________\n"
     ]
    }
   ],
   "source": [
    "from keras.layers import Conv2D, MaxPooling2D, Flatten, Dense\n",
    "from keras.models import Sequential\n",
    "from keras import regularizers\n",
    "from keras.layers import Dense, Activation, Flatten, Dropout, BatchNormalization\n",
    "\n",
    "weight_decay = 1e-4\n",
    "model = Sequential()\n",
    "model.add(Conv2D(32, (3,3), padding='same', kernel_regularizer=regularizers.l2(weight_decay), input_shape=x_train.shape[1:]))\n",
    "model.add(Activation('relu'))\n",
    "model.add(BatchNormalization())\n",
    "model.add(Conv2D(32, (3,3), padding='same', kernel_regularizer=regularizers.l2(weight_decay)))\n",
    "model.add(Activation('relu'))\n",
    "model.add(BatchNormalization())\n",
    "model.add(MaxPooling2D(pool_size=(2,2)))\n",
    "model.add(Dropout(0.2))\n",
    "\n",
    "model.add(Conv2D(64, (3,3), padding='same', kernel_regularizer=regularizers.l2(weight_decay)))\n",
    "model.add(Activation('relu'))\n",
    "model.add(BatchNormalization())\n",
    "model.add(Conv2D(64, (3,3), padding='same', kernel_regularizer=regularizers.l2(weight_decay)))\n",
    "model.add(Activation('relu'))\n",
    "model.add(BatchNormalization())\n",
    "model.add(MaxPooling2D(pool_size=(2,2)))\n",
    "model.add(Dropout(0.3))\n",
    "\n",
    "model.add(Conv2D(128, (3,3), padding='same', kernel_regularizer=regularizers.l2(weight_decay)))\n",
    "model.add(Activation('relu'))\n",
    "model.add(BatchNormalization())\n",
    "model.add(Conv2D(128, (3,3), padding='same', kernel_regularizer=regularizers.l2(weight_decay)))\n",
    "model.add(Activation('relu'))\n",
    "model.add(BatchNormalization())\n",
    "model.add(MaxPooling2D(pool_size=(2,2)))\n",
    "model.add(Dropout(0.4))\n",
    "\n",
    "\n",
    "model.add(Flatten())\n",
    "model.add(Dense(10, activation='softmax'))\n",
    "\n",
    "model.summary()"
   ]
  },
  {
   "cell_type": "code",
   "execution_count": 23,
   "metadata": {
    "colab": {
     "base_uri": "https://localhost:8080/",
     "height": 1000
    },
    "colab_type": "code",
    "id": "x-FWPXi5QVNf",
    "outputId": "bb433f50-d6d2-4989-d8c2-26e6e7648889"
   },
   "outputs": [
    {
     "name": "stdout",
     "output_type": "stream",
     "text": [
      "Epoch 1/100\n",
      "256/256 [==============================] - 57s 223ms/step - loss: 2.0765 - acc: 0.3446 - val_loss: 2.3428 - val_acc: 0.4013\n",
      "Epoch 2/100\n",
      "256/256 [==============================] - 53s 207ms/step - loss: 1.6508 - acc: 0.4727 - val_loss: 2.7487 - val_acc: 0.2689\n",
      "Epoch 3/100\n",
      "256/256 [==============================] - 53s 207ms/step - loss: 1.5629 - acc: 0.5093 - val_loss: 1.7343 - val_acc: 0.4443\n",
      "Epoch 4/100\n",
      "256/256 [==============================] - 52s 204ms/step - loss: 1.5161 - acc: 0.5348 - val_loss: 1.3165 - val_acc: 0.5842\n",
      "Epoch 5/100\n",
      "256/256 [==============================] - 53s 207ms/step - loss: 1.4300 - acc: 0.5605 - val_loss: 1.2444 - val_acc: 0.6038\n",
      "Epoch 6/100\n",
      "256/256 [==============================] - 53s 208ms/step - loss: 1.3428 - acc: 0.5881 - val_loss: 1.1143 - val_acc: 0.6616\n",
      "Epoch 7/100\n",
      "256/256 [==============================] - 53s 207ms/step - loss: 1.3107 - acc: 0.6049 - val_loss: 1.4601 - val_acc: 0.6206\n",
      "Epoch 8/100\n",
      "256/256 [==============================] - 53s 206ms/step - loss: 1.3157 - acc: 0.6125 - val_loss: 1.3166 - val_acc: 0.6637\n",
      "Epoch 9/100\n",
      "256/256 [==============================] - 53s 208ms/step - loss: 1.2087 - acc: 0.6344 - val_loss: 1.9412 - val_acc: 0.5786\n",
      "Epoch 10/100\n",
      "256/256 [==============================] - 54s 211ms/step - loss: 1.1869 - acc: 0.6444 - val_loss: 1.1327 - val_acc: 0.6879\n",
      "Epoch 11/100\n",
      "256/256 [==============================] - 53s 209ms/step - loss: 1.2110 - acc: 0.6476 - val_loss: 1.7593 - val_acc: 0.5522\n",
      "Epoch 12/100\n",
      "256/256 [==============================] - 54s 209ms/step - loss: 1.1878 - acc: 0.6575 - val_loss: 1.3443 - val_acc: 0.6598\n",
      "Epoch 13/100\n",
      "256/256 [==============================] - 54s 210ms/step - loss: 1.1641 - acc: 0.6645 - val_loss: 1.4337 - val_acc: 0.5865\n",
      "Epoch 14/100\n",
      "256/256 [==============================] - 53s 207ms/step - loss: 1.1045 - acc: 0.6745 - val_loss: 1.0455 - val_acc: 0.7447\n",
      "Epoch 15/100\n",
      "256/256 [==============================] - 54s 210ms/step - loss: 1.0738 - acc: 0.6864 - val_loss: 5.3463 - val_acc: 0.1758\n",
      "Epoch 16/100\n",
      "256/256 [==============================] - 53s 208ms/step - loss: 1.0779 - acc: 0.6900 - val_loss: 1.6895 - val_acc: 0.6475\n",
      "Epoch 17/100\n",
      "256/256 [==============================] - 51s 198ms/step - loss: 1.0606 - acc: 0.6959 - val_loss: 1.2716 - val_acc: 0.6207\n",
      "Epoch 18/100\n",
      "256/256 [==============================] - 52s 202ms/step - loss: 1.0640 - acc: 0.6966 - val_loss: 0.9793 - val_acc: 0.7246\n",
      "Epoch 19/100\n",
      "256/256 [==============================] - 51s 200ms/step - loss: 1.0215 - acc: 0.7056 - val_loss: 1.1842 - val_acc: 0.7003\n",
      "Epoch 20/100\n",
      "256/256 [==============================] - 52s 204ms/step - loss: 0.9956 - acc: 0.7134 - val_loss: 1.0297 - val_acc: 0.7266\n",
      "Epoch 21/100\n",
      "256/256 [==============================] - 53s 206ms/step - loss: 1.0055 - acc: 0.7173 - val_loss: 1.0612 - val_acc: 0.7333\n",
      "Epoch 22/100\n",
      "256/256 [==============================] - 52s 205ms/step - loss: 0.9944 - acc: 0.7183 - val_loss: 1.0742 - val_acc: 0.7266\n",
      "Epoch 23/100\n",
      "256/256 [==============================] - 53s 205ms/step - loss: 0.9696 - acc: 0.7278 - val_loss: 0.9672 - val_acc: 0.7754\n",
      "Epoch 24/100\n",
      "256/256 [==============================] - 52s 203ms/step - loss: 0.9578 - acc: 0.7296 - val_loss: 0.7873 - val_acc: 0.7875\n",
      "Epoch 25/100\n",
      "256/256 [==============================] - 53s 207ms/step - loss: 0.9840 - acc: 0.7279 - val_loss: 0.8621 - val_acc: 0.7744\n",
      "Epoch 26/100\n",
      "256/256 [==============================] - 53s 207ms/step - loss: 0.9529 - acc: 0.7349 - val_loss: 0.9385 - val_acc: 0.7728\n",
      "Epoch 27/100\n",
      "256/256 [==============================] - 53s 205ms/step - loss: 0.9457 - acc: 0.7399 - val_loss: 0.8134 - val_acc: 0.7850\n",
      "Epoch 28/100\n",
      "256/256 [==============================] - 53s 209ms/step - loss: 0.9286 - acc: 0.7444 - val_loss: 0.8412 - val_acc: 0.7757\n",
      "Epoch 29/100\n",
      "256/256 [==============================] - 53s 208ms/step - loss: 0.9162 - acc: 0.7458 - val_loss: 0.8477 - val_acc: 0.7829\n",
      "Epoch 30/100\n",
      "256/256 [==============================] - 53s 207ms/step - loss: 0.9457 - acc: 0.7447 - val_loss: 0.9691 - val_acc: 0.7639\n",
      "Epoch 31/100\n",
      "256/256 [==============================] - 53s 209ms/step - loss: 0.9201 - acc: 0.7474 - val_loss: 0.8084 - val_acc: 0.7896\n",
      "Epoch 32/100\n",
      "256/256 [==============================] - 54s 211ms/step - loss: 0.9640 - acc: 0.7439 - val_loss: 0.9474 - val_acc: 0.7489\n",
      "Epoch 33/100\n",
      "256/256 [==============================] - 54s 210ms/step - loss: 0.9313 - acc: 0.7480 - val_loss: 0.7847 - val_acc: 0.7953\n",
      "Epoch 34/100\n",
      "256/256 [==============================] - 53s 207ms/step - loss: 0.9017 - acc: 0.7550 - val_loss: 1.1367 - val_acc: 0.7592\n",
      "Epoch 35/100\n",
      "256/256 [==============================] - 54s 209ms/step - loss: 0.9070 - acc: 0.7571 - val_loss: 0.8450 - val_acc: 0.7957\n",
      "Epoch 36/100\n",
      "256/256 [==============================] - 53s 208ms/step - loss: 0.9006 - acc: 0.7568 - val_loss: 0.8893 - val_acc: 0.7596\n",
      "Epoch 37/100\n",
      "256/256 [==============================] - 53s 207ms/step - loss: 0.8871 - acc: 0.7608 - val_loss: 0.9315 - val_acc: 0.7899\n",
      "Epoch 38/100\n",
      "256/256 [==============================] - 53s 207ms/step - loss: 0.8879 - acc: 0.7638 - val_loss: 0.9758 - val_acc: 0.7737\n",
      "Epoch 39/100\n",
      "256/256 [==============================] - 52s 204ms/step - loss: 0.8737 - acc: 0.7650 - val_loss: 0.7601 - val_acc: 0.8090\n",
      "Epoch 40/100\n",
      "256/256 [==============================] - 52s 203ms/step - loss: 0.9026 - acc: 0.7610 - val_loss: 0.8655 - val_acc: 0.7772\n",
      "Epoch 41/100\n",
      "256/256 [==============================] - 52s 205ms/step - loss: 0.8733 - acc: 0.7679 - val_loss: 0.8370 - val_acc: 0.7938\n",
      "Epoch 42/100\n",
      "256/256 [==============================] - 53s 206ms/step - loss: 0.8679 - acc: 0.7688 - val_loss: 0.8471 - val_acc: 0.7869\n",
      "Epoch 43/100\n",
      "256/256 [==============================] - 52s 203ms/step - loss: 0.8729 - acc: 0.7696 - val_loss: 1.5123 - val_acc: 0.7493\n",
      "Epoch 44/100\n",
      "256/256 [==============================] - 52s 204ms/step - loss: 0.8588 - acc: 0.7720 - val_loss: 0.7551 - val_acc: 0.8135\n",
      "Epoch 45/100\n",
      "256/256 [==============================] - 52s 204ms/step - loss: 0.8702 - acc: 0.7690 - val_loss: 1.1819 - val_acc: 0.7844\n",
      "Epoch 46/100\n",
      "256/256 [==============================] - 53s 207ms/step - loss: 0.8559 - acc: 0.7723 - val_loss: 0.8156 - val_acc: 0.8078\n",
      "Epoch 47/100\n",
      "256/256 [==============================] - 53s 208ms/step - loss: 0.8637 - acc: 0.7747 - val_loss: 1.0040 - val_acc: 0.7847\n",
      "Epoch 48/100\n",
      "256/256 [==============================] - 53s 209ms/step - loss: 0.8556 - acc: 0.7765 - val_loss: 0.8038 - val_acc: 0.8183\n",
      "Epoch 49/100\n",
      "256/256 [==============================] - 53s 208ms/step - loss: 0.8466 - acc: 0.7757 - val_loss: 0.8104 - val_acc: 0.8102\n",
      "Epoch 50/100\n",
      "256/256 [==============================] - 53s 206ms/step - loss: 0.8472 - acc: 0.7767 - val_loss: 0.8000 - val_acc: 0.8052\n",
      "Epoch 51/100\n",
      "256/256 [==============================] - 53s 207ms/step - loss: 0.8379 - acc: 0.7794 - val_loss: 0.8083 - val_acc: 0.8048\n",
      "Epoch 52/100\n",
      "256/256 [==============================] - 53s 209ms/step - loss: 0.8377 - acc: 0.7822 - val_loss: 0.8579 - val_acc: 0.8025\n",
      "Epoch 53/100\n",
      "256/256 [==============================] - 54s 209ms/step - loss: 0.8358 - acc: 0.7808 - val_loss: 0.8279 - val_acc: 0.8234\n",
      "Epoch 54/100\n",
      "256/256 [==============================] - 54s 210ms/step - loss: 0.8530 - acc: 0.7804 - val_loss: 0.8530 - val_acc: 0.7947\n",
      "Epoch 55/100\n",
      "256/256 [==============================] - 52s 204ms/step - loss: 0.8332 - acc: 0.7820 - val_loss: 0.7381 - val_acc: 0.8200\n",
      "Epoch 56/100\n",
      "256/256 [==============================] - 53s 206ms/step - loss: 0.8339 - acc: 0.7833 - val_loss: 0.8628 - val_acc: 0.8022\n",
      "Epoch 57/100\n",
      "256/256 [==============================] - 52s 204ms/step - loss: 0.8215 - acc: 0.7865 - val_loss: 0.7974 - val_acc: 0.8014\n",
      "Epoch 58/100\n",
      "256/256 [==============================] - 52s 204ms/step - loss: 0.8378 - acc: 0.7854 - val_loss: 0.7966 - val_acc: 0.8075\n",
      "Epoch 59/100\n",
      "256/256 [==============================] - 53s 206ms/step - loss: 0.8141 - acc: 0.7891 - val_loss: 0.8412 - val_acc: 0.8117\n",
      "Epoch 60/100\n",
      "256/256 [==============================] - 53s 209ms/step - loss: 0.8167 - acc: 0.7889 - val_loss: 0.7134 - val_acc: 0.8267\n",
      "Epoch 61/100\n",
      "256/256 [==============================] - 54s 211ms/step - loss: 0.8187 - acc: 0.7881 - val_loss: 0.6696 - val_acc: 0.8431\n",
      "Epoch 62/100\n",
      "256/256 [==============================] - 54s 210ms/step - loss: 0.8235 - acc: 0.7895 - val_loss: 0.8045 - val_acc: 0.8084\n",
      "Epoch 63/100\n",
      "256/256 [==============================] - 53s 208ms/step - loss: 0.8119 - acc: 0.7896 - val_loss: 0.7344 - val_acc: 0.8283\n",
      "Epoch 64/100\n",
      "256/256 [==============================] - 54s 210ms/step - loss: 0.8133 - acc: 0.7931 - val_loss: 0.7414 - val_acc: 0.8256\n",
      "Epoch 65/100\n",
      "256/256 [==============================] - 52s 203ms/step - loss: 0.8053 - acc: 0.7921 - val_loss: 0.6627 - val_acc: 0.8411\n",
      "Epoch 66/100\n",
      "256/256 [==============================] - 53s 208ms/step - loss: 0.8045 - acc: 0.7935 - val_loss: 0.9052 - val_acc: 0.8162\n",
      "Epoch 67/100\n",
      "256/256 [==============================] - 53s 207ms/step - loss: 0.7980 - acc: 0.7937 - val_loss: 0.7058 - val_acc: 0.8256\n",
      "Epoch 68/100\n",
      "256/256 [==============================] - 52s 202ms/step - loss: 0.8098 - acc: 0.7907 - val_loss: 0.9939 - val_acc: 0.7562\n",
      "Epoch 69/100\n",
      "256/256 [==============================] - 52s 204ms/step - loss: 0.8070 - acc: 0.7935 - val_loss: 0.6957 - val_acc: 0.8332\n",
      "Epoch 70/100\n",
      "256/256 [==============================] - 54s 209ms/step - loss: 0.8027 - acc: 0.7948 - val_loss: 0.7725 - val_acc: 0.8156\n",
      "Epoch 71/100\n",
      "256/256 [==============================] - 53s 208ms/step - loss: 0.8006 - acc: 0.7956 - val_loss: 0.9881 - val_acc: 0.7710\n",
      "Epoch 72/100\n",
      "256/256 [==============================] - 53s 209ms/step - loss: 0.7955 - acc: 0.7977 - val_loss: 0.8430 - val_acc: 0.7972\n",
      "Epoch 73/100\n",
      "256/256 [==============================] - 53s 208ms/step - loss: 0.7906 - acc: 0.7959 - val_loss: 0.7233 - val_acc: 0.8262\n",
      "Epoch 74/100\n",
      "256/256 [==============================] - 53s 207ms/step - loss: 0.8033 - acc: 0.7974 - val_loss: 0.7361 - val_acc: 0.8261\n",
      "Epoch 75/100\n",
      "256/256 [==============================] - 53s 209ms/step - loss: 0.7883 - acc: 0.7998 - val_loss: 0.8388 - val_acc: 0.7927\n",
      "Epoch 76/100\n",
      "256/256 [==============================] - 52s 205ms/step - loss: 0.8079 - acc: 0.7958 - val_loss: 0.7090 - val_acc: 0.8447\n",
      "Epoch 77/100\n",
      "256/256 [==============================] - 54s 210ms/step - loss: 0.7376 - acc: 0.8130 - val_loss: 0.6295 - val_acc: 0.8553\n",
      "Epoch 78/100\n",
      "256/256 [==============================] - 53s 206ms/step - loss: 0.7268 - acc: 0.8178 - val_loss: 0.6368 - val_acc: 0.8527\n",
      "Epoch 79/100\n",
      "256/256 [==============================] - 53s 209ms/step - loss: 0.7064 - acc: 0.8234 - val_loss: 0.6131 - val_acc: 0.8607\n",
      "Epoch 80/100\n",
      "256/256 [==============================] - 54s 209ms/step - loss: 0.7026 - acc: 0.8225 - val_loss: 0.6691 - val_acc: 0.8493\n",
      "Epoch 81/100\n",
      "256/256 [==============================] - 53s 208ms/step - loss: 0.6947 - acc: 0.8233 - val_loss: 0.6618 - val_acc: 0.8622\n",
      "Epoch 82/100\n",
      "256/256 [==============================] - 53s 207ms/step - loss: 0.6894 - acc: 0.8252 - val_loss: 0.6294 - val_acc: 0.8549\n",
      "Epoch 83/100\n",
      "256/256 [==============================] - 53s 208ms/step - loss: 0.6826 - acc: 0.8255 - val_loss: 0.5943 - val_acc: 0.8684\n",
      "Epoch 84/100\n",
      "256/256 [==============================] - 53s 209ms/step - loss: 0.6826 - acc: 0.8268 - val_loss: 0.5987 - val_acc: 0.8610\n",
      "Epoch 85/100\n",
      "256/256 [==============================] - 54s 211ms/step - loss: 0.6735 - acc: 0.8290 - val_loss: 0.6757 - val_acc: 0.8440\n",
      "Epoch 86/100\n",
      "256/256 [==============================] - 51s 197ms/step - loss: 0.6771 - acc: 0.8250 - val_loss: 0.8001 - val_acc: 0.8243\n",
      "Epoch 87/100\n",
      "256/256 [==============================] - 51s 198ms/step - loss: 0.6746 - acc: 0.8279 - val_loss: 0.6825 - val_acc: 0.8477\n",
      "Epoch 88/100\n",
      "256/256 [==============================] - 51s 198ms/step - loss: 0.6611 - acc: 0.8311 - val_loss: 0.7092 - val_acc: 0.8485\n",
      "Epoch 89/100\n",
      "256/256 [==============================] - 52s 201ms/step - loss: 0.6680 - acc: 0.8270 - val_loss: 0.6296 - val_acc: 0.8543\n",
      "Epoch 90/100\n",
      "256/256 [==============================] - 51s 201ms/step - loss: 0.6577 - acc: 0.8293 - val_loss: 0.6060 - val_acc: 0.8545\n",
      "Epoch 91/100\n",
      "256/256 [==============================] - 51s 200ms/step - loss: 0.6576 - acc: 0.8297 - val_loss: 0.6359 - val_acc: 0.8608\n",
      "Epoch 92/100\n",
      "256/256 [==============================] - 52s 204ms/step - loss: 0.6550 - acc: 0.8301 - val_loss: 0.5976 - val_acc: 0.8546\n",
      "Epoch 93/100\n",
      "256/256 [==============================] - 52s 203ms/step - loss: 0.6585 - acc: 0.8304 - val_loss: 0.6303 - val_acc: 0.8573\n",
      "Epoch 94/100\n",
      "256/256 [==============================] - 52s 202ms/step - loss: 0.6520 - acc: 0.8324 - val_loss: 0.6005 - val_acc: 0.8727\n",
      "Epoch 95/100\n",
      "256/256 [==============================] - 52s 205ms/step - loss: 0.6497 - acc: 0.8330 - val_loss: 0.6451 - val_acc: 0.8522\n",
      "Epoch 96/100\n",
      "256/256 [==============================] - 52s 204ms/step - loss: 0.6580 - acc: 0.8306 - val_loss: 0.6958 - val_acc: 0.8405\n",
      "Epoch 97/100\n",
      "256/256 [==============================] - 53s 208ms/step - loss: 0.6452 - acc: 0.8326 - val_loss: 0.5731 - val_acc: 0.8683\n",
      "Epoch 98/100\n",
      "256/256 [==============================] - 53s 208ms/step - loss: 0.6479 - acc: 0.8308 - val_loss: 0.6091 - val_acc: 0.8640\n",
      "Epoch 99/100\n",
      "256/256 [==============================] - 53s 206ms/step - loss: 0.6464 - acc: 0.8332 - val_loss: 0.5491 - val_acc: 0.8709\n",
      "Epoch 100/100\n",
      "256/256 [==============================] - 54s 209ms/step - loss: 0.6412 - acc: 0.8327 - val_loss: 0.6647 - val_acc: 0.8471\n"
     ]
    }
   ],
   "source": [
    "from keras import optimizers\n",
    "import keras\n",
    "from keras.callbacks import LearningRateScheduler\n",
    "\n",
    "\n",
    "# learning_rate = 1E-5 # to be tuned!\n",
    "\n",
    "# model.compile(loss='categorical_crossentropy',\n",
    "#               optimizer=optimizers.RMSprop(lr=learning_rate),\n",
    "#               metrics=['acc'])\n",
    "\n",
    "def lr_schedule(epoch):\n",
    "    lrate = 0.001\n",
    "    if epoch > 75:\n",
    "        lrate = 0.0005\n",
    "    elif epoch > 100:\n",
    "        lrate = 0.0003        \n",
    "    return lrate\n",
    "\n",
    "batch_size = 128\n",
    "\n",
    "opt_rms = keras.optimizers.rmsprop(lr=0.001,decay=1e-6)\n",
    "model.compile(loss='categorical_crossentropy', optimizer=opt_rms, metrics=['accuracy'])\n",
    "history = model.fit_generator(gen.flow(x_tr, y_tr, batch_size=batch_size), batch_size,epochs=100,verbose=1,validation_data=(x_val,y_val),\n",
    "                   callbacks=[LearningRateScheduler(lr_schedule)])"
   ]
  },
  {
   "cell_type": "code",
   "execution_count": 24,
   "metadata": {
    "colab": {
     "base_uri": "https://localhost:8080/",
     "height": 281
    },
    "colab_type": "code",
    "id": "n86-q9GzQVNi",
    "outputId": "b5c3c1a5-d56f-4163-fbf6-7e9458845991"
   },
   "outputs": [
    {
     "data": {
      "image/png": "[encoded data removed]",
      "text/plain": [
       "<Figure size 432x288 with 1 Axes>"
      ]
     },
     "metadata": {
      "tags": []
     },
     "output_type": "display_data"
    }
   ],
   "source": [
    "import matplotlib.pyplot as plt\n",
    "%matplotlib inline\n",
    "\n",
    "acc = history.history['acc']\n",
    "val_acc = history.history['val_acc']\n",
    "\n",
    "epochs = range(len(acc))\n",
    "\n",
    "plt.plot(epochs, acc, 'bo', label='Training acc')\n",
    "plt.plot(epochs, val_acc, 'r', label='Validation acc')\n",
    "plt.xlabel('Epochs')\n",
    "plt.ylabel('Accuracy')\n",
    "plt.legend()\n",
    "plt.show()"
   ]
  },
  {
   "cell_type": "markdown",
   "metadata": {
    "colab_type": "text",
    "id": "xXZuu7ZxQVNk"
   },
   "source": [
    "## 3. Train (again) and evaluate the model\n",
    "\n",
    "- To this end, you have found the \"best\" hyper-parameters. \n",
    "- Now, fix the hyper-parameters and train the network on the entire training set (all the 50K training samples)\n",
    "- Evaluate your model on the test set."
   ]
  },
  {
   "cell_type": "markdown",
   "metadata": {
    "colab_type": "text",
    "id": "80yxKgyyQVNk"
   },
   "source": [
    "### 3.1. Train the model on the entire training set\n",
    "\n",
    "Why? Previously, you used 40K samples for training; you wasted 10K samples for the sake of hyper-parameter tuning. Now you already know the hyper-parameters, so why not using all the 50K samples for training?"
   ]
  },
  {
   "cell_type": "code",
   "execution_count": 0,
   "metadata": {
    "colab": {},
    "colab_type": "code",
    "id": "Igbnvsh6QVNl"
   },
   "outputs": [],
   "source": [
    "<Compile your model again (using the same hyper-parameters)>\n",
    "..."
   ]
  },
  {
   "cell_type": "code",
   "execution_count": 8,
   "metadata": {
    "colab": {
     "base_uri": "https://localhost:8080/",
     "height": 1000
    },
    "colab_type": "code",
    "id": "ZQiw2Ba6QVNm",
    "outputId": "ea52f49f-4604-4bfa-d8bb-ed81375ffa98"
   },
   "outputs": [
    {
     "name": "stdout",
     "output_type": "stream",
     "text": [
      "WARNING:tensorflow:From /usr/local/lib/python3.6/dist-packages/keras/optimizers.py:793: The name tf.train.Optimizer is deprecated. Please use tf.compat.v1.train.Optimizer instead.\n",
      "\n",
      "WARNING:tensorflow:From /usr/local/lib/python3.6/dist-packages/keras/backend/tensorflow_backend.py:3576: The name tf.log is deprecated. Please use tf.math.log instead.\n",
      "\n",
      "WARNING:tensorflow:From /usr/local/lib/python3.6/dist-packages/tensorflow_core/python/ops/math_grad.py:1424: where (from tensorflow.python.ops.array_ops) is deprecated and will be removed in a future version.\n",
      "Instructions for updating:\n",
      "Use tf.where in 2.0, which has the same broadcast rule as np.where\n",
      "WARNING:tensorflow:From /usr/local/lib/python3.6/dist-packages/keras/backend/tensorflow_backend.py:1033: The name tf.assign_add is deprecated. Please use tf.compat.v1.assign_add instead.\n",
      "\n",
      "WARNING:tensorflow:From /usr/local/lib/python3.6/dist-packages/keras/backend/tensorflow_backend.py:1020: The name tf.assign is deprecated. Please use tf.compat.v1.assign instead.\n",
      "\n",
      "Epoch 1/100\n",
      "256/256 [==============================] - 56s 218ms/step - loss: 2.0951 - acc: 0.3412\n",
      "Epoch 2/100\n",
      "256/256 [==============================] - 51s 199ms/step - loss: 1.6374 - acc: 0.4803\n",
      "Epoch 3/100\n",
      "256/256 [==============================] - 52s 201ms/step - loss: 1.4808 - acc: 0.5342\n",
      "Epoch 4/100\n",
      "256/256 [==============================] - 52s 203ms/step - loss: 1.3659 - acc: 0.5757\n",
      "Epoch 5/100\n",
      "256/256 [==============================] - 52s 201ms/step - loss: 1.2914 - acc: 0.6034\n",
      "Epoch 6/100\n",
      "256/256 [==============================] - 52s 205ms/step - loss: 1.2344 - acc: 0.6258\n",
      "Epoch 7/100\n",
      "256/256 [==============================] - 52s 204ms/step - loss: 1.1894 - acc: 0.6434\n",
      "Epoch 8/100\n",
      "256/256 [==============================] - 52s 204ms/step - loss: 1.1557 - acc: 0.6580\n",
      "Epoch 9/100\n",
      "256/256 [==============================] - 52s 204ms/step - loss: 1.1803 - acc: 0.6609\n",
      "Epoch 10/100\n",
      "256/256 [==============================] - 52s 205ms/step - loss: 1.2193 - acc: 0.6544\n",
      "Epoch 11/100\n",
      "256/256 [==============================] - 52s 204ms/step - loss: 1.2313 - acc: 0.6554\n",
      "Epoch 12/100\n",
      "256/256 [==============================] - 52s 203ms/step - loss: 1.1480 - acc: 0.6741\n",
      "Epoch 13/100\n",
      "256/256 [==============================] - 52s 204ms/step - loss: 1.1036 - acc: 0.6886\n",
      "Epoch 14/100\n",
      "256/256 [==============================] - 52s 205ms/step - loss: 1.0701 - acc: 0.6969\n",
      "Epoch 15/100\n",
      "256/256 [==============================] - 52s 204ms/step - loss: 1.0575 - acc: 0.7030\n",
      "Epoch 16/100\n",
      "256/256 [==============================] - 52s 205ms/step - loss: 1.0456 - acc: 0.7089\n",
      "Epoch 17/100\n",
      "256/256 [==============================] - 52s 202ms/step - loss: 1.0273 - acc: 0.7126\n",
      "Epoch 18/100\n",
      "256/256 [==============================] - 53s 205ms/step - loss: 1.0226 - acc: 0.7170\n",
      "Epoch 19/100\n",
      "256/256 [==============================] - 52s 203ms/step - loss: 1.0317 - acc: 0.7184\n",
      "Epoch 20/100\n",
      "256/256 [==============================] - 52s 204ms/step - loss: 1.0454 - acc: 0.7194\n",
      "Epoch 21/100\n",
      "256/256 [==============================] - 52s 203ms/step - loss: 0.9971 - acc: 0.7210\n",
      "Epoch 22/100\n",
      "256/256 [==============================] - 51s 201ms/step - loss: 0.9788 - acc: 0.7257\n",
      "Epoch 23/100\n",
      "256/256 [==============================] - 52s 205ms/step - loss: 0.9496 - acc: 0.7330\n",
      "Epoch 24/100\n",
      "256/256 [==============================] - 52s 204ms/step - loss: 0.9499 - acc: 0.7338\n",
      "Epoch 25/100\n",
      "256/256 [==============================] - 52s 204ms/step - loss: 0.9338 - acc: 0.7379\n",
      "Epoch 26/100\n",
      "256/256 [==============================] - 52s 203ms/step - loss: 0.9310 - acc: 0.7418\n",
      "Epoch 27/100\n",
      "256/256 [==============================] - 52s 203ms/step - loss: 0.9534 - acc: 0.7390\n",
      "Epoch 28/100\n",
      "256/256 [==============================] - 52s 203ms/step - loss: 0.9157 - acc: 0.7468\n",
      "Epoch 29/100\n",
      "256/256 [==============================] - 52s 204ms/step - loss: 0.9202 - acc: 0.7479\n",
      "Epoch 30/100\n",
      "256/256 [==============================] - 52s 205ms/step - loss: 0.9435 - acc: 0.7451\n",
      "Epoch 31/100\n",
      "256/256 [==============================] - 52s 204ms/step - loss: 0.8968 - acc: 0.7530\n",
      "Epoch 32/100\n",
      "256/256 [==============================] - 52s 204ms/step - loss: 0.9062 - acc: 0.7526\n",
      "Epoch 33/100\n",
      "256/256 [==============================] - 52s 205ms/step - loss: 0.9110 - acc: 0.7539\n",
      "Epoch 34/100\n",
      "256/256 [==============================] - 52s 203ms/step - loss: 0.8893 - acc: 0.7600\n",
      "Epoch 35/100\n",
      "256/256 [==============================] - 52s 204ms/step - loss: 0.8802 - acc: 0.7642\n",
      "Epoch 36/100\n",
      "256/256 [==============================] - 52s 205ms/step - loss: 0.8889 - acc: 0.7596\n",
      "Epoch 37/100\n",
      "256/256 [==============================] - 53s 206ms/step - loss: 0.8929 - acc: 0.7608\n",
      "Epoch 38/100\n",
      "256/256 [==============================] - 52s 203ms/step - loss: 0.8793 - acc: 0.7639\n",
      "Epoch 39/100\n",
      "256/256 [==============================] - 52s 204ms/step - loss: 0.8773 - acc: 0.7630\n",
      "Epoch 40/100\n",
      "256/256 [==============================] - 52s 204ms/step - loss: 0.8721 - acc: 0.7661\n",
      "Epoch 41/100\n",
      "256/256 [==============================] - 52s 203ms/step - loss: 0.8688 - acc: 0.7683\n",
      "Epoch 42/100\n",
      "256/256 [==============================] - 52s 204ms/step - loss: 0.8551 - acc: 0.7710\n",
      "Epoch 43/100\n",
      "256/256 [==============================] - 52s 203ms/step - loss: 0.8557 - acc: 0.7702\n",
      "Epoch 44/100\n",
      "256/256 [==============================] - 51s 201ms/step - loss: 0.8550 - acc: 0.7725\n",
      "Epoch 45/100\n",
      "256/256 [==============================] - 52s 203ms/step - loss: 0.8483 - acc: 0.7755\n",
      "Epoch 46/100\n",
      "256/256 [==============================] - 53s 205ms/step - loss: 0.8598 - acc: 0.7704\n",
      "Epoch 47/100\n",
      "256/256 [==============================] - 52s 205ms/step - loss: 0.8458 - acc: 0.7756\n",
      "Epoch 48/100\n",
      "256/256 [==============================] - 52s 205ms/step - loss: 0.8488 - acc: 0.7750\n",
      "Epoch 49/100\n",
      "256/256 [==============================] - 53s 205ms/step - loss: 0.8376 - acc: 0.7788\n",
      "Epoch 50/100\n",
      "256/256 [==============================] - 53s 208ms/step - loss: 0.8471 - acc: 0.7788\n",
      "Epoch 51/100\n",
      "256/256 [==============================] - 52s 204ms/step - loss: 0.8316 - acc: 0.7810\n",
      "Epoch 52/100\n",
      "256/256 [==============================] - 53s 205ms/step - loss: 0.8250 - acc: 0.7815\n",
      "Epoch 53/100\n",
      "256/256 [==============================] - 53s 207ms/step - loss: 0.8219 - acc: 0.7839\n",
      "Epoch 54/100\n",
      "256/256 [==============================] - 52s 204ms/step - loss: 0.8290 - acc: 0.7811\n",
      "Epoch 55/100\n",
      "256/256 [==============================] - 51s 198ms/step - loss: 0.8201 - acc: 0.7825\n",
      "Epoch 56/100\n",
      "256/256 [==============================] - 52s 201ms/step - loss: 0.8127 - acc: 0.7873\n",
      "Epoch 57/100\n",
      "256/256 [==============================] - 51s 201ms/step - loss: 0.8153 - acc: 0.7880\n",
      "Epoch 58/100\n",
      "256/256 [==============================] - 51s 201ms/step - loss: 0.8323 - acc: 0.7844\n",
      "Epoch 59/100\n",
      "256/256 [==============================] - 52s 203ms/step - loss: 0.8225 - acc: 0.7847\n",
      "Epoch 60/100\n",
      "256/256 [==============================] - 51s 200ms/step - loss: 0.8173 - acc: 0.7880\n",
      "Epoch 61/100\n",
      "256/256 [==============================] - 52s 203ms/step - loss: 0.8161 - acc: 0.7879\n",
      "Epoch 62/100\n",
      "256/256 [==============================] - 53s 206ms/step - loss: 0.8112 - acc: 0.7892\n",
      "Epoch 63/100\n",
      "256/256 [==============================] - 51s 198ms/step - loss: 0.8001 - acc: 0.7903\n",
      "Epoch 64/100\n",
      "256/256 [==============================] - 51s 201ms/step - loss: 0.8000 - acc: 0.7901\n",
      "Epoch 65/100\n",
      "256/256 [==============================] - 52s 202ms/step - loss: 0.8126 - acc: 0.7902\n",
      "Epoch 66/100\n",
      "256/256 [==============================] - 52s 204ms/step - loss: 0.8043 - acc: 0.7907\n",
      "Epoch 67/100\n",
      "256/256 [==============================] - 53s 206ms/step - loss: 0.8033 - acc: 0.7909\n",
      "Epoch 68/100\n",
      "256/256 [==============================] - 49s 193ms/step - loss: 0.7924 - acc: 0.7932\n",
      "Epoch 69/100\n",
      "256/256 [==============================] - 50s 195ms/step - loss: 0.8054 - acc: 0.7936\n",
      "Epoch 70/100\n",
      "256/256 [==============================] - 51s 197ms/step - loss: 0.8086 - acc: 0.7918\n",
      "Epoch 71/100\n",
      "256/256 [==============================] - 51s 199ms/step - loss: 0.7931 - acc: 0.7938\n",
      "Epoch 72/100\n",
      "256/256 [==============================] - 51s 199ms/step - loss: 0.7957 - acc: 0.7966\n",
      "Epoch 73/100\n",
      "256/256 [==============================] - 50s 195ms/step - loss: 0.7891 - acc: 0.7983\n",
      "Epoch 74/100\n",
      "256/256 [==============================] - 50s 197ms/step - loss: 0.7995 - acc: 0.7932\n",
      "Epoch 75/100\n",
      "256/256 [==============================] - 50s 195ms/step - loss: 0.7949 - acc: 0.7976\n",
      "Epoch 76/100\n",
      "256/256 [==============================] - 51s 200ms/step - loss: 0.7881 - acc: 0.7981\n",
      "Epoch 77/100\n",
      "256/256 [==============================] - 51s 200ms/step - loss: 0.7380 - acc: 0.8115\n",
      "Epoch 78/100\n",
      "256/256 [==============================] - 53s 206ms/step - loss: 0.7208 - acc: 0.8144\n",
      "Epoch 79/100\n",
      "256/256 [==============================] - 52s 205ms/step - loss: 0.7097 - acc: 0.8189\n",
      "Epoch 80/100\n",
      "256/256 [==============================] - 53s 206ms/step - loss: 0.6959 - acc: 0.8231\n",
      "Epoch 81/100\n",
      "256/256 [==============================] - 53s 205ms/step - loss: 0.6970 - acc: 0.8225\n",
      "Epoch 82/100\n",
      "256/256 [==============================] - 52s 205ms/step - loss: 0.6980 - acc: 0.8218\n",
      "Epoch 83/100\n",
      "256/256 [==============================] - 52s 203ms/step - loss: 0.6874 - acc: 0.8230\n",
      "Epoch 84/100\n",
      "256/256 [==============================] - 53s 207ms/step - loss: 0.6777 - acc: 0.8259\n",
      "Epoch 85/100\n",
      "256/256 [==============================] - 53s 205ms/step - loss: 0.6808 - acc: 0.8249\n",
      "Epoch 86/100\n",
      "256/256 [==============================] - 53s 205ms/step - loss: 0.6782 - acc: 0.8263\n",
      "Epoch 87/100\n",
      "256/256 [==============================] - 53s 206ms/step - loss: 0.6639 - acc: 0.8261\n",
      "Epoch 88/100\n",
      "256/256 [==============================] - 52s 205ms/step - loss: 0.6661 - acc: 0.8278\n",
      "Epoch 89/100\n",
      "256/256 [==============================] - 51s 201ms/step - loss: 0.6633 - acc: 0.8273\n",
      "Epoch 90/100\n",
      "256/256 [==============================] - 51s 200ms/step - loss: 0.6577 - acc: 0.8286\n",
      "Epoch 91/100\n",
      "256/256 [==============================] - 51s 201ms/step - loss: 0.6632 - acc: 0.8287\n",
      "Epoch 92/100\n",
      "256/256 [==============================] - 52s 205ms/step - loss: 0.6548 - acc: 0.8309\n",
      "Epoch 93/100\n",
      "256/256 [==============================] - 52s 205ms/step - loss: 0.6548 - acc: 0.8290\n",
      "Epoch 94/100\n",
      "256/256 [==============================] - 52s 202ms/step - loss: 0.6581 - acc: 0.8275\n",
      "Epoch 95/100\n",
      "256/256 [==============================] - 51s 201ms/step - loss: 0.6459 - acc: 0.8318\n",
      "Epoch 96/100\n",
      "256/256 [==============================] - 52s 203ms/step - loss: 0.6406 - acc: 0.8337\n",
      "Epoch 97/100\n",
      "256/256 [==============================] - 52s 202ms/step - loss: 0.6507 - acc: 0.8318\n",
      "Epoch 98/100\n",
      "256/256 [==============================] - 52s 202ms/step - loss: 0.6470 - acc: 0.8302\n",
      "Epoch 99/100\n",
      "256/256 [==============================] - 52s 201ms/step - loss: 0.6398 - acc: 0.8321\n",
      "Epoch 100/100\n",
      "256/256 [==============================] - 52s 203ms/step - loss: 0.6417 - acc: 0.8317\n"
     ]
    }
   ],
   "source": [
    "def lr_schedule(epoch):\n",
    "    lrate = 0.001\n",
    "    if epoch > 75:\n",
    "        lrate = 0.0005\n",
    "    elif epoch > 100:\n",
    "        lrate = 0.0003        \n",
    "    return lrate\n",
    "\n",
    "batch_size = 256\n",
    "\n",
    "opt_rms = keras.optimizers.rmsprop(lr=0.001,decay=1e-6)\n",
    "model.compile(loss='categorical_crossentropy', optimizer=opt_rms, metrics=['accuracy'])\n",
    "history = model.fit_generator(gen.flow(x_train, y_train_vec, batch_size=batch_size), batch_size,epochs=100,verbose=1,\n",
    "                   callbacks=[LearningRateScheduler(lr_schedule)])"
   ]
  },
  {
   "cell_type": "markdown",
   "metadata": {
    "colab_type": "text",
    "id": "6YkX6NCRQVNo"
   },
   "source": [
    "### 3.2. Evaluate the model on the test set\n",
    "\n",
    "Do NOT used the test set until now. Make sure that your model parameters and hyper-parameters are independent of the test set."
   ]
  },
  {
   "cell_type": "code",
   "execution_count": 9,
   "metadata": {
    "colab": {
     "base_uri": "https://localhost:8080/",
     "height": 69
    },
    "colab_type": "code",
    "id": "Znerfi9GQVNp",
    "outputId": "32d8dede-f5a5-43f8-aba1-fc72e660934e"
   },
   "outputs": [
    {
     "name": "stdout",
     "output_type": "stream",
     "text": [
      "10000/10000 [==============================] - 4s 398us/step\n",
      "loss = 0.5839981410503388\n",
      "accuracy = 0.858\n"
     ]
    }
   ],
   "source": [
    "loss_and_acc = model.evaluate(x_test, y_test_vec)\n",
    "print('loss = ' + str(loss_and_acc[0]))\n",
    "print('accuracy = ' + str(loss_and_acc[1]))"
   ]
  }
 ],
 "metadata": {
  "accelerator": "GPU",
  "colab": {
   "collapsed_sections": [],
   "name": "HM3.ipynb",
   "provenance": []
  },
  "kernelspec": {
   "display_name": "Python 3",
   "language": "python",
   "name": "python3"
  },
  "language_info": {
   "codemirror_mode": {
    "name": "ipython",
    "version": 3
   },
   "file_extension": ".py",
   "mimetype": "text/x-python",
   "name": "python",
   "nbconvert_exporter": "python",
   "pygments_lexer": "ipython3",
   "version": "3.7.3"
  }
 },
 "nbformat": 4,
 "nbformat_minor": 1
}
